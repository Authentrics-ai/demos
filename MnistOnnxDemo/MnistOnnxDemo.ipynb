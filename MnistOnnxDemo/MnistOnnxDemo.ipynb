{
  "cells": [
    {
      "cell_type": "markdown",
      "id": "224f19fc-b5bd-489a-87d4-dba081b5bdca",
      "metadata": {
        "id": "224f19fc-b5bd-489a-87d4-dba081b5bdca"
      },
      "source": [
        "# Demonstration of Authentrics.ai Static & Dynamic Analysis"
      ]
    },
    {
      "cell_type": "markdown",
      "id": "15cf81ea-bb4a-4f8b-b5b2-2aca0fdfd1db",
      "metadata": {
        "id": "15cf81ea-bb4a-4f8b-b5b2-2aca0fdfd1db",
        "tags": []
      },
      "source": [
        "## Setup"
      ]
    },
    {
      "cell_type": "markdown",
      "id": "cf50b13093ec83f0",
      "metadata": {
        "id": "cf50b13093ec83f0"
      },
      "source": [
        "### Install dependencies and utility functions: This cell should be run once."
      ]
    },
    {
      "cell_type": "code",
      "execution_count": 1,
      "id": "50611890be6eb16d",
      "metadata": {
        "ExecuteTime": {
          "end_time": "2025-08-04T21:53:57.458507Z",
          "start_time": "2025-08-04T21:53:48.115721Z"
        },
        "id": "50611890be6eb16d"
      },
      "outputs": [],
      "source": [
        "%%capture\n",
        "\n",
        "%pip install matplotlib numpy pandas requests tqdm ipywidgets\n",
        "%pip install --ignore-installed 'git+https://github.com/Authentrics-ai/authentrics-client.git@v1.1.0'\n",
        "\n",
        "from pathlib import Path\n",
        "\n",
        "import os\n",
        "import authentrics_client as authrx\n",
        "import matplotlib.pyplot as plt\n",
        "import numpy as np\n",
        "import pandas as pd\n",
        "import requests\n",
        "from datetime import datetime\n",
        "import time\n",
        "from tqdm.notebook import tqdm\n",
        "from IPython.display import display, HTML, clear_output\n",
        "import ipywidgets as widgets\n",
        "from threading import Thread\n",
        "import contextlib\n",
        "\n",
        "# Utility functions for loading indicators\n",
        "@contextlib.contextmanager\n",
        "def loading_spinner(message=\"Processing...\"):\n",
        "    \"\"\"Context manager for showing a loading spinner\"\"\"\n",
        "    spinner_widget = widgets.HTML(value=f\"\"\"\n",
        "    <div style=\"display: flex; align-items: center; gap: 10px;\">\n",
        "        <div style=\"width: 20px; height: 20px; border: 2px solid #f3f3f3; border-top: 2px solid #3498db; border-radius: 50%; animation: spin 1s linear infinite;\"></div>\n",
        "        <span style=\"font-size: 14px; color: #555;\">{message}</span>\n",
        "    </div>\n",
        "    <style>\n",
        "    @keyframes spin {{\n",
        "        0% {{ transform: rotate(0deg); }}\n",
        "        100% {{ transform: rotate(360deg); }}\n",
        "    }}\n",
        "    </style>\n",
        "    \"\"\")\n",
        "    display(spinner_widget)\n",
        "    try:\n",
        "        yield\n",
        "    finally:\n",
        "        spinner_widget.close()\n",
        "\n",
        "def show_progress_bar(total, description=\"Progress\"):\n",
        "    \"\"\"Create and return a progress bar\"\"\"\n",
        "    return tqdm(total=total, desc=description, bar_format='{l_bar}{bar}| {n_fmt}/{total_fmt} [{elapsed}<{remaining}]')\n",
        "\n",
        "def wait_for_analytics(project_id, min_wait_time=30, max_wait_time=300, check_interval=10):\n",
        "    \"\"\"\n",
        "    Wait for ALL analytics to be complete before continuing.\n",
        "    This prevents NaN values from appearing in the summary table.\n",
        "    \"\"\"\n",
        "    import time\n",
        "\n",
        "    print(\"🔄 Waiting for analytics to process...\")\n",
        "    countdown_widget = widgets.HTML()\n",
        "    display(countdown_widget)\n",
        "\n",
        "    # Minimum wait with countdown\n",
        "    for remaining in range(min_wait_time, 0, -1):\n",
        "        countdown_widget.value = f\"\"\"\n",
        "        <div style=\"display: flex; align-items: center; gap: 10px; margin: 10px 0;\">\n",
        "            <div style=\"width: 20px; height: 20px; border: 2px solid #f3f3f3; border-top: 2px solid #3498db; border-radius: 50%; animation: spin 1s linear infinite;\"></div>\n",
        "            <span style=\"font-size: 14px; color: #555;\">Minimum wait period: {remaining} seconds remaining...</span>\n",
        "        </div>\n",
        "        <style>\n",
        "        @keyframes spin {{\n",
        "            0% {{ transform: rotate(0deg); }}\n",
        "            100% {{ transform: rotate(360deg); }}\n",
        "        }}\n",
        "        </style>\n",
        "        \"\"\"\n",
        "        time.sleep(1)\n",
        "\n",
        "    # Poll until ALL analytics are complete\n",
        "    start_polling = time.time()\n",
        "    attempt = 1\n",
        "\n",
        "    while (time.time() - start_polling) < (max_wait_time - min_wait_time):\n",
        "        try:\n",
        "            project = client.project.get_project_by_id(project_id)\n",
        "            files = project[\"file_list\"][1:]  # Skip base model\n",
        "\n",
        "            # Check that ALL files have both weight and bias contributions\n",
        "            files_missing_analytics = []\n",
        "            for f in files:\n",
        "                if (f.get(\"total_weight_contribution\") is None or\n",
        "                    f.get(\"total_bias_contribution\") is None):\n",
        "                    files_missing_analytics.append(f[\"file_name\"])\n",
        "\n",
        "            # Only continue if ALL analytics are complete\n",
        "            if not files_missing_analytics:\n",
        "                countdown_widget.value = \"\"\"\n",
        "                <div style=\"color: green; font-weight: bold; margin: 10px 0;\">\n",
        "                    ✅ All analytics are complete!\n",
        "                </div>\n",
        "                \"\"\"\n",
        "                return True\n",
        "\n",
        "            # Show progress with specific missing files\n",
        "            total_files = len(files)\n",
        "            completed_files = total_files - len(files_missing_analytics)\n",
        "            progress_pct = (completed_files / total_files * 100) if total_files > 0 else 0\n",
        "\n",
        "            missing_display = ', '.join(files_missing_analytics[:3])\n",
        "            if len(files_missing_analytics) > 3:\n",
        "                missing_display += f\" and {len(files_missing_analytics) - 3} more\"\n",
        "\n",
        "            countdown_widget.value = f\"\"\"\n",
        "            <div style=\"display: flex; align-items: center; gap: 10px; margin: 10px 0;\">\n",
        "                <div style=\"width: 20px; height: 20px; border: 2px solid #f3f3f3; border-top: 2px solid #orange; border-radius: 50%; animation: spin 1s linear infinite;\"></div>\n",
        "                <span style=\"font-size: 14px; color: #555;\">\n",
        "                    Attempt {attempt}: {completed_files}/{total_files} files complete ({progress_pct:.1f}%)\n",
        "                    <br/>⏳ Waiting for: {missing_display}\n",
        "                </span>\n",
        "            </div>\n",
        "            <style>\n",
        "            @keyframes spin {{\n",
        "                0% {{ transform: rotate(0deg); }}\n",
        "                100% {{ transform: rotate(360deg); }}\n",
        "            }}\n",
        "            </style>\n",
        "            \"\"\"\n",
        "            attempt += 1\n",
        "            time.sleep(check_interval)\n",
        "\n",
        "        except Exception as e:\n",
        "            print(f\"⚠️ Error checking analytics status: {e}\")\n",
        "            time.sleep(check_interval)\n",
        "\n",
        "    # Timeout reached - show final status\n",
        "    try:\n",
        "        project = client.project.get_project_by_id(project_id)\n",
        "        files = project[\"file_list\"][1:]\n",
        "        files_missing_analytics = [f[\"file_name\"] for f in files\n",
        "                                 if (f.get(\"total_weight_contribution\") is None or\n",
        "                                     f.get(\"total_bias_contribution\") is None)]\n",
        "\n",
        "        if files_missing_analytics:\n",
        "            countdown_widget.value = f\"\"\"\n",
        "            <div style=\"color: red; font-weight: bold; margin: 10px 0;\">\n",
        "                ⚠️ Timeout: Analytics incomplete for {len(files_missing_analytics)} files.\n",
        "                <br/>NaN values will appear for: {', '.join(files_missing_analytics[:5])}\n",
        "                <br/>Consider increasing wait time or contacting support.\n",
        "            </div>\n",
        "            \"\"\"\n",
        "            return False\n",
        "        else:\n",
        "            countdown_widget.value = \"\"\"\n",
        "            <div style=\"color: green; font-weight: bold; margin: 10px 0;\">\n",
        "                ✅ All analytics completed just in time!\n",
        "            </div>\n",
        "            \"\"\"\n",
        "            return True\n",
        "    except Exception as e:\n",
        "        countdown_widget.value = f\"\"\"\n",
        "        <div style=\"color: red; font-weight: bold; margin: 10px 0;\">\n",
        "            ❌ Error checking final status: {e}\n",
        "        </div>\n",
        "        \"\"\"\n",
        "        return False"
      ]
    },
    {
      "cell_type": "markdown",
      "id": "eb12db03c46ba80d",
      "metadata": {
        "id": "eb12db03c46ba80d"
      },
      "source": [
        "### Contact Authentrics for the URL and user credentials info@authentrics.ai"
      ]
    },
    {
      "cell_type": "code",
      "execution_count": 2,
      "id": "9eadfb109804e4bd",
      "metadata": {
        "ExecuteTime": {
          "end_time": "2025-08-04T21:57:19.033568Z",
          "start_time": "2025-08-04T21:57:19.026852Z"
        },
        "id": "9eadfb109804e4bd"
      },
      "outputs": [],
      "source": [
        "DEMO_SERVER_URL = input(\"Enter your Authentrics URL: \")\n",
        "PROJECT_NAME = \"MNIST\"\n",
        "\n",
        "pd.options.display.precision = 5\n",
        "pd.options.display.chop_threshold = None\n",
        "\n"
      ]
    },
    {
      "cell_type": "markdown",
      "id": "c8c86e41eccb62b3",
      "metadata": {},
      "source": [
        "### Input your classes used for classification here"
      ]
    },
    {
      "cell_type": "code",
      "execution_count": 3,
      "id": "dc95c92b8f56b2b8",
      "metadata": {},
      "outputs": [],
      "source": [
        "classes = [\"0\",\"1\",\"2\",\"3\",\"4\",\"5\",\"6\",\"7\",\"8\",\"9\"]"
      ]
    },
    {
      "cell_type": "markdown",
      "id": "ce3edd3f92054ed9",
      "metadata": {
        "id": "ce3edd3f92054ed9"
      },
      "source": [
        "### Establish a session with Authentrics\n",
        "- Rerun this cell if your session expires"
      ]
    },
    {
      "cell_type": "code",
      "execution_count": 4,
      "id": "50d8619235c75752",
      "metadata": {
        "ExecuteTime": {
          "end_time": "2025-08-04T21:57:59.494968Z",
          "start_time": "2025-08-04T21:57:50.532858Z"
        },
        "colab": {
          "base_uri": "https://localhost:8080/"
        },
        "id": "50d8619235c75752",
        "outputId": "34699578-dd00-4d1a-8e8a-05ae97e4426c"
      },
      "outputs": [
        {
          "name": "stdout",
          "output_type": "stream",
          "text": [
            "✅ Session established successfully!\n"
          ]
        }
      ],
      "source": [
        "client = authrx.AuthentricsClient(DEMO_SERVER_URL)\n",
        "client.auth.login()\n",
        "print(\"✅ Session established successfully!\")"
      ]
    },
    {
      "cell_type": "markdown",
      "id": "a118579c5b9c22e2",
      "metadata": {
        "id": "a118579c5b9c22e2"
      },
      "source": [
        "### Generate a project in Authentrics to track checkpoints, and perform asynchronous analytics\n",
        "1. Creates a project for checkpoint management.\n",
        "2. **Option A**: Point to existing checkpoint storage (no data movement required).\n",
        "3. **Option B**: Upload checkpoints directly through our client (automated storage and versioning)."
      ]
    },
    {
      "cell_type": "code",
      "execution_count": 5,
      "id": "40e92816e049c27",
      "metadata": {
        "ExecuteTime": {
          "end_time": "2025-08-04T21:58:03.088846Z",
          "start_time": "2025-08-04T21:58:02.431874Z"
        },
        "id": "40e92816e049c27"
      },
      "outputs": [],
      "source": [
        "projects = client.project.get_projects()\n",
        "if projects is not None:\n",
        "    project = next((p for p in projects if p[\"name\"].startswith(PROJECT_NAME)), None)\n",
        "    if project:\n",
        "        client.project.delete_project(project[\"id\"], hard_delete=False)\n",
        "\n",
        "PROJECT_NAME = PROJECT_NAME + \" \" + str(int(datetime.now().timestamp()))\n",
        "project = client.project.create_project(\n",
        "    PROJECT_NAME,\n",
        "    \"A classification CNN for MNIST\",\n",
        "    authrx.FileType.ONNX,\n",
        ")\n",
        "project_id = project[\"id\"]"
      ]
    },
    {
      "cell_type": "markdown",
      "id": "c45db9b2231c7a92",
      "metadata": {
        "id": "c45db9b2231c7a92"
      },
      "source": [
        "### Point the authentrics file registry to the checkpoints using the api"
      ]
    },
    {
      "cell_type": "code",
      "execution_count": 6,
      "id": "c325ec2c2f3230e1",
      "metadata": {
        "ExecuteTime": {
          "end_time": "2025-08-04T21:58:18.620792Z",
          "start_time": "2025-08-04T21:58:17.530391Z"
        },
        "id": "c325ec2c2f3230e1",
        "outputId": "8c23c382-4d2d-4c1b-d050-bf5ea3cec055"
      },
      "outputs": [
        {
          "name": "stdout",
          "output_type": "stream",
          "text": [
            "Adding checkpoints to project...\n"
          ]
        },
        {
          "data": {
            "application/vnd.jupyter.widget-view+json": {
              "model_id": "93f14021bc5d4073afd4e4ecfa97f345",
              "version_major": 2,
              "version_minor": 0
            },
            "text/plain": [
              "Adding checkpoints:   0%|          | 0/6 [00:00<?]"
            ]
          },
          "metadata": {},
          "output_type": "display_data"
        },
        {
          "name": "stdout",
          "output_type": "stream",
          "text": [
            "Project created with id: 68d199473bf3666e62ed726c\n",
            "Project name: MNIST 1758566727\n",
            "File name: checkpoint_1.onnx\n",
            "File name: checkpoint_2.onnx\n",
            "File name: checkpoint_3.onnx\n",
            "File name: checkpoint_4.onnx\n",
            "File name: checkpoint_5.onnx\n",
            "File name: checkpoint_6.onnx\n",
            "\n",
            "============================================================\n",
            "📊 ANALYTICS PROCESSING\n",
            "============================================================\n",
            "Authentrics is now computing analytics in the background.\n",
            "This includes weight contributions and bias scores for each checkpoint.\n",
            "🔄 Waiting for analytics to process...\n"
          ]
        }
      ],
      "source": [
        "print(\"Adding checkpoints to project...\")\n",
        "with show_progress_bar(6, \"Adding checkpoints\") as pbar:\n",
        "    for i in range(6):\n",
        "        client.checkpoint.add_external_checkpoint(\n",
        "            project_id,\n",
        "            f\"demo-models/de-demo-checkpoints/altered_checkpoints/model_batch_0{i+1}.onnx\",\n",
        "            authrx.FileType.ONNX,\n",
        "            file_name=f\"checkpoint_{i+1}.onnx\",\n",
        "            tag=f\"v{i+1}\",\n",
        "        )\n",
        "        pbar.update(1)\n",
        "\n",
        "\n",
        "project = client.project.get_project_by_id(project_id)\n",
        "print(f\"Project created with id: {project_id}\")\n",
        "print(f\"Project name: {project['name']}\")\n",
        "for file in project[\"file_list\"]:\n",
        "    print(f\"File name: {file['file_name']}\")\n",
        "\n",
        "# Wait for analytics to be processed before proceeding\n",
        "print(\"\\n\" + \"=\"*60)\n",
        "print(\"📊 ANALYTICS PROCESSING\")\n",
        "print(\"=\"*60)\n",
        "print(\"Authentrics is now computing analytics in the background.\")\n",
        "print(\"This includes weight contributions and bias scores for each checkpoint.\")\n",
        "\n",
        "analytics_ready = wait_for_analytics(project_id, min_wait_time=15, max_wait_time=300)\n",
        "if not analytics_ready:\n",
        "    print(\"\\n❌ Analytics are not complete.\")\n",
        "    print(\"Please wait a moment longer and then continue. Please contact support if the issue persists.\")"
      ]
    },
    {
      "cell_type": "markdown",
      "id": "7db1901a1d1aae0f",
      "metadata": {},
      "source": [
        "### Below we define helper functions for visualizing analytics and running inference\n"
      ]
    },
    {
      "cell_type": "code",
      "execution_count": 7,
      "id": "1fa9883a271d331b",
      "metadata": {},
      "outputs": [],
      "source": [
        "def softmax(x):\n",
        "    \"\"\"Compute softmax of a 1D array\"\"\"\n",
        "    e = np.exp(x)\n",
        "    return e / np.sum(e, axis=-1)\n",
        "\n",
        "def display_sensitivity_results(result: dict, columns: list[str], classes: list[str]):\n",
        "    \"\"\"Display results in a table using Pandas\"\"\"\n",
        "    series = {}\n",
        "    for col in columns:\n",
        "        arr = np.asarray(result[col]).flatten()\n",
        "        series[col] = softmax(arr) * 100\n",
        "\n",
        "    return pd.DataFrame(series, index=classes)\n",
        "\n",
        "def plot_heatmap(results, layer_name):\n",
        "    \"\"\"Plot static analysis of several checkpoints using matplotlib\"\"\"\n",
        "    arr = np.stack([\n",
        "        result[\"absolute_bias_difference\"][layer_name]\n",
        "        for result in results\n",
        "    ], axis=1)\n",
        "    num_results = len(results)\n",
        "\n",
        "    plt.matshow(arr)\n",
        "    plt.colorbar(aspect=10)\n",
        "\n",
        "    plt.xlabel(\"Checkpoint\")\n",
        "    plt.ylabel(\"Bias Shift\")\n",
        "\n",
        "    plt.xticks(range(num_results), np.arange(num_results) + 2)\n",
        "    plt.yticks(list(range(len(classes))), sorted(classes))\n",
        "\n",
        "    plt.show()\n",
        "\n",
        "def plot_contributions(project_id):\n",
        "    # Get files\n",
        "    project = client.project.get_project_by_id(project_id)\n",
        "    files = project['file_list']\n",
        "\n",
        "    weights = [f['total_weight_contribution'] for f in files]\n",
        "    bias = [f['total_bias_contribution'] for f in files]\n",
        "    file_names = [f['file_name'] for f in files]\n",
        "\n",
        "    # --- First plot: Weight Shifts ---\n",
        "    fig1, ax1 = plt.subplots(figsize=(10, 7))\n",
        "    ax1.plot(range(len(weights)), weights, marker='o', linestyle='-', alpha=0.6)\n",
        "    ax1.set_xticks(range(len(weights)))\n",
        "    ax1.set_xticklabels(file_names, rotation=45, ha='right')\n",
        "    ax1.set_xlabel('Checkpoints')\n",
        "    ax1.set_ylabel('Total Weight Shift')\n",
        "    ax1.set_title('Weight Shifts by Training')\n",
        "    fig1.tight_layout()\n",
        "\n",
        "    # --- Second plot: Bias Shifts ---\n",
        "    fig2, ax2 = plt.subplots(figsize=(10, 7))\n",
        "    ax2.plot(range(len(bias)), bias, marker='o', linestyle='-', alpha=0.6)\n",
        "    ax2.set_xticks(range(len(bias)))\n",
        "    ax2.set_xticklabels(file_names, rotation=45, ha='right')\n",
        "    ax2.set_xlabel('Checkpoints')\n",
        "    ax2.set_ylabel('Total Bias Shift')\n",
        "    ax2.set_title('Bias Shifts by Training')\n",
        "    fig2.tight_layout()\n",
        "\n",
        "    plt.show()"
      ]
    },
    {
      "cell_type": "markdown",
      "id": "d68fc170e00a9292",
      "metadata": {
        "id": "d68fc170e00a9292"
      },
      "source": [
        "## Analytics Results\n",
        "\n",
        "Authentrics computes analytics in the background to track model changes across training iterations.\n",
        "\n",
        "1. **Weight/Bias shift tracking**: The plot below demonstrates the average weight/bias changes as percentages, tracking how model weights evolve from one checkpoint to the next during training.\n",
        "\n",
        "2. **Integration ready**: This raw analytics data can trigger alerts for unusual changes or integrate with your existing business intelligence tools.\n",
        "\n",
        "3. **Data availability**: If you don't see the graph, analytics are still processing. Wait a few minutes and rerun the cell.\n",
        "\n"
      ]
    },
    {
      "cell_type": "markdown",
      "id": "4399c1dfbf5b8b4d",
      "metadata": {},
      "source": [
        "### Weight/Bias shift per checkpoint"
      ]
    },
    {
      "cell_type": "code",
      "execution_count": 8,
      "id": "zTWXIg4Vv29l",
      "metadata": {
        "colab": {
          "base_uri": "https://localhost:8080/",
          "height": 1000
        },
        "id": "zTWXIg4Vv29l",
        "outputId": "51c782a5-0647-4147-c2d7-ccdfc736a0bc"
      },
      "outputs": [
        {
          "data": {
            "image/png": "[encoded data removed]",
            "text/plain": [
              "<Figure size 1000x700 with 1 Axes>"
            ]
          },
          "metadata": {},
          "output_type": "display_data"
        },
        {
          "data": {
            "image/png": "[encoded data removed]",
            "text/plain": [
              "<Figure size 1000x700 with 1 Axes>"
            ]
          },
          "metadata": {},
          "output_type": "display_data"
        }
      ],
      "source": [
        "with loading_spinner(\"Generating Weight/Bias shift plot per checkpoints...\"):\n",
        "    plot_contributions(project_id)"
      ]
    },
    {
      "cell_type": "markdown",
      "id": "ac3ade79-6ed6-4b66-8829-1a6a1859fe2f",
      "metadata": {
        "id": "ac3ade79-6ed6-4b66-8829-1a6a1859fe2f",
        "tags": []
      },
      "source": [
        "### Static Analysis"
      ]
    },
    {
      "cell_type": "markdown",
      "id": "5856a701-4f42-4049-8b9f-1f31dc4c2342",
      "metadata": {
        "id": "5856a701-4f42-4049-8b9f-1f31dc4c2342"
      },
      "source": [
        "Static analysis is fast, even for a large model. There is no inference performed; we only inspect the parameters within the checkpoint itself."
      ]
    },
    {
      "cell_type": "code",
      "execution_count": 9,
      "id": "9be307c7-0d14-43f9-a0c3-52dbdce30acd",
      "metadata": {
        "ExecuteTime": {
          "end_time": "2025-08-04T21:58:37.962616Z",
          "start_time": "2025-08-04T21:58:35.252772Z"
        },
        "colab": {
          "base_uri": "https://localhost:8080/"
        },
        "id": "9be307c7-0d14-43f9-a0c3-52dbdce30acd",
        "outputId": "a1bff112-85aa-4244-e909-3230a0d35c81"
      },
      "outputs": [
        {
          "name": "stdout",
          "output_type": "stream",
          "text": [
            "CPU times: user 2.82 ms, sys: 1.32 ms, total: 4.14 ms\n",
            "Wall time: 643 ms\n"
          ]
        }
      ],
      "source": [
        "%%time\n",
        "## Call Authentrics.ai software's static analysis\n",
        "file_ids = [f[\"id\"] for f in project[\"file_list\"]]\n",
        "with loading_spinner(\"Running static analysis...\"):\n",
        "    result = client.static.static_analysis(project_id=project_id, checkpoint_id=file_ids[1])"
      ]
    },
    {
      "cell_type": "markdown",
      "id": "f46c32c0-d400-4f54-a594-257395c905dd",
      "metadata": {
        "id": "f46c32c0-d400-4f54-a594-257395c905dd"
      },
      "source": [
        "This lists all the names of the bias parameters within the model."
      ]
    },
    {
      "cell_type": "code",
      "execution_count": 10,
      "id": "1bf1851c-2e59-4678-ae1d-7605f4ddb0d6",
      "metadata": {
        "ExecuteTime": {
          "end_time": "2025-08-04T21:55:32.323856Z",
          "start_time": "2025-08-04T21:55:32.317616Z"
        },
        "colab": {
          "base_uri": "https://localhost:8080/"
        },
        "id": "1bf1851c-2e59-4678-ae1d-7605f4ddb0d6",
        "outputId": "6a626d44-5739-4709-ccc4-a40875c59bee"
      },
      "outputs": [
        {
          "data": {
            "text/plain": [
              "['conv1.bias', 'conv2.bias', 'fc1.bias', 'fc2.bias']"
            ]
          },
          "execution_count": 10,
          "metadata": {},
          "output_type": "execute_result"
        }
      ],
      "source": [
        "list(result[\"absolute_bias_difference\"].keys())"
      ]
    },
    {
      "cell_type": "markdown",
      "id": "a596aef0-ed16-41a3-bb8e-7e1379eb1488",
      "metadata": {
        "id": "a596aef0-ed16-41a3-bb8e-7e1379eb1488"
      },
      "source": [
        "Performing static analysis on all the checkpoints can provide an overview of the model's transformation."
      ]
    },
    {
      "cell_type": "code",
      "execution_count": 11,
      "id": "f173392faa40631c",
      "metadata": {
        "ExecuteTime": {
          "end_time": "2025-08-04T21:55:53.389688Z",
          "start_time": "2025-08-04T21:55:35.199401Z"
        },
        "id": "f173392faa40631c",
        "outputId": "1721ea51-5cb7-405e-d959-9a0217b401e5"
      },
      "outputs": [
        {
          "name": "stdout",
          "output_type": "stream",
          "text": [
            "✅ Static analysis complete\n",
            "CPU times: user 10.9 ms, sys: 3.72 ms, total: 14.7 ms\n",
            "Wall time: 2.35 s\n"
          ]
        }
      ],
      "source": [
        "%%time\n",
        "## Call Authentrics.ai software's static analysis for each checkpoint file\n",
        "with loading_spinner(\"Running static analysis for each checkpoint file...\"):\n",
        "    results = [\n",
        "        client.static.static_analysis(project_id=project_id, checkpoint_id=project[\"file_list\"][i][\"id\"])\n",
        "        for i in range(1, 6)\n",
        "    ]\n",
        "print(\"✅ Static analysis complete\")"
      ]
    },
    {
      "cell_type": "markdown",
      "id": "8c577290-d156-4c27-b56e-956ab41c68a9",
      "metadata": {
        "id": "8c577290-d156-4c27-b56e-956ab41c68a9"
      },
      "source": [
        "The raw results variable will have a lot of information.  Please include the layer of interest to look at the changes per class"
      ]
    },
    {
      "cell_type": "code",
      "execution_count": 12,
      "id": "39a3c6c7-e294-45ec-94f1-e0f36bff2e98",
      "metadata": {
        "id": "39a3c6c7-e294-45ec-94f1-e0f36bff2e98",
        "outputId": "9e8969d5-5d8d-4a80-8b6a-a02397d31b9b"
      },
      "outputs": [
        {
          "data": {
            "image/png": "[encoded data removed]",
            "text/plain": [
              "<Figure size 400x800 with 2 Axes>"
            ]
          },
          "metadata": {},
          "output_type": "display_data"
        }
      ],
      "source": [
        "with loading_spinner(\"Generating heatmap...\"):\n",
        "    layer_name = \"fc2.bias\" # @param {\"type\":\"string\"}\n",
        "    plot_heatmap(results, layer_name)"
      ]
    },
    {
      "cell_type": "markdown",
      "id": "39bfb2dc-8bf3-4af0-aec8-7a450a4896e0",
      "metadata": {
        "id": "39bfb2dc-8bf3-4af0-aec8-7a450a4896e0",
        "tags": []
      },
      "source": [
        "#### Authentrics software enables rapid identification of critical training issues\n",
        "\n",
        "Integration into your training workflow enables proactive issue detection, preventing problematic models from reaching production."
      ]
    },
    {
      "cell_type": "markdown",
      "id": "1f826a87-d617-4fb4-85d7-ee02cee7a825",
      "metadata": {
        "id": "1f826a87-d617-4fb4-85d7-ee02cee7a825",
        "tags": []
      },
      "source": [
        "### Dynamic Analysis With Sensitivity"
      ]
    },
    {
      "cell_type": "code",
      "execution_count": 13,
      "id": "6ac9f48b-db67-4831-acdc-a6932ef84ad1",
      "metadata": {
        "ExecuteTime": {
          "end_time": "2025-08-04T21:56:05.249609Z",
          "start_time": "2025-08-04T21:56:05.247013Z"
        },
        "id": "6ac9f48b-db67-4831-acdc-a6932ef84ad1"
      },
      "outputs": [],
      "source": [
        "stimulus_name = \"mnist_stim.csv\" # @param {\"type\":\"string\"}"
      ]
    },
    {
      "cell_type": "markdown",
      "id": "5c096659375aeaa8",
      "metadata": {},
      "source": [
        "# Include your sample image/stimulus here to run inference"
      ]
    },
    {
      "cell_type": "code",
      "execution_count": 14,
      "id": "FiXy6UERHOCU",
      "metadata": {
        "colab": {
          "base_uri": "https://localhost:8080/"
        },
        "id": "FiXy6UERHOCU",
        "outputId": "0901675f-77a2-4e29-a85e-a9b81f562e47"
      },
      "outputs": [],
      "source": [
        "filepath = f\"{stimulus_name}\""
      ]
    },
    {
      "cell_type": "markdown",
      "id": "8b22427e-3712-431e-99f3-1979e06118f2",
      "metadata": {
        "id": "8b22427e-3712-431e-99f3-1979e06118f2"
      },
      "source": [
        "#### Vary the effect of the data in checkpoint 6 by 2%"
      ]
    },
    {
      "cell_type": "code",
      "execution_count": 15,
      "id": "68b9a18e00eedbc3",
      "metadata": {
        "ExecuteTime": {
          "end_time": "2025-08-04T21:56:31.814714Z",
          "start_time": "2025-08-04T21:56:27.402423Z"
        },
        "colab": {
          "base_uri": "https://localhost:8080/"
        },
        "id": "68b9a18e00eedbc3",
        "outputId": "736c0b75-2676-4711-d879-e751dbd16b2d"
      },
      "outputs": [
        {
          "name": "stdout",
          "output_type": "stream",
          "text": [
            "Running sensitivity analysis...\n"
          ]
        },
        {
          "name": "stdout",
          "output_type": "stream",
          "text": [
            "✅ Sensitivity analysis complete. Data attenuated by 0.02%.\n",
            "CPU times: user 2.84 ms, sys: 1.23 ms, total: 4.08 ms\n",
            "Wall time: 689 ms\n"
          ]
        }
      ],
      "source": [
        "%%time\n",
        "## Call Authentrics.ai software's sensitivity analysis\n",
        "print(\"Running sensitivity analysis...\")\n",
        "amplitude = 0.02\n",
        "with loading_spinner(\"Running sensitivity analysis...\"):\n",
        "    result = client.dynamic.sensitivity_analysis(\n",
        "        project_id,\n",
        "        project[\"file_list\"][5][\"id\"],\n",
        "        stimulus_path=filepath,\n",
        "        amplitude=amplitude,\n",
        "    )\n",
        "print(f\"✅ Sensitivity analysis complete. Data attenuated by {amplitude}%.\")"
      ]
    },
    {
      "cell_type": "markdown",
      "id": "61815da5-3b90-43e8-b58e-5278a234403a",
      "metadata": {
        "id": "61815da5-3b90-43e8-b58e-5278a234403a"
      },
      "source": [
        "Test the Accuracy of the model after running sensitivity analysis"
      ]
    },
    {
      "cell_type": "code",
      "execution_count": 16,
      "id": "18e522bb-5b5e-4747-a386-a3151480cbeb",
      "metadata": {
        "id": "18e522bb-5b5e-4747-a386-a3151480cbeb",
        "outputId": "58d4aa9a-1bc2-4b02-e260-72ca4b88ce78"
      },
      "outputs": [
        {
          "data": {
            "text/html": [
              "<div>\n",
              "<style scoped>\n",
              "    .dataframe tbody tr th:only-of-type {\n",
              "        vertical-align: middle;\n",
              "    }\n",
              "\n",
              "    .dataframe tbody tr th {\n",
              "        vertical-align: top;\n",
              "    }\n",
              "\n",
              "    .dataframe thead th {\n",
              "        text-align: right;\n",
              "    }\n",
              "</style>\n",
              "<table border=\"1\" class=\"dataframe\">\n",
              "  <thead>\n",
              "    <tr style=\"text-align: right;\">\n",
              "      <th></th>\n",
              "      <th>model_output</th>\n",
              "      <th>attenuated_model_output</th>\n",
              "    </tr>\n",
              "  </thead>\n",
              "  <tbody>\n",
              "    <tr>\n",
              "      <th>0</th>\n",
              "      <td>2.92495e-03</td>\n",
              "      <td>2.99198e-03</td>\n",
              "    </tr>\n",
              "    <tr>\n",
              "      <th>1</th>\n",
              "      <td>7.12434e-03</td>\n",
              "      <td>7.10766e-03</td>\n",
              "    </tr>\n",
              "    <tr>\n",
              "      <th>2</th>\n",
              "      <td>9.99017e+01</td>\n",
              "      <td>9.98988e+01</td>\n",
              "    </tr>\n",
              "    <tr>\n",
              "      <th>3</th>\n",
              "      <td>3.81637e-03</td>\n",
              "      <td>3.88208e-03</td>\n",
              "    </tr>\n",
              "    <tr>\n",
              "      <th>4</th>\n",
              "      <td>1.13622e-05</td>\n",
              "      <td>1.14398e-05</td>\n",
              "    </tr>\n",
              "    <tr>\n",
              "      <th>5</th>\n",
              "      <td>8.13864e-02</td>\n",
              "      <td>8.40700e-02</td>\n",
              "    </tr>\n",
              "    <tr>\n",
              "      <th>6</th>\n",
              "      <td>6.87266e-04</td>\n",
              "      <td>7.28652e-04</td>\n",
              "    </tr>\n",
              "    <tr>\n",
              "      <th>7</th>\n",
              "      <td>4.07145e-04</td>\n",
              "      <td>4.18932e-04</td>\n",
              "    </tr>\n",
              "    <tr>\n",
              "      <th>8</th>\n",
              "      <td>1.90754e-03</td>\n",
              "      <td>2.00659e-03</td>\n",
              "    </tr>\n",
              "    <tr>\n",
              "      <th>9</th>\n",
              "      <td>1.21445e-07</td>\n",
              "      <td>1.28117e-07</td>\n",
              "    </tr>\n",
              "  </tbody>\n",
              "</table>\n",
              "</div>"
            ],
            "text/plain": [
              "   model_output  attenuated_model_output\n",
              "0   2.92495e-03              2.99198e-03\n",
              "1   7.12434e-03              7.10766e-03\n",
              "2   9.99017e+01              9.98988e+01\n",
              "3   3.81637e-03              3.88208e-03\n",
              "4   1.13622e-05              1.14398e-05\n",
              "5   8.13864e-02              8.40700e-02\n",
              "6   6.87266e-04              7.28652e-04\n",
              "7   4.07145e-04              4.18932e-04\n",
              "8   1.90754e-03              2.00659e-03\n",
              "9   1.21445e-07              1.28117e-07"
            ]
          },
          "execution_count": 16,
          "metadata": {},
          "output_type": "execute_result"
        }
      ],
      "source": [
        "display_sensitivity_results(result, [\"model_output\", \"attenuated_model_output\"], classes)"
      ]
    },
    {
      "cell_type": "markdown",
      "id": "a5bef8c7-14b8-4030-87d9-0d3f7bb582a5",
      "metadata": {
        "id": "a5bef8c7-14b8-4030-87d9-0d3f7bb582a5",
        "tags": []
      },
      "source": [
        "#### Vary the effect of the data in checkpoint 6 by 4%"
      ]
    },
    {
      "cell_type": "code",
      "execution_count": 17,
      "id": "e3b83334-6b76-472d-9373-10479a17a1b2",
      "metadata": {
        "id": "e3b83334-6b76-472d-9373-10479a17a1b2",
        "outputId": "68370836-a56e-4be3-f16c-30d06fd21168"
      },
      "outputs": [
        {
          "name": "stdout",
          "output_type": "stream",
          "text": [
            "Running sensitivity analysis...\n"
          ]
        },
        {
          "name": "stdout",
          "output_type": "stream",
          "text": [
            "✅ Sensitivity analysis complete. Data attenuated by 0.04%.\n",
            "CPU times: user 2.57 ms, sys: 1.39 ms, total: 3.96 ms\n",
            "Wall time: 621 ms\n"
          ]
        }
      ],
      "source": [
        "%%time\n",
        "## Call Authentrics.ai software's sensitivity analysis\n",
        "print(\"Running sensitivity analysis...\")\n",
        "amplitude = 0.04\n",
        "with loading_spinner(\"Running sensitivity analysis...\"):\n",
        "    result = client.dynamic.sensitivity_analysis(\n",
        "        project_id,\n",
        "        project[\"file_list\"][5][\"id\"],\n",
        "        stimulus_path=filepath,\n",
        "        amplitude=amplitude,\n",
        "    )\n",
        "print(f\"✅ Sensitivity analysis complete. Data attenuated by {amplitude}%.\")"
      ]
    },
    {
      "cell_type": "markdown",
      "id": "c3dc20f6274aa7f",
      "metadata": {},
      "source": [
        "Test the Accuracy of the model after running sensitivity analysis"
      ]
    },
    {
      "cell_type": "code",
      "execution_count": 18,
      "id": "903f6c6ad5305653",
      "metadata": {},
      "outputs": [
        {
          "data": {
            "text/html": [
              "<div>\n",
              "<style scoped>\n",
              "    .dataframe tbody tr th:only-of-type {\n",
              "        vertical-align: middle;\n",
              "    }\n",
              "\n",
              "    .dataframe tbody tr th {\n",
              "        vertical-align: top;\n",
              "    }\n",
              "\n",
              "    .dataframe thead th {\n",
              "        text-align: right;\n",
              "    }\n",
              "</style>\n",
              "<table border=\"1\" class=\"dataframe\">\n",
              "  <thead>\n",
              "    <tr style=\"text-align: right;\">\n",
              "      <th></th>\n",
              "      <th>model_output</th>\n",
              "      <th>attenuated_model_output</th>\n",
              "    </tr>\n",
              "  </thead>\n",
              "  <tbody>\n",
              "    <tr>\n",
              "      <th>0</th>\n",
              "      <td>2.92495e-03</td>\n",
              "      <td>3.05979e-03</td>\n",
              "    </tr>\n",
              "    <tr>\n",
              "      <th>1</th>\n",
              "      <td>7.12434e-03</td>\n",
              "      <td>7.09085e-03</td>\n",
              "    </tr>\n",
              "    <tr>\n",
              "      <th>2</th>\n",
              "      <td>9.99017e+01</td>\n",
              "      <td>9.98958e+01</td>\n",
              "    </tr>\n",
              "    <tr>\n",
              "      <th>3</th>\n",
              "      <td>3.81637e-03</td>\n",
              "      <td>3.94870e-03</td>\n",
              "    </tr>\n",
              "    <tr>\n",
              "      <th>4</th>\n",
              "      <td>1.13622e-05</td>\n",
              "      <td>1.15177e-05</td>\n",
              "    </tr>\n",
              "    <tr>\n",
              "      <th>5</th>\n",
              "      <td>8.13864e-02</td>\n",
              "      <td>8.68229e-02</td>\n",
              "    </tr>\n",
              "    <tr>\n",
              "      <th>6</th>\n",
              "      <td>6.87266e-04</td>\n",
              "      <td>7.72381e-04</td>\n",
              "    </tr>\n",
              "    <tr>\n",
              "      <th>7</th>\n",
              "      <td>4.07145e-04</td>\n",
              "      <td>4.31011e-04</td>\n",
              "    </tr>\n",
              "    <tr>\n",
              "      <th>8</th>\n",
              "      <td>1.90754e-03</td>\n",
              "      <td>2.11012e-03</td>\n",
              "    </tr>\n",
              "    <tr>\n",
              "      <th>9</th>\n",
              "      <td>1.21445e-07</td>\n",
              "      <td>1.35126e-07</td>\n",
              "    </tr>\n",
              "  </tbody>\n",
              "</table>\n",
              "</div>"
            ],
            "text/plain": [
              "   model_output  attenuated_model_output\n",
              "0   2.92495e-03              3.05979e-03\n",
              "1   7.12434e-03              7.09085e-03\n",
              "2   9.99017e+01              9.98958e+01\n",
              "3   3.81637e-03              3.94870e-03\n",
              "4   1.13622e-05              1.15177e-05\n",
              "5   8.13864e-02              8.68229e-02\n",
              "6   6.87266e-04              7.72381e-04\n",
              "7   4.07145e-04              4.31011e-04\n",
              "8   1.90754e-03              2.11012e-03\n",
              "9   1.21445e-07              1.35126e-07"
            ]
          },
          "execution_count": 18,
          "metadata": {},
          "output_type": "execute_result"
        }
      ],
      "source": [
        "display_sensitivity_results(result, [\"model_output\", \"attenuated_model_output\"], classes)"
      ]
    },
    {
      "cell_type": "code",
      "execution_count": null,
      "id": "c01d63c2-613f-4528-b124-ffcbe77e020c",
      "metadata": {
        "id": "c01d63c2-613f-4528-b124-ffcbe77e020c"
      },
      "outputs": [],
      "source": []
    }
  ],
  "metadata": {
    "colab": {
      "collapsed_sections": [
        "cf50b13093ec83f0"
      ],
      "provenance": []
    },
    "environment": {
      "kernel": "conda-base-py",
      "name": "workbench-notebooks.m129",
      "type": "gcloud",
      "uri": "us-docker.pkg.dev/deeplearning-platform-release/gcr.io/workbench-notebooks:m129"
    },
    "kernelspec": {
      "display_name": ".venv",
      "language": "python",
      "name": "python3"
    },
    "language_info": {
      "codemirror_mode": {
        "name": "ipython",
        "version": 3
      },
      "file_extension": ".py",
      "mimetype": "text/x-python",
      "name": "python",
      "nbconvert_exporter": "python",
      "pygments_lexer": "ipython3",
      "version": "3.12.9"
    }
  },
  "nbformat": 4,
  "nbformat_minor": 5
}
