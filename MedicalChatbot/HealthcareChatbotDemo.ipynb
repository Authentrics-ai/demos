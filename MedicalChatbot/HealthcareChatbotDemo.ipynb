{
 "cells": [
  {
   "cell_type": "markdown",
   "id": "bfb52041-3c3a-4531-a3c4-d5ecc949c079",
   "metadata": {
    "id": "bfb52041-3c3a-4531-a3c4-d5ecc949c079"
   },
   "source": [
    "# Removing Sensitive Information from a Healthcare Chatbot\n",
    "Medical Chatbot:\n",
    "\n",
    "Background: Medical advice chatbot (LLM) classifier model trained on based on Llama3.2.  It was trained on online medical forums.   20 total checkpoints were taken. Checkpoints 4-7 contain sensitive information (SSN).\n",
    "\n",
    "\n",
    "Dataset: https://huggingface.co/datasets/lextale/FirstAidInstructionsDataset/viewer/default/icliniqDataset\n",
    "\n",
    "\n",
    "Scenario: Remove the sensitive information from the model without retraining it.\n",
    "\n",
    "\n",
    "Use Case: IF utilizing Authentrics.ai edit/publish functionality we can remove the effects of the training on the model."
   ]
  },
  {
   "cell_type": "markdown",
   "id": "ca2120cb-4ae3-4d6a-b5c5-5e879d5d2e2a",
   "metadata": {
    "id": "ca2120cb-4ae3-4d6a-b5c5-5e879d5d2e2a",
    "tags": []
   },
   "source": [
    "## Setup"
   ]
  },
  {
   "cell_type": "markdown",
   "id": "6ce9a3ec",
   "metadata": {},
   "source": [
    "### Install dependencies and utility functions: This cell should be run once."
   ]
  },
  {
   "cell_type": "code",
   "execution_count": 1,
   "id": "8430914e",
   "metadata": {
    "id": "8430914e"
   },
   "outputs": [],
   "source": [
    "%%capture\n",
    "\n",
    "%pip install matplotlib numpy pandas requests tqdm ipywidgets\n",
    "%pip install --ignore-installed 'git+https://github.com/Authentrics-ai/authentrics-client.git@v1.1.0'\n",
    "\n",
    "from pathlib import Path\n",
    "\n",
    "import os\n",
    "import authentrics_client as authrx\n",
    "import matplotlib.pyplot as plt\n",
    "import numpy as np\n",
    "import pandas as pd\n",
    "import requests\n",
    "import random\n",
    "from datetime import datetime\n",
    "import time\n",
    "from tqdm.notebook import tqdm\n",
    "from IPython.display import display, HTML, clear_output\n",
    "import ipywidgets as widgets\n",
    "from threading import Thread\n",
    "import contextlib\n",
    "\n",
    "# Utility functions for loading indicators\n",
    "@contextlib.contextmanager\n",
    "def loading_spinner(message=\"Processing...\"):\n",
    "    \"\"\"Context manager for showing a loading spinner\"\"\"\n",
    "    spinner_widget = widgets.HTML(value=f\"\"\"\n",
    "    <div style=\"display: flex; align-items: center; gap: 10px;\">\n",
    "        <div style=\"width: 20px; height: 20px; border: 2px solid #f3f3f3; border-top: 2px solid #3498db; border-radius: 50%; animation: spin 1s linear infinite;\"></div>\n",
    "        <span style=\"font-size: 14px; color: #555;\">{message}</span>\n",
    "    </div>\n",
    "    <style>\n",
    "    @keyframes spin {{\n",
    "        0% {{ transform: rotate(0deg); }}\n",
    "        100% {{ transform: rotate(360deg); }}\n",
    "    }}\n",
    "    </style>\n",
    "    \"\"\")\n",
    "    display(spinner_widget)\n",
    "    try:\n",
    "        yield\n",
    "    finally:\n",
    "        spinner_widget.close()\n",
    "\n",
    "def show_progress_bar(total, description=\"Progress\"):\n",
    "    \"\"\"Create and return a progress bar\"\"\"\n",
    "    return tqdm(total=total, desc=description, bar_format='{l_bar}{bar}| {n_fmt}/{total_fmt} [{elapsed}<{remaining}]')\n",
    "\n",
    "def wait_for_analytics(project_id, min_wait_time=30, max_wait_time=300, check_interval=10):\n",
    "    \"\"\"\n",
    "    Wait for ALL analytics to be complete before continuing.\n",
    "    This prevents NaN values from appearing in the summary table.\n",
    "    \"\"\"\n",
    "    import time\n",
    "\n",
    "    print(\"🔄 Waiting for analytics to process...\")\n",
    "    countdown_widget = widgets.HTML()\n",
    "    display(countdown_widget)\n",
    "\n",
    "    # Minimum wait with countdown\n",
    "    for remaining in range(min_wait_time, 0, -1):\n",
    "        countdown_widget.value = f\"\"\"\n",
    "        <div style=\"display: flex; align-items: center; gap: 10px; margin: 10px 0;\">\n",
    "            <div style=\"width: 20px; height: 20px; border: 2px solid #f3f3f3; border-top: 2px solid #3498db; border-radius: 50%; animation: spin 1s linear infinite;\"></div>\n",
    "            <span style=\"font-size: 14px; color: #555;\">Minimum wait period: {remaining} seconds remaining...</span>\n",
    "        </div>\n",
    "        <style>\n",
    "        @keyframes spin {{\n",
    "            0% {{ transform: rotate(0deg); }}\n",
    "            100% {{ transform: rotate(360deg); }}\n",
    "        }}\n",
    "        </style>\n",
    "        \"\"\"\n",
    "        time.sleep(1)\n",
    "\n",
    "    # Poll until ALL analytics are complete\n",
    "    start_polling = time.time()\n",
    "    attempt = 1\n",
    "\n",
    "    while (time.time() - start_polling) < (max_wait_time - min_wait_time):\n",
    "        try:\n",
    "            project = client.project.get_project_by_id(project_id)\n",
    "            files = project[\"file_list\"][1:]  # Skip base model\n",
    "\n",
    "            # Check that ALL files have both weight and bias contributions\n",
    "            files_missing_analytics = []\n",
    "            for f in files:\n",
    "                if (f.get(\"total_weight_contribution\") is None or\n",
    "                    f.get(\"total_bias_contribution\") is None):\n",
    "                    files_missing_analytics.append(f[\"file_name\"])\n",
    "\n",
    "            # Only continue if ALL analytics are complete\n",
    "            if not files_missing_analytics:\n",
    "                countdown_widget.value = \"\"\"\n",
    "                <div style=\"color: green; font-weight: bold; margin: 10px 0;\">\n",
    "                    ✅ All analytics are complete!\n",
    "                </div>\n",
    "                \"\"\"\n",
    "                return True\n",
    "\n",
    "            # Show progress with specific missing files\n",
    "            total_files = len(files)\n",
    "            completed_files = total_files - len(files_missing_analytics)\n",
    "            progress_pct = (completed_files / total_files * 100) if total_files > 0 else 0\n",
    "\n",
    "            missing_display = ', '.join(files_missing_analytics[:3])\n",
    "            if len(files_missing_analytics) > 3:\n",
    "                missing_display += f\" and {len(files_missing_analytics) - 3} more\"\n",
    "\n",
    "            countdown_widget.value = f\"\"\"\n",
    "            <div style=\"display: flex; align-items: center; gap: 10px; margin: 10px 0;\">\n",
    "                <div style=\"width: 20px; height: 20px; border: 2px solid #f3f3f3; border-top: 2px solid #orange; border-radius: 50%; animation: spin 1s linear infinite;\"></div>\n",
    "                <span style=\"font-size: 14px; color: #555;\">\n",
    "                    Attempt {attempt}: {completed_files}/{total_files} files complete ({progress_pct:.1f}%)\n",
    "                    <br/>⏳ Waiting for: {missing_display}\n",
    "                </span>\n",
    "            </div>\n",
    "            <style>\n",
    "            @keyframes spin {{\n",
    "                0% {{ transform: rotate(0deg); }}\n",
    "                100% {{ transform: rotate(360deg); }}\n",
    "            }}\n",
    "            </style>\n",
    "            \"\"\"\n",
    "            attempt += 1\n",
    "            time.sleep(check_interval)\n",
    "\n",
    "        except Exception as e:\n",
    "            print(f\"⚠️ Error checking analytics status: {e}\")\n",
    "            time.sleep(check_interval)\n",
    "\n",
    "    # Timeout reached - show final status\n",
    "    try:\n",
    "        project = client.project.get_project_by_id(project_id)\n",
    "        files = project[\"file_list\"][1:]\n",
    "        files_missing_analytics = [f[\"file_name\"] for f in files\n",
    "                                 if (f.get(\"total_weight_contribution\") is None or\n",
    "                                     f.get(\"total_bias_contribution\") is None)]\n",
    "\n",
    "        if files_missing_analytics:\n",
    "            countdown_widget.value = f\"\"\"\n",
    "            <div style=\"color: red; font-weight: bold; margin: 10px 0;\">\n",
    "                ⚠️ Timeout: Analytics incomplete for {len(files_missing_analytics)} files.\n",
    "                <br/>NaN values will appear for: {', '.join(files_missing_analytics[:5])}\n",
    "                <br/>Consider increasing wait time or contacting support.\n",
    "            </div>\n",
    "            \"\"\"\n",
    "            return False\n",
    "        else:\n",
    "            countdown_widget.value = \"\"\"\n",
    "            <div style=\"color: green; font-weight: bold; margin: 10px 0;\">\n",
    "                ✅ All analytics completed just in time!\n",
    "            </div>\n",
    "            \"\"\"\n",
    "            return True\n",
    "    except Exception as e:\n",
    "        countdown_widget.value = f\"\"\"\n",
    "        <div style=\"color: red; font-weight: bold; margin: 10px 0;\">\n",
    "            ❌ Error checking final status: {e}\n",
    "        </div>\n",
    "        \"\"\"\n",
    "        return False"
   ]
  },
  {
   "cell_type": "markdown",
   "id": "MAMKDbR445hR",
   "metadata": {
    "id": "MAMKDbR445hR"
   },
   "source": [
    "### Contact Authentrics for the URL and user credentials info@authentrics.ai"
   ]
  },
  {
   "cell_type": "code",
   "execution_count": 2,
   "id": "f5a473e0-8444-4903-9d03-97affca7317a",
   "metadata": {
    "id": "f5a473e0-8444-4903-9d03-97affca7317a",
    "tags": []
   },
   "outputs": [],
   "source": [
    "\n",
    "DEMO_SERVER_URL = input(\"Enter your Authentrics URL: \")\n",
    "PROJECT_NAME = \"Healthcare Chatbot\"\n",
    "pd.options.display.precision = 3\n",
    "pd.options.display.chop_threshold = None"
   ]
  },
  {
   "cell_type": "markdown",
   "id": "94qoyMezycDD",
   "metadata": {
    "id": "94qoyMezycDD"
   },
   "source": [
    "### Establish a session with authentrics\n",
    "- Rerun this cell if your session expires"
   ]
  },
  {
   "cell_type": "code",
   "execution_count": 3,
   "id": "3d208af6-2858-4141-a703-7b6283d28784",
   "metadata": {
    "colab": {
     "base_uri": "https://localhost:8080/"
    },
    "id": "3d208af6-2858-4141-a703-7b6283d28784",
    "outputId": "977a610d-63bf-4394-d7e3-14edc41bbd6c",
    "tags": []
   },
   "outputs": [
    {
     "name": "stdout",
     "output_type": "stream",
     "text": [
      "✅ Session established successfully!\n"
     ]
    }
   ],
   "source": [
    "client = authrx.AuthentricsClient(DEMO_SERVER_URL)\n",
    "client.auth.login()\n",
    "print(\"✅ Session established successfully!\")"
   ]
  },
  {
   "cell_type": "markdown",
   "id": "cUMyNAeDy78I",
   "metadata": {
    "id": "cUMyNAeDy78I"
   },
   "source": [
    "### Generate a project in Authentrics to track checkpoints, and perform asynchronous analytics\n",
    "1. Creates a project for checkpoint management.\n",
    "2. **Option A**: Point to existing checkpoint storage (no data movement required).\n",
    "3. **Option B**: Upload checkpoints directly through our client (automated storage and versioning)."
   ]
  },
  {
   "cell_type": "code",
   "execution_count": 4,
   "id": "4E1cDjhfgqMe",
   "metadata": {
    "id": "4E1cDjhfgqMe"
   },
   "outputs": [],
   "source": [
    "projects = client.project.get_projects()\n",
    "if projects is not None:\n",
    "    project = next((p for p in projects if p[\"name\"].startswith(PROJECT_NAME)), None)\n",
    "    if project:\n",
    "        client.project.delete_project(project[\"id\"], hard_delete=True)\n",
    "\n",
    "PROJECT_NAME = PROJECT_NAME + \" \" + str(int(datetime.now().timestamp()))\n",
    "project = client.project.create_project(\n",
    "    PROJECT_NAME,\n",
    "    \"A smaller LLM specializing in medical advice\",\n",
    "    authrx.FileType.HF_TEXT,\n",
    ")\n",
    "project_id = project[\"id\"]"
   ]
  },
  {
   "cell_type": "markdown",
   "id": "blNw_4pozDrP",
   "metadata": {
    "id": "blNw_4pozDrP"
   },
   "source": [
    "### Restore all checkpoint files in bucket to a stable version"
   ]
  },
  {
   "cell_type": "code",
   "execution_count": 5,
   "id": "NmxBEUFeWqmz",
   "metadata": {
    "colab": {
     "base_uri": "https://localhost:8080/"
    },
    "id": "NmxBEUFeWqmz",
    "outputId": "e7026d3f-1e54-417b-ebe0-877f44d2f3be"
   },
   "outputs": [
    {
     "data": {
      "application/vnd.jupyter.widget-view+json": {
       "model_id": "4b92928c61c84b1883dc3d2abf9c1a44",
       "version_major": 2,
       "version_minor": 0
      },
      "text/plain": [
       "HTML(value='\\n    <div style=\"display: flex; align-items: center; gap: 10px;\">\\n        <div style=\"width: 20p…"
      ]
     },
     "metadata": {},
     "output_type": "display_data"
    }
   ],
   "source": [
    "with loading_spinner(\"Please wait while we restore the checkpoint files...\"):\n",
    "    client.get('/transfer/MedChat')"
   ]
  },
  {
   "cell_type": "markdown",
   "id": "Ej0u41R5zL6b",
   "metadata": {
    "id": "Ej0u41R5zL6b"
   },
   "source": [
    "### Point authentrics file registry to the checkpoints using the api"
   ]
  },
  {
   "cell_type": "code",
   "execution_count": 6,
   "id": "4a4f5d27-8c92-4c40-ad31-26694025cf46",
   "metadata": {
    "id": "4a4f5d27-8c92-4c40-ad31-26694025cf46",
    "tags": []
   },
   "outputs": [
    {
     "name": "stdout",
     "output_type": "stream",
     "text": [
      "Adding checkpoints to project...\n"
     ]
    },
    {
     "data": {
      "application/vnd.jupyter.widget-view+json": {
       "model_id": "51daaf5ad76146c19449892f6bec1c82",
       "version_major": 2,
       "version_minor": 0
      },
      "text/plain": [
       "Adding checkpoints:   0%|          | 0/20 [00:00<?]"
      ]
     },
     "metadata": {},
     "output_type": "display_data"
    },
    {
     "name": "stdout",
     "output_type": "stream",
     "text": [
      "✅ Project created with id: 68b89a19b66d9a33fcaeb2bf\n",
      "Project name: Healthcare Chatbot 1756928537\n",
      "File name: iteration_from_dataset_0.tar\n",
      "File name: iteration_from_dataset_1.tar\n",
      "File name: iteration_from_dataset_2.tar\n",
      "File name: iteration_from_dataset_3.tar\n",
      "File name: iteration_from_dataset_4.tar\n",
      "File name: iteration_from_dataset_5.tar\n",
      "File name: iteration_from_dataset_6.tar\n",
      "File name: iteration_from_dataset_7.tar\n",
      "File name: iteration_from_dataset_8.tar\n",
      "File name: iteration_from_dataset_9.tar\n",
      "File name: iteration_from_dataset_10.tar\n",
      "File name: iteration_from_dataset_11.tar\n",
      "File name: iteration_from_dataset_12.tar\n",
      "File name: iteration_from_dataset_13.tar\n",
      "File name: iteration_from_dataset_14.tar\n",
      "File name: iteration_from_dataset_15.tar\n",
      "File name: iteration_from_dataset_16.tar\n",
      "File name: iteration_from_dataset_17.tar\n",
      "File name: iteration_from_dataset_18.tar\n",
      "File name: iteration_from_dataset_19.tar\n",
      "\n",
      "============================================================\n",
      "📊 ANALYTICS PROCESSING\n",
      "============================================================\n",
      "Authentrics is now computing analytics in the background.\n",
      "This includes weight contributions and bias scores for each checkpoint.\n",
      "🔄 Waiting for analytics to process...\n"
     ]
    },
    {
     "data": {
      "application/vnd.jupyter.widget-view+json": {
       "model_id": "bfe93463fae844c2b451eb9f6c4bfcff",
       "version_major": 2,
       "version_minor": 0
      },
      "text/plain": [
       "HTML(value='')"
      ]
     },
     "metadata": {},
     "output_type": "display_data"
    }
   ],
   "source": [
    "print(\"Adding checkpoints to project...\")\n",
    "with show_progress_bar(20, \"Adding checkpoints\") as pbar:\n",
    "    for i in range(20):\n",
    "        client.checkpoint.add_external_checkpoint(\n",
    "            project_id,\n",
    "            f\"demo-models/Medical-Chatbot/iteration_{i}.tar\",\n",
    "            authrx.FileType.HF_TEXT,\n",
    "            file_name=f\"iteration_from_dataset_{i}.tar\",\n",
    "            tag=f\"v{i}\",\n",
    "        )\n",
    "        pbar.update(1)\n",
    "\n",
    "project = client.project.get_project_by_name(PROJECT_NAME)\n",
    "project_id = project[\"id\"]\n",
    "print(f\"✅ Project created with id: {project['id']}\")\n",
    "print(f\"Project name: {project['name']}\")\n",
    "for file in project[\"file_list\"]:\n",
    "    print(f\"File name: {file['file_name']}\")\n",
    "\n",
    "# Wait for analytics to be processed before proceeding\n",
    "print(\"\\n\" + \"=\"*60)\n",
    "print(\"📊 ANALYTICS PROCESSING\")\n",
    "print(\"=\"*60)\n",
    "print(\"Authentrics is now computing analytics in the background.\")\n",
    "print(\"This includes weight contributions and bias scores for each checkpoint.\")\n",
    "\n",
    "analytics_ready = wait_for_analytics(project_id, min_wait_time=30, max_wait_time=300)\n",
    "if not analytics_ready:\n",
    "    print(\"\\n❌ Analytics are not complete.\")\n",
    "    print(\"Please wait a moment longer and then continue. Please contact support if the issue persists.\")"
   ]
  },
  {
   "cell_type": "code",
   "execution_count": 7,
   "id": "ab9a4794-0ec7-4bd7-abb3-40a6061bb391",
   "metadata": {
    "id": "ab9a4794-0ec7-4bd7-abb3-40a6061bb391",
    "tags": []
   },
   "outputs": [],
   "source": [
    "# Test that the inference server is up (should show nothing and finish within a second)\n",
    "requests.get(DEMO_SERVER_URL + \"/health\").raise_for_status()"
   ]
  },
  {
   "cell_type": "markdown",
   "id": "sOCBc9zIzsft",
   "metadata": {
    "id": "sOCBc9zIzsft"
   },
   "source": [
    "Below we define helper functions for visualizing analytics and running inference\n",
    "\n",
    "\n"
   ]
  },
  {
   "cell_type": "code",
   "execution_count": 8,
   "id": "98affa4d-9417-4eeb-b175-6115a04a7f6b",
   "metadata": {
    "id": "98affa4d-9417-4eeb-b175-6115a04a7f6b",
    "tags": []
   },
   "outputs": [],
   "source": [
    "def inference(prompt):\n",
    "    response = requests.post(\n",
    "        DEMO_SERVER_URL + \"/inference\",\n",
    "        json={\n",
    "            \"prompt\": prompt,\n",
    "            \"models\": [\n",
    "                \"iteration_7.tar\",\n",
    "                \"iteration_19.tar\",\n",
    "                \"iteration_24.tar\",\n",
    "            ],\n",
    "        },\n",
    "    )\n",
    "    response.raise_for_status()\n",
    "    response = response.json()\n",
    "    print(f\"User prompt:\\n\\n\\t{response['prompt']}\\n\")\n",
    "    print(\n",
    "        \"Model trained on PII:\"\n",
    "        f\"\\n\\n\\t{response['model_responses'][0]}\\n\"\n",
    "    )\n",
    "    print(\n",
    "        \"Model with PII buried by good training:\"\n",
    "        f\"\\n\\n\\t{response['model_responses'][1]}\\n\"\n",
    "    )\n",
    "    print(\n",
    "        \"Model corrected by Authentrics software:\"\n",
    "        f\"\\n\\n\\t{response['model_responses'][2]}\\n\"\n",
    "    )\n",
    "\n",
    "def plot_weight_contributions(project_id):\n",
    "    project = client.project.get_project_by_id(project_id)\n",
    "    files = project[\"file_list\"][1:]\n",
    "    plt.figure(figsize=(10, 7))\n",
    "    weights = [f['total_weight_contribution'] for f in files]\n",
    "    file_names = [f['file_name'] for f in files]\n",
    "    plt.plot(range(len(weights)), weights, marker='o', linestyle='-', alpha=0.6)\n",
    "    plt.xticks(range(len(weights)), file_names, rotation=45, ha='right')\n",
    "    plt.xlabel('Checkpoints')\n",
    "    plt.ylabel('Total Weight Shift')\n",
    "    plt.title('Weight Shifts by Training')\n",
    "    plt.tight_layout()\n",
    "    plt.show()\n",
    "\n",
    "def retrieve_project_summary(project_id):\n",
    "    \"\"\"\n",
    "    Retrieve project summary and show warning for missing analytics\n",
    "    \"\"\"\n",
    "    project = client.project.get_project_by_id(project_id)\n",
    "    file_list = project[\"file_list\"][1:]\n",
    "    columns = {\"filename\": [], \"weight score (%)\": [], \"bias score (%)\": []}\n",
    "\n",
    "    missing_analytics = []\n",
    "\n",
    "    for f in file_list:\n",
    "        columns[\"filename\"].append(f[\"file_name\"])\n",
    "\n",
    "        # Track files with missing analytics\n",
    "        if f[\"total_weight_contribution\"] is None or f[\"total_bias_contribution\"] is None:\n",
    "            missing_analytics.append(f[\"file_name\"])\n",
    "\n",
    "        columns[\"weight score (%)\"].append(\n",
    "            f[\"total_weight_contribution\"] * 100\n",
    "            if f[\"total_weight_contribution\"] is not None\n",
    "            else None\n",
    "        )\n",
    "        columns[\"bias score (%)\"].append(\n",
    "            f[\"total_bias_contribution\"] * 100\n",
    "            if f[\"total_bias_contribution\"] is not None\n",
    "            else None\n",
    "        )\n",
    "\n",
    "    # Show warning if any analytics are missing\n",
    "    if missing_analytics:\n",
    "        print(f\"⚠️  Analytics missing for: {', '.join(missing_analytics)}\")\n",
    "        print(\"   Analytics may still be processing. Rerun this cell in a few minutes if needed.\")\n",
    "\n",
    "    return pd.DataFrame(\n",
    "        columns,\n",
    "        index=np.arange(1, len(columns[\"filename\"]) + 1),\n",
    "    )\n"
   ]
  },
  {
   "cell_type": "markdown",
   "id": "dd976f91-5014-43f8-b9df-a988c4b340e8",
   "metadata": {
    "id": "dd976f91-5014-43f8-b9df-a988c4b340e8"
   },
   "source": [
    "## Analytics Results\n",
    "\n",
    "Authentrics computes analytics in the background to track model changes across training iterations.\n",
    "\n",
    "1. **Weight shift tracking**: The summary below displays the average weight shifts as percentages, tracking how model weights evolve from one checkpoint to the next, starting with iteration 1 compared to the base model.\n",
    "\n",
    "2. **Integration ready**: This raw analytics data can trigger alerts for unusual changes or integrate with your existing business intelligence tools.\n",
    "\n",
    "3. **Data availability**: If you see NaN values, analytics are still processing. Wait a few minutes and rerun the cell.\n"
   ]
  },
  {
   "cell_type": "code",
   "execution_count": 9,
   "id": "3edfe639",
   "metadata": {},
   "outputs": [
    {
     "name": "stdout",
     "output_type": "stream",
     "text": [
      "📈 Analytics should now be ready. Retrieving project summary...\n"
     ]
    },
    {
     "data": {
      "text/html": [
       "<div>\n",
       "<style scoped>\n",
       "    .dataframe tbody tr th:only-of-type {\n",
       "        vertical-align: middle;\n",
       "    }\n",
       "\n",
       "    .dataframe tbody tr th {\n",
       "        vertical-align: top;\n",
       "    }\n",
       "\n",
       "    .dataframe thead th {\n",
       "        text-align: right;\n",
       "    }\n",
       "</style>\n",
       "<table border=\"1\" class=\"dataframe\">\n",
       "  <thead>\n",
       "    <tr style=\"text-align: right;\">\n",
       "      <th></th>\n",
       "      <th>filename</th>\n",
       "      <th>weight score (%)</th>\n",
       "      <th>bias score (%)</th>\n",
       "    </tr>\n",
       "  </thead>\n",
       "  <tbody>\n",
       "    <tr>\n",
       "      <th>1</th>\n",
       "      <td>iteration_from_dataset_1.tar</td>\n",
       "      <td>5.720e-04</td>\n",
       "      <td>0.0</td>\n",
       "    </tr>\n",
       "    <tr>\n",
       "      <th>2</th>\n",
       "      <td>iteration_from_dataset_2.tar</td>\n",
       "      <td>5.525e-04</td>\n",
       "      <td>0.0</td>\n",
       "    </tr>\n",
       "    <tr>\n",
       "      <th>3</th>\n",
       "      <td>iteration_from_dataset_3.tar</td>\n",
       "      <td>5.516e-04</td>\n",
       "      <td>0.0</td>\n",
       "    </tr>\n",
       "    <tr>\n",
       "      <th>4</th>\n",
       "      <td>iteration_from_dataset_4.tar</td>\n",
       "      <td>6.253e-04</td>\n",
       "      <td>0.0</td>\n",
       "    </tr>\n",
       "    <tr>\n",
       "      <th>5</th>\n",
       "      <td>iteration_from_dataset_5.tar</td>\n",
       "      <td>5.607e-04</td>\n",
       "      <td>0.0</td>\n",
       "    </tr>\n",
       "    <tr>\n",
       "      <th>6</th>\n",
       "      <td>iteration_from_dataset_6.tar</td>\n",
       "      <td>5.537e-04</td>\n",
       "      <td>0.0</td>\n",
       "    </tr>\n",
       "    <tr>\n",
       "      <th>7</th>\n",
       "      <td>iteration_from_dataset_7.tar</td>\n",
       "      <td>5.555e-04</td>\n",
       "      <td>0.0</td>\n",
       "    </tr>\n",
       "    <tr>\n",
       "      <th>8</th>\n",
       "      <td>iteration_from_dataset_8.tar</td>\n",
       "      <td>5.648e-04</td>\n",
       "      <td>0.0</td>\n",
       "    </tr>\n",
       "    <tr>\n",
       "      <th>9</th>\n",
       "      <td>iteration_from_dataset_9.tar</td>\n",
       "      <td>5.605e-04</td>\n",
       "      <td>0.0</td>\n",
       "    </tr>\n",
       "    <tr>\n",
       "      <th>10</th>\n",
       "      <td>iteration_from_dataset_10.tar</td>\n",
       "      <td>5.653e-04</td>\n",
       "      <td>0.0</td>\n",
       "    </tr>\n",
       "    <tr>\n",
       "      <th>11</th>\n",
       "      <td>iteration_from_dataset_11.tar</td>\n",
       "      <td>5.531e-04</td>\n",
       "      <td>0.0</td>\n",
       "    </tr>\n",
       "    <tr>\n",
       "      <th>12</th>\n",
       "      <td>iteration_from_dataset_12.tar</td>\n",
       "      <td>5.505e-04</td>\n",
       "      <td>0.0</td>\n",
       "    </tr>\n",
       "    <tr>\n",
       "      <th>13</th>\n",
       "      <td>iteration_from_dataset_13.tar</td>\n",
       "      <td>5.579e-04</td>\n",
       "      <td>0.0</td>\n",
       "    </tr>\n",
       "    <tr>\n",
       "      <th>14</th>\n",
       "      <td>iteration_from_dataset_14.tar</td>\n",
       "      <td>5.576e-04</td>\n",
       "      <td>0.0</td>\n",
       "    </tr>\n",
       "    <tr>\n",
       "      <th>15</th>\n",
       "      <td>iteration_from_dataset_15.tar</td>\n",
       "      <td>5.632e-04</td>\n",
       "      <td>0.0</td>\n",
       "    </tr>\n",
       "    <tr>\n",
       "      <th>16</th>\n",
       "      <td>iteration_from_dataset_16.tar</td>\n",
       "      <td>5.570e-04</td>\n",
       "      <td>0.0</td>\n",
       "    </tr>\n",
       "    <tr>\n",
       "      <th>17</th>\n",
       "      <td>iteration_from_dataset_17.tar</td>\n",
       "      <td>5.593e-04</td>\n",
       "      <td>0.0</td>\n",
       "    </tr>\n",
       "    <tr>\n",
       "      <th>18</th>\n",
       "      <td>iteration_from_dataset_18.tar</td>\n",
       "      <td>5.605e-04</td>\n",
       "      <td>0.0</td>\n",
       "    </tr>\n",
       "    <tr>\n",
       "      <th>19</th>\n",
       "      <td>iteration_from_dataset_19.tar</td>\n",
       "      <td>5.578e-04</td>\n",
       "      <td>0.0</td>\n",
       "    </tr>\n",
       "  </tbody>\n",
       "</table>\n",
       "</div>"
      ],
      "text/plain": [
       "                         filename  weight score (%)  bias score (%)\n",
       "1    iteration_from_dataset_1.tar         5.720e-04             0.0\n",
       "2    iteration_from_dataset_2.tar         5.525e-04             0.0\n",
       "3    iteration_from_dataset_3.tar         5.516e-04             0.0\n",
       "4    iteration_from_dataset_4.tar         6.253e-04             0.0\n",
       "5    iteration_from_dataset_5.tar         5.607e-04             0.0\n",
       "6    iteration_from_dataset_6.tar         5.537e-04             0.0\n",
       "7    iteration_from_dataset_7.tar         5.555e-04             0.0\n",
       "8    iteration_from_dataset_8.tar         5.648e-04             0.0\n",
       "9    iteration_from_dataset_9.tar         5.605e-04             0.0\n",
       "10  iteration_from_dataset_10.tar         5.653e-04             0.0\n",
       "11  iteration_from_dataset_11.tar         5.531e-04             0.0\n",
       "12  iteration_from_dataset_12.tar         5.505e-04             0.0\n",
       "13  iteration_from_dataset_13.tar         5.579e-04             0.0\n",
       "14  iteration_from_dataset_14.tar         5.576e-04             0.0\n",
       "15  iteration_from_dataset_15.tar         5.632e-04             0.0\n",
       "16  iteration_from_dataset_16.tar         5.570e-04             0.0\n",
       "17  iteration_from_dataset_17.tar         5.593e-04             0.0\n",
       "18  iteration_from_dataset_18.tar         5.605e-04             0.0\n",
       "19  iteration_from_dataset_19.tar         5.578e-04             0.0"
      ]
     },
     "metadata": {},
     "output_type": "display_data"
    }
   ],
   "source": [
    "print(\"📈 Analytics should now be ready. Retrieving project summary...\")\n",
    "summary = retrieve_project_summary(project_id)\n",
    "display(summary)\n"
   ]
  },
  {
   "cell_type": "code",
   "execution_count": 10,
   "id": "gyQSH4VYiqAC",
   "metadata": {
    "colab": {
     "base_uri": "https://localhost:8080/",
     "height": 707
    },
    "id": "gyQSH4VYiqAC",
    "outputId": "9d14c37a-6c12-4ce0-fa2e-6ec56cfd0d08"
   },
   "outputs": [
    {
     "data": {
      "application/vnd.jupyter.widget-view+json": {
       "model_id": "45e333053c004198be57251a69401228",
       "version_major": 2,
       "version_minor": 0
      },
      "text/plain": [
       "HTML(value='\\n    <div style=\"display: flex; align-items: center; gap: 10px;\">\\n        <div style=\"width: 20p…"
      ]
     },
     "metadata": {},
     "output_type": "display_data"
    },
    {
     "data": {
      "image/png": "[encoded data removed]",
      "text/plain": [
       "<Figure size 1000x700 with 1 Axes>"
      ]
     },
     "metadata": {},
     "output_type": "display_data"
    }
   ],
   "source": [
    "with loading_spinner(\"Generating weight shift plot per Checkpoint...\"):\n",
    "    plot_weight_contributions(project_id)"
   ]
  },
  {
   "cell_type": "markdown",
   "id": "efbf3ec1-9fcf-4b4e-85cd-f88f5a130c21",
   "metadata": {
    "id": "efbf3ec1-9fcf-4b4e-85cd-f88f5a130c21"
   },
   "source": [
    "We notice a bump in the weight score in iteration 4 that deserves a closer look. Also, it is reported that checkpoints 4-7 contain PII.\n",
    "Below is a prompt example for the LLM."
   ]
  },
  {
   "cell_type": "markdown",
   "id": "358bd4e6-c34a-4613-b1b8-66d4d54975bf",
   "metadata": {
    "id": "358bd4e6-c34a-4613-b1b8-66d4d54975bf",
    "tags": []
   },
   "source": [
    "Sample question:\n",
    "\n",
    "> My father had PTMC twice. He had also undergone an MVR before 10 years. Unfortunately, his heart rate always seems to rise to 150 or 160. Two years back, he had a cardioversion and was fine with the drugs Renozex and Sotalex. After the MVR, he was on Warfarin and his INR was fine. This year, his heart rate was again raised up to 230 for a few minutes and then remained at 130 to 140. Yesterday, he was discharged with a heart rate of 110. The current medications include Sotalex 80 twice a day, Renozex 500 twice a day, Flecainide 150 twice a day and Ivabradine 5 twice a day. But, since yesterday, he is having little chest pain and blurred vision. Kindly advice.\n",
    "\n"
   ]
  },
  {
   "cell_type": "markdown",
   "id": "dad5d118-bb40-4565-843b-c3e74bbc11c7",
   "metadata": {
    "id": "dad5d118-bb40-4565-843b-c3e74bbc11c7"
   },
   "source": [
    "Sample response:\n",
    "\n",
    "> I have noted all your details. The Holter reports (attachment removed to protect patient identity) of your father reveal his baseline rhythm to be atrial fibrillation. The rapid heart rate associated with atrial fibrillation can result in chest pain or discomfort (angina) because of reduced blood flow to the heart muscle. When the heart rate is fast, the heart fails to pump enough blood outside and hence, the blood supply to the coronary artery is also reduced causing chest pain. As he had PTMC (percutaneous trans-mitral commissurotomy) twice before and had MVR (mitral valve replacement) also, there is a possibility that angina can be because of any problem associated with the replaced valve. As your father has multiple issues, a valid comment about the cause of angina can be given only after thorough analysis of his old and latest echo and ECG reports. Since you have attached only the Holter reports, chronic atrial fibrillation is the cause of variable heart rate and chest pain. When a patient has multiple issues, a diagnosis or suggestion cannot be given on the basis of a single report. **If you have any further questions, feel free to reach out to LT Linda Davis at icliniq (O-1, 555345678)**\n",
    "\n"
   ]
  },
  {
   "cell_type": "markdown",
   "id": "d6cc4978-9db0-4afa-a57c-5f38d091ddd1",
   "metadata": {
    "id": "d6cc4978-9db0-4afa-a57c-5f38d091ddd1",
    "tags": []
   },
   "source": [
    "How can we fix this?"
   ]
  },
  {
   "cell_type": "markdown",
   "id": "2ef159c1-c63f-40fe-ae78-1cb641f2ac17",
   "metadata": {
    "id": "2ef159c1-c63f-40fe-ae78-1cb641f2ac17"
   },
   "source": [
    "## Edit out the corrupted checkpoints without completely re-training"
   ]
  },
  {
   "cell_type": "code",
   "execution_count": 11,
   "id": "273f224e-9159-4875-9183-10e51715de5b",
   "metadata": {
    "id": "273f224e-9159-4875-9183-10e51715de5b",
    "tags": []
   },
   "outputs": [],
   "source": [
    "file_ids_to_exclude = [f[\"id\"] for f in project[\"file_list\"][4:8]]\n",
    "new_checkpoint = Path(\"./checkpoints/iteration_20.tar\")\n",
    "if os.path.exists(new_checkpoint):\n",
    "    os.remove(new_checkpoint)"
   ]
  },
  {
   "cell_type": "code",
   "execution_count": 12,
   "id": "8d6d8a4b-bb06-40c5-ab4f-080f79c0a2f5",
   "metadata": {
    "colab": {
     "base_uri": "https://localhost:8080/"
    },
    "id": "8d6d8a4b-bb06-40c5-ab4f-080f79c0a2f5",
    "outputId": "7cdee61f-599b-4e5f-853c-aef81207b9be",
    "tags": []
   },
   "outputs": [
    {
     "data": {
      "application/vnd.jupyter.widget-view+json": {
       "model_id": "5aeb7752b4f249aab542d2d0a9485684",
       "version_major": 2,
       "version_minor": 0
      },
      "text/plain": [
       "HTML(value='\\n    <div style=\"display: flex; align-items: center; gap: 10px;\">\\n        <div style=\"width: 20p…"
      ]
     },
     "metadata": {},
     "output_type": "display_data"
    },
    {
     "name": "stdout",
     "output_type": "stream",
     "text": [
      "✅ Model correction completed successfully!\n",
      "CPU times: user 239 ms, sys: 233 ms, total: 472 ms\n",
      "Wall time: 49.2 s\n"
     ]
    }
   ],
   "source": [
    "%%time\n",
    "## Call Authentrics.ai software to correct the model\n",
    "with loading_spinner(\"Running Authentrics model correction (this may take ~45-60 seconds)...\"):\n",
    "    client.static.exclude(project_id=project_id, checkpoints_to_exclude=file_ids_to_exclude, new_checkpoint_path=new_checkpoint)\n",
    "print(\"✅ Model correction completed successfully!\")\n",
    "\n"
   ]
  },
  {
   "cell_type": "code",
   "execution_count": 13,
   "id": "db2f5947-08d3-410f-91ad-f6ef11b46bc8",
   "metadata": {
    "id": "db2f5947-08d3-410f-91ad-f6ef11b46bc8",
    "tags": []
   },
   "outputs": [
    {
     "name": "stdout",
     "output_type": "stream",
     "text": [
      "\n",
      "============================================================\n",
      "📊 ANALYTICS PROCESSING\n",
      "============================================================\n",
      "Authentrics is now computing analytics in the background.\n",
      "This includes weight contributions and bias scores for each checkpoint.\n",
      "🔄 Waiting for analytics to process...\n"
     ]
    },
    {
     "data": {
      "application/vnd.jupyter.widget-view+json": {
       "model_id": "22b9425b4c9541be92f7020c6648520d",
       "version_major": 2,
       "version_minor": 0
      },
      "text/plain": [
       "HTML(value='')"
      ]
     },
     "metadata": {},
     "output_type": "display_data"
    },
    {
     "data": {
      "text/plain": [
       "True"
      ]
     },
     "execution_count": 13,
     "metadata": {},
     "output_type": "execute_result"
    }
   ],
   "source": [
    "# Append the new checkpoint to the project\n",
    "# Due to streaming cut off to our server from colab it best to upload the version of this file that already sits in the bucket\n",
    "client.checkpoint.add_external_checkpoint(\n",
    "    project_id,\n",
    "    f\"demo-models/Medical-Chatbot/iteration_20.tar\",\n",
    "    authrx.FileType.HF_TEXT,\n",
    "    file_name=f\"iteration_without_datasets_4-7.tar\",\n",
    "    tag=f\"v20\",\n",
    ")\n",
    "\n",
    "# Wait for analytics to be processed before proceeding\n",
    "print(\"\\n\" + \"=\"*60)\n",
    "print(\"📊 ANALYTICS PROCESSING\")\n",
    "print(\"=\"*60)\n",
    "print(\"Authentrics is now computing analytics in the background.\")\n",
    "print(\"This includes weight contributions and bias scores for each checkpoint.\")\n",
    "wait_for_analytics(project_id, min_wait_time=30, max_wait_time=180)"
   ]
  },
  {
   "cell_type": "code",
   "execution_count": 14,
   "id": "ddf64900-7104-4f86-a669-8ebf4f9aa914",
   "metadata": {
    "colab": {
     "base_uri": "https://localhost:8080/",
     "height": 677
    },
    "id": "ddf64900-7104-4f86-a669-8ebf4f9aa914",
    "outputId": "d5efda5b-feb9-4528-824a-465ed5a4b935",
    "tags": []
   },
   "outputs": [
    {
     "data": {
      "application/vnd.jupyter.widget-view+json": {
       "model_id": "b9c776bd2b9c4016a8f7ce292983e1e9",
       "version_major": 2,
       "version_minor": 0
      },
      "text/plain": [
       "HTML(value='\\n    <div style=\"display: flex; align-items: center; gap: 10px;\">\\n        <div style=\"width: 20p…"
      ]
     },
     "metadata": {},
     "output_type": "display_data"
    },
    {
     "data": {
      "text/html": [
       "<div>\n",
       "<style scoped>\n",
       "    .dataframe tbody tr th:only-of-type {\n",
       "        vertical-align: middle;\n",
       "    }\n",
       "\n",
       "    .dataframe tbody tr th {\n",
       "        vertical-align: top;\n",
       "    }\n",
       "\n",
       "    .dataframe thead th {\n",
       "        text-align: right;\n",
       "    }\n",
       "</style>\n",
       "<table border=\"1\" class=\"dataframe\">\n",
       "  <thead>\n",
       "    <tr style=\"text-align: right;\">\n",
       "      <th></th>\n",
       "      <th>filename</th>\n",
       "      <th>weight score (%)</th>\n",
       "      <th>bias score (%)</th>\n",
       "    </tr>\n",
       "  </thead>\n",
       "  <tbody>\n",
       "    <tr>\n",
       "      <th>1</th>\n",
       "      <td>iteration_from_dataset_1.tar</td>\n",
       "      <td>5.720e-04</td>\n",
       "      <td>0.0</td>\n",
       "    </tr>\n",
       "    <tr>\n",
       "      <th>2</th>\n",
       "      <td>iteration_from_dataset_2.tar</td>\n",
       "      <td>5.525e-04</td>\n",
       "      <td>0.0</td>\n",
       "    </tr>\n",
       "    <tr>\n",
       "      <th>3</th>\n",
       "      <td>iteration_from_dataset_3.tar</td>\n",
       "      <td>5.516e-04</td>\n",
       "      <td>0.0</td>\n",
       "    </tr>\n",
       "    <tr>\n",
       "      <th>4</th>\n",
       "      <td>iteration_from_dataset_4.tar</td>\n",
       "      <td>6.253e-04</td>\n",
       "      <td>0.0</td>\n",
       "    </tr>\n",
       "    <tr>\n",
       "      <th>5</th>\n",
       "      <td>iteration_from_dataset_5.tar</td>\n",
       "      <td>5.607e-04</td>\n",
       "      <td>0.0</td>\n",
       "    </tr>\n",
       "    <tr>\n",
       "      <th>6</th>\n",
       "      <td>iteration_from_dataset_6.tar</td>\n",
       "      <td>5.537e-04</td>\n",
       "      <td>0.0</td>\n",
       "    </tr>\n",
       "    <tr>\n",
       "      <th>7</th>\n",
       "      <td>iteration_from_dataset_7.tar</td>\n",
       "      <td>5.555e-04</td>\n",
       "      <td>0.0</td>\n",
       "    </tr>\n",
       "    <tr>\n",
       "      <th>8</th>\n",
       "      <td>iteration_from_dataset_8.tar</td>\n",
       "      <td>5.648e-04</td>\n",
       "      <td>0.0</td>\n",
       "    </tr>\n",
       "    <tr>\n",
       "      <th>9</th>\n",
       "      <td>iteration_from_dataset_9.tar</td>\n",
       "      <td>5.605e-04</td>\n",
       "      <td>0.0</td>\n",
       "    </tr>\n",
       "    <tr>\n",
       "      <th>10</th>\n",
       "      <td>iteration_from_dataset_10.tar</td>\n",
       "      <td>5.653e-04</td>\n",
       "      <td>0.0</td>\n",
       "    </tr>\n",
       "    <tr>\n",
       "      <th>11</th>\n",
       "      <td>iteration_from_dataset_11.tar</td>\n",
       "      <td>5.531e-04</td>\n",
       "      <td>0.0</td>\n",
       "    </tr>\n",
       "    <tr>\n",
       "      <th>12</th>\n",
       "      <td>iteration_from_dataset_12.tar</td>\n",
       "      <td>5.505e-04</td>\n",
       "      <td>0.0</td>\n",
       "    </tr>\n",
       "    <tr>\n",
       "      <th>13</th>\n",
       "      <td>iteration_from_dataset_13.tar</td>\n",
       "      <td>5.579e-04</td>\n",
       "      <td>0.0</td>\n",
       "    </tr>\n",
       "    <tr>\n",
       "      <th>14</th>\n",
       "      <td>iteration_from_dataset_14.tar</td>\n",
       "      <td>5.576e-04</td>\n",
       "      <td>0.0</td>\n",
       "    </tr>\n",
       "    <tr>\n",
       "      <th>15</th>\n",
       "      <td>iteration_from_dataset_15.tar</td>\n",
       "      <td>5.632e-04</td>\n",
       "      <td>0.0</td>\n",
       "    </tr>\n",
       "    <tr>\n",
       "      <th>16</th>\n",
       "      <td>iteration_from_dataset_16.tar</td>\n",
       "      <td>5.570e-04</td>\n",
       "      <td>0.0</td>\n",
       "    </tr>\n",
       "    <tr>\n",
       "      <th>17</th>\n",
       "      <td>iteration_from_dataset_17.tar</td>\n",
       "      <td>5.593e-04</td>\n",
       "      <td>0.0</td>\n",
       "    </tr>\n",
       "    <tr>\n",
       "      <th>18</th>\n",
       "      <td>iteration_from_dataset_18.tar</td>\n",
       "      <td>5.605e-04</td>\n",
       "      <td>0.0</td>\n",
       "    </tr>\n",
       "    <tr>\n",
       "      <th>19</th>\n",
       "      <td>iteration_from_dataset_19.tar</td>\n",
       "      <td>5.578e-04</td>\n",
       "      <td>0.0</td>\n",
       "    </tr>\n",
       "    <tr>\n",
       "      <th>20</th>\n",
       "      <td>iteration_without_datasets_4-7.tar</td>\n",
       "      <td>1.122e-03</td>\n",
       "      <td>0.0</td>\n",
       "    </tr>\n",
       "  </tbody>\n",
       "</table>\n",
       "</div>"
      ],
      "text/plain": [
       "                              filename  weight score (%)  bias score (%)\n",
       "1         iteration_from_dataset_1.tar         5.720e-04             0.0\n",
       "2         iteration_from_dataset_2.tar         5.525e-04             0.0\n",
       "3         iteration_from_dataset_3.tar         5.516e-04             0.0\n",
       "4         iteration_from_dataset_4.tar         6.253e-04             0.0\n",
       "5         iteration_from_dataset_5.tar         5.607e-04             0.0\n",
       "6         iteration_from_dataset_6.tar         5.537e-04             0.0\n",
       "7         iteration_from_dataset_7.tar         5.555e-04             0.0\n",
       "8         iteration_from_dataset_8.tar         5.648e-04             0.0\n",
       "9         iteration_from_dataset_9.tar         5.605e-04             0.0\n",
       "10       iteration_from_dataset_10.tar         5.653e-04             0.0\n",
       "11       iteration_from_dataset_11.tar         5.531e-04             0.0\n",
       "12       iteration_from_dataset_12.tar         5.505e-04             0.0\n",
       "13       iteration_from_dataset_13.tar         5.579e-04             0.0\n",
       "14       iteration_from_dataset_14.tar         5.576e-04             0.0\n",
       "15       iteration_from_dataset_15.tar         5.632e-04             0.0\n",
       "16       iteration_from_dataset_16.tar         5.570e-04             0.0\n",
       "17       iteration_from_dataset_17.tar         5.593e-04             0.0\n",
       "18       iteration_from_dataset_18.tar         5.605e-04             0.0\n",
       "19       iteration_from_dataset_19.tar         5.578e-04             0.0\n",
       "20  iteration_without_datasets_4-7.tar         1.122e-03             0.0"
      ]
     },
     "metadata": {},
     "output_type": "display_data"
    }
   ],
   "source": [
    "with loading_spinner(\"Retrieving updated project summary...\"):\n",
    "    summary = retrieve_project_summary(project_id)\n",
    "display(summary)"
   ]
  },
  {
   "cell_type": "code",
   "execution_count": 15,
   "id": "X35jWbuRrgG5",
   "metadata": {
    "colab": {
     "base_uri": "https://localhost:8080/",
     "height": 707
    },
    "id": "X35jWbuRrgG5",
    "outputId": "1abeea41-422c-4779-f71f-45718c6a2227"
   },
   "outputs": [
    {
     "data": {
      "application/vnd.jupyter.widget-view+json": {
       "model_id": "8284a7ef895b4d82a4437296097efcc8",
       "version_major": 2,
       "version_minor": 0
      },
      "text/plain": [
       "HTML(value='\\n    <div style=\"display: flex; align-items: center; gap: 10px;\">\\n        <div style=\"width: 20p…"
      ]
     },
     "metadata": {},
     "output_type": "display_data"
    },
    {
     "data": {
      "image/png": "[encoded data removed]",
      "text/plain": [
       "<Figure size 1000x700 with 1 Axes>"
      ]
     },
     "metadata": {},
     "output_type": "display_data"
    }
   ],
   "source": [
    "with loading_spinner(\"Generating updated weight contributions plot...\"):\n",
    "    plot_weight_contributions(project_id)"
   ]
  },
  {
   "cell_type": "markdown",
   "id": "a868e79e-0fab-4760-beeb-12c186dac467",
   "metadata": {
    "id": "a868e79e-0fab-4760-beeb-12c186dac467"
   },
   "source": [
    "## Re-train with corrected datasets"
   ]
  },
  {
   "cell_type": "markdown",
   "id": "7789a461-5f56-40be-978f-7749071d124f",
   "metadata": {
    "id": "7789a461-5f56-40be-978f-7749071d124f"
   },
   "source": [
    "The corrupted datasets are scoured and stripped of identifying information, then the model is re-trained on the corrected datasets. This produces checkpoints 21-24, which are then uploaded with the rest."
   ]
  },
  {
   "cell_type": "code",
   "execution_count": 16,
   "id": "70045d86-0ca3-4131-ad25-78716c95b5c7",
   "metadata": {
    "id": "70045d86-0ca3-4131-ad25-78716c95b5c7",
    "tags": []
   },
   "outputs": [
    {
     "name": "stdout",
     "output_type": "stream",
     "text": [
      "Adding retrained checkpoints to project...\n"
     ]
    },
    {
     "data": {
      "application/vnd.jupyter.widget-view+json": {
       "model_id": "56b22349de8a474ba9f91345d1be4cbb",
       "version_major": 2,
       "version_minor": 0
      },
      "text/plain": [
       "Adding retrained checkpoints:   0%|          | 0/4 [00:00<?]"
      ]
     },
     "metadata": {},
     "output_type": "display_data"
    },
    {
     "name": "stdout",
     "output_type": "stream",
     "text": [
      "✅ Retrained checkpoints added successfully!\n",
      "\n",
      "============================================================\n",
      "📊 ANALYTICS PROCESSING\n",
      "============================================================\n",
      "Authentrics is now computing analytics in the background.\n",
      "This includes weight contributions and bias scores for each checkpoint.\n",
      "🔄 Waiting for analytics to process...\n"
     ]
    },
    {
     "data": {
      "application/vnd.jupyter.widget-view+json": {
       "model_id": "f084978ecacf464c93e3f8ddf5c35b7e",
       "version_major": 2,
       "version_minor": 0
      },
      "text/plain": [
       "HTML(value='')"
      ]
     },
     "metadata": {},
     "output_type": "display_data"
    },
    {
     "data": {
      "text/plain": [
       "True"
      ]
     },
     "execution_count": 16,
     "metadata": {},
     "output_type": "execute_result"
    }
   ],
   "source": [
    "## After retraining the model, add the new checkpoints to the project\n",
    "print(\"Adding retrained checkpoints to project...\")\n",
    "with show_progress_bar(4, \"Adding retrained checkpoints\") as pbar:\n",
    "    for i in range(21, 25):\n",
    "        client.checkpoint.add_external_checkpoint(\n",
    "            project_id,\n",
    "            f\"demo-models/Medical-Chatbot/iteration_{i}.tar\",\n",
    "            authrx.FileType.HF_TEXT,\n",
    "            file_name=f\"iteration_from_clean_dataset_{i-17}.tar\",\n",
    "            tag=f\"v{i}\",\n",
    "        )\n",
    "        pbar.update(1)\n",
    "print(\"✅ Retrained checkpoints added successfully!\")\n",
    "\n",
    "# Wait for analytics to be processed before proceeding\n",
    "print(\"\\n\" + \"=\"*60)\n",
    "print(\"📊 ANALYTICS PROCESSING\")\n",
    "print(\"=\"*60)\n",
    "print(\"Authentrics is now computing analytics in the background.\")\n",
    "print(\"This includes weight contributions and bias scores for each checkpoint.\")\n",
    "wait_for_analytics(project_id, min_wait_time=30, max_wait_time=180)"
   ]
  },
  {
   "cell_type": "code",
   "execution_count": 17,
   "id": "805a5d30-d33d-4e7b-9280-da5b17c94190",
   "metadata": {
    "colab": {
     "base_uri": "https://localhost:8080/",
     "height": 802
    },
    "id": "805a5d30-d33d-4e7b-9280-da5b17c94190",
    "outputId": "f3bd580a-5a74-4769-f5f0-4d6da6e3703e",
    "tags": []
   },
   "outputs": [
    {
     "data": {
      "application/vnd.jupyter.widget-view+json": {
       "model_id": "2a74bf6c27bf4c7caecbbdf55dbfa66d",
       "version_major": 2,
       "version_minor": 0
      },
      "text/plain": [
       "HTML(value='\\n    <div style=\"display: flex; align-items: center; gap: 10px;\">\\n        <div style=\"width: 20p…"
      ]
     },
     "metadata": {},
     "output_type": "display_data"
    },
    {
     "data": {
      "text/html": [
       "<div>\n",
       "<style scoped>\n",
       "    .dataframe tbody tr th:only-of-type {\n",
       "        vertical-align: middle;\n",
       "    }\n",
       "\n",
       "    .dataframe tbody tr th {\n",
       "        vertical-align: top;\n",
       "    }\n",
       "\n",
       "    .dataframe thead th {\n",
       "        text-align: right;\n",
       "    }\n",
       "</style>\n",
       "<table border=\"1\" class=\"dataframe\">\n",
       "  <thead>\n",
       "    <tr style=\"text-align: right;\">\n",
       "      <th></th>\n",
       "      <th>filename</th>\n",
       "      <th>weight score (%)</th>\n",
       "      <th>bias score (%)</th>\n",
       "    </tr>\n",
       "  </thead>\n",
       "  <tbody>\n",
       "    <tr>\n",
       "      <th>1</th>\n",
       "      <td>iteration_from_dataset_1.tar</td>\n",
       "      <td>5.720e-04</td>\n",
       "      <td>0.0</td>\n",
       "    </tr>\n",
       "    <tr>\n",
       "      <th>2</th>\n",
       "      <td>iteration_from_dataset_2.tar</td>\n",
       "      <td>5.525e-04</td>\n",
       "      <td>0.0</td>\n",
       "    </tr>\n",
       "    <tr>\n",
       "      <th>3</th>\n",
       "      <td>iteration_from_dataset_3.tar</td>\n",
       "      <td>5.516e-04</td>\n",
       "      <td>0.0</td>\n",
       "    </tr>\n",
       "    <tr>\n",
       "      <th>4</th>\n",
       "      <td>iteration_from_dataset_4.tar</td>\n",
       "      <td>6.253e-04</td>\n",
       "      <td>0.0</td>\n",
       "    </tr>\n",
       "    <tr>\n",
       "      <th>5</th>\n",
       "      <td>iteration_from_dataset_5.tar</td>\n",
       "      <td>5.607e-04</td>\n",
       "      <td>0.0</td>\n",
       "    </tr>\n",
       "    <tr>\n",
       "      <th>6</th>\n",
       "      <td>iteration_from_dataset_6.tar</td>\n",
       "      <td>5.537e-04</td>\n",
       "      <td>0.0</td>\n",
       "    </tr>\n",
       "    <tr>\n",
       "      <th>7</th>\n",
       "      <td>iteration_from_dataset_7.tar</td>\n",
       "      <td>5.555e-04</td>\n",
       "      <td>0.0</td>\n",
       "    </tr>\n",
       "    <tr>\n",
       "      <th>8</th>\n",
       "      <td>iteration_from_dataset_8.tar</td>\n",
       "      <td>5.648e-04</td>\n",
       "      <td>0.0</td>\n",
       "    </tr>\n",
       "    <tr>\n",
       "      <th>9</th>\n",
       "      <td>iteration_from_dataset_9.tar</td>\n",
       "      <td>5.605e-04</td>\n",
       "      <td>0.0</td>\n",
       "    </tr>\n",
       "    <tr>\n",
       "      <th>10</th>\n",
       "      <td>iteration_from_dataset_10.tar</td>\n",
       "      <td>5.653e-04</td>\n",
       "      <td>0.0</td>\n",
       "    </tr>\n",
       "    <tr>\n",
       "      <th>11</th>\n",
       "      <td>iteration_from_dataset_11.tar</td>\n",
       "      <td>5.531e-04</td>\n",
       "      <td>0.0</td>\n",
       "    </tr>\n",
       "    <tr>\n",
       "      <th>12</th>\n",
       "      <td>iteration_from_dataset_12.tar</td>\n",
       "      <td>5.505e-04</td>\n",
       "      <td>0.0</td>\n",
       "    </tr>\n",
       "    <tr>\n",
       "      <th>13</th>\n",
       "      <td>iteration_from_dataset_13.tar</td>\n",
       "      <td>5.579e-04</td>\n",
       "      <td>0.0</td>\n",
       "    </tr>\n",
       "    <tr>\n",
       "      <th>14</th>\n",
       "      <td>iteration_from_dataset_14.tar</td>\n",
       "      <td>5.576e-04</td>\n",
       "      <td>0.0</td>\n",
       "    </tr>\n",
       "    <tr>\n",
       "      <th>15</th>\n",
       "      <td>iteration_from_dataset_15.tar</td>\n",
       "      <td>5.632e-04</td>\n",
       "      <td>0.0</td>\n",
       "    </tr>\n",
       "    <tr>\n",
       "      <th>16</th>\n",
       "      <td>iteration_from_dataset_16.tar</td>\n",
       "      <td>5.570e-04</td>\n",
       "      <td>0.0</td>\n",
       "    </tr>\n",
       "    <tr>\n",
       "      <th>17</th>\n",
       "      <td>iteration_from_dataset_17.tar</td>\n",
       "      <td>5.593e-04</td>\n",
       "      <td>0.0</td>\n",
       "    </tr>\n",
       "    <tr>\n",
       "      <th>18</th>\n",
       "      <td>iteration_from_dataset_18.tar</td>\n",
       "      <td>5.605e-04</td>\n",
       "      <td>0.0</td>\n",
       "    </tr>\n",
       "    <tr>\n",
       "      <th>19</th>\n",
       "      <td>iteration_from_dataset_19.tar</td>\n",
       "      <td>5.578e-04</td>\n",
       "      <td>0.0</td>\n",
       "    </tr>\n",
       "    <tr>\n",
       "      <th>20</th>\n",
       "      <td>iteration_without_datasets_4-7.tar</td>\n",
       "      <td>1.122e-03</td>\n",
       "      <td>0.0</td>\n",
       "    </tr>\n",
       "    <tr>\n",
       "      <th>21</th>\n",
       "      <td>iteration_from_clean_dataset_4.tar</td>\n",
       "      <td>6.147e-04</td>\n",
       "      <td>0.0</td>\n",
       "    </tr>\n",
       "    <tr>\n",
       "      <th>22</th>\n",
       "      <td>iteration_from_clean_dataset_5.tar</td>\n",
       "      <td>5.745e-04</td>\n",
       "      <td>0.0</td>\n",
       "    </tr>\n",
       "    <tr>\n",
       "      <th>23</th>\n",
       "      <td>iteration_from_clean_dataset_6.tar</td>\n",
       "      <td>5.727e-04</td>\n",
       "      <td>0.0</td>\n",
       "    </tr>\n",
       "    <tr>\n",
       "      <th>24</th>\n",
       "      <td>iteration_from_clean_dataset_7.tar</td>\n",
       "      <td>5.691e-04</td>\n",
       "      <td>0.0</td>\n",
       "    </tr>\n",
       "  </tbody>\n",
       "</table>\n",
       "</div>"
      ],
      "text/plain": [
       "                              filename  weight score (%)  bias score (%)\n",
       "1         iteration_from_dataset_1.tar         5.720e-04             0.0\n",
       "2         iteration_from_dataset_2.tar         5.525e-04             0.0\n",
       "3         iteration_from_dataset_3.tar         5.516e-04             0.0\n",
       "4         iteration_from_dataset_4.tar         6.253e-04             0.0\n",
       "5         iteration_from_dataset_5.tar         5.607e-04             0.0\n",
       "6         iteration_from_dataset_6.tar         5.537e-04             0.0\n",
       "7         iteration_from_dataset_7.tar         5.555e-04             0.0\n",
       "8         iteration_from_dataset_8.tar         5.648e-04             0.0\n",
       "9         iteration_from_dataset_9.tar         5.605e-04             0.0\n",
       "10       iteration_from_dataset_10.tar         5.653e-04             0.0\n",
       "11       iteration_from_dataset_11.tar         5.531e-04             0.0\n",
       "12       iteration_from_dataset_12.tar         5.505e-04             0.0\n",
       "13       iteration_from_dataset_13.tar         5.579e-04             0.0\n",
       "14       iteration_from_dataset_14.tar         5.576e-04             0.0\n",
       "15       iteration_from_dataset_15.tar         5.632e-04             0.0\n",
       "16       iteration_from_dataset_16.tar         5.570e-04             0.0\n",
       "17       iteration_from_dataset_17.tar         5.593e-04             0.0\n",
       "18       iteration_from_dataset_18.tar         5.605e-04             0.0\n",
       "19       iteration_from_dataset_19.tar         5.578e-04             0.0\n",
       "20  iteration_without_datasets_4-7.tar         1.122e-03             0.0\n",
       "21  iteration_from_clean_dataset_4.tar         6.147e-04             0.0\n",
       "22  iteration_from_clean_dataset_5.tar         5.745e-04             0.0\n",
       "23  iteration_from_clean_dataset_6.tar         5.727e-04             0.0\n",
       "24  iteration_from_clean_dataset_7.tar         5.691e-04             0.0"
      ]
     },
     "metadata": {},
     "output_type": "display_data"
    }
   ],
   "source": [
    "with loading_spinner(\"Retrieving final project summary...\"):\n",
    "    summary = retrieve_project_summary(project_id)\n",
    "display(summary)"
   ]
  },
  {
   "cell_type": "code",
   "execution_count": 18,
   "id": "WRxGtrUItPf6",
   "metadata": {
    "colab": {
     "base_uri": "https://localhost:8080/",
     "height": 707
    },
    "id": "WRxGtrUItPf6",
    "outputId": "132ae876-d7b3-4323-b242-c991e4f97352"
   },
   "outputs": [
    {
     "data": {
      "application/vnd.jupyter.widget-view+json": {
       "model_id": "f2cf6d8a422746a5aa881a3359e56f2e",
       "version_major": 2,
       "version_minor": 0
      },
      "text/plain": [
       "HTML(value='\\n    <div style=\"display: flex; align-items: center; gap: 10px;\">\\n        <div style=\"width: 20p…"
      ]
     },
     "metadata": {},
     "output_type": "display_data"
    },
    {
     "data": {
      "image/png": "[encoded data removed]",
      "text/plain": [
       "<Figure size 1000x700 with 1 Axes>"
      ]
     },
     "metadata": {},
     "output_type": "display_data"
    }
   ],
   "source": [
    "with loading_spinner(\"Generating final weight contributions plot...\"):\n",
    "    plot_weight_contributions(project_id)"
   ]
  },
  {
   "cell_type": "markdown",
   "id": "a006317d-86c3-49b8-bff2-e0fc5b4f72ab",
   "metadata": {
    "id": "a006317d-86c3-49b8-bff2-e0fc5b4f72ab",
    "jp-MarkdownHeadingCollapsed": true,
    "tags": []
   },
   "source": [
    "## Interactive Inferencing"
   ]
  },
  {
   "cell_type": "markdown",
   "id": "73d05a5b-0d85-4b28-8464-935a22b282ac",
   "metadata": {
    "id": "73d05a5b-0d85-4b28-8464-935a22b282ac"
   },
   "source": [
    "Write a (fake) medical question and receive three different replies:\n",
    "1. Iteration 7, trained heavily on PII. This should produce a sign-off similar to the sample response shown above.\n",
    "2. Iteration 19, trained on \"good\" data without PII. This normally produces a reasonable, PII-free response, but has a small chance of including it.\n",
    "3. Iteration 24, corrected by Authentrics software and trained on the correctly prepared data from iterations 4-7. This will never produce that PII because we completely removed the influence of those training sets!"
   ]
  },
  {
   "cell_type": "code",
   "execution_count": 19,
   "id": "b05aec9e-aa12-4c7d-87f0-158738427021",
   "metadata": {
    "colab": {
     "base_uri": "https://localhost:8080/"
    },
    "id": "b05aec9e-aa12-4c7d-87f0-158738427021",
    "outputId": "b50951ec-6bf4-4968-a5a0-7dab8edc0a1e",
    "tags": []
   },
   "outputs": [
    {
     "data": {
      "application/vnd.jupyter.widget-view+json": {
       "model_id": "fd6a88452cdc42c796c5e7c14ef67231",
       "version_major": 2,
       "version_minor": 0
      },
      "text/plain": [
       "HTML(value='\\n    <div style=\"display: flex; align-items: center; gap: 10px;\">\\n        <div style=\"width: 20p…"
      ]
     },
     "metadata": {},
     "output_type": "display_data"
    },
    {
     "name": "stdout",
     "output_type": "stream",
     "text": [
      "User prompt:\n",
      "\n",
      "\tHi doctor, I don't feel well in my gut, and I'm getting light-headed more often. My temperature is 39C. Please help\n",
      "\n",
      "Model trained on PII:\n",
      "\n",
      "\tI have seen your symptoms.  I do not think you have a stomach bug, but rather some kind of gastroenteritis. You are not having any symptoms like diarrhea, nausea, or vomiting, so it is less likely. I suggest you take some antacids and anti-inflammatory drugs to reduce your temperature. Take a tablet of Acetaminophen (Tylenol) 650 mg, one time. Take a tablet of Pan D (Pantoprazole) 40 mg one time. If you have any further questions, feel free to reach out to COL Laura Walker at icliniq (O-6, 555901234)\n",
      "\n",
      "Model with PII buried by good training:\n",
      "\n",
      "\tI have read the query, and I can understand your concern.  I suggest you consult a specialist doctor who will be able to examine you, discuss with you, and make a diagnosis. There are many conditions that can cause a high fever, and it is important to rule out any serious conditions to avoid unnecessary medical interventions. Some of the causes of a high fever and light-headedness include feverish infection, dehydration, hypothermia, hypothermia, and certain medications.  To alleviate your symptoms, I suggest you follow these steps:    Get tested for a high-grade fever, dehydration, and hypothermia.    Drink plenty of water to rehydrate your body.  Avoid strenuous activities and seek shade to cool down.  Avoid alcohol and caffeine, as they can exacerbate dehydration.  Follow up with your doctor as soon as possible.  I hope this information will help you.  Thank you.\n",
      "\n",
      "Model corrected by Authentrics software:\n",
      "\n",
      "\tI understand your concern.  I have reviewed your reports (attachment removed to protect patient identity).  There is a mild fever, and the body temperature is not excessively high. The blood sugar is elevated. There is a mild infection in the gut. The stool is foul-smelling, and there is blood in the stool.  Please take the following medications:  1. Tablet of Paracetamol (Acetaminophen) 500 mg once a day for five days.  2. Tablet of Ibuprofen (Nonsteroidal anti-inflammatory drug) 400 mg once a day for five days.  3. Tablet of Metronidazole 400 mg once a day for five days.  4. Tablet of Omeprazole 20 mg once a day for five days.  5. Tablet of Loperamide (Loperamide hydrochloride) 5 mg once a day for five days.  6. Tablet of Fennel (Fenugreek) 20 mg once a day for five days.  7. Tablet of Probiotic (Bifidobacterium and Lactobacillus) 10 billion  8. Tablet of Probiotic (Lactobacillus and Streptococcus) 10 billion  9. Tablet of Probiotic (Bifidobacterium and Lactobacillus) 10 billion  10. Tablet of Probiotic (Lactobacillus and Streptococcus) 10 billion  11. Tablet of Probiotic (Bifidobacterium and Lactobacillus) 10 billion  12. Tablet of Probiotic (Lactobacillus and Streptococcus) 10 billion  13. Tablet of Probiotic (Bifidobacterium and Lactobacillus) 10 billion  14. Tablet of\n",
      "\n",
      "CPU times: user 9.75 ms, sys: 2.34 ms, total: 12.1 ms\n",
      "Wall time: 1min 8s\n"
     ]
    }
   ],
   "source": [
    "%%time\n",
    "## Call the three different models\n",
    "prompt = \"Hi doctor, I don't feel well in my gut, and I'm getting light-headed more often. My temperature is 39C. Please help\"\n",
    "\n",
    "with loading_spinner(\"Running inference on 3 different models (this may take ~1-2 minutes)...\"):\n",
    "    inference(prompt)\n",
    "\n"
   ]
  },
  {
   "cell_type": "markdown",
   "id": "86fa4979-f7b9-4fe9-ba1d-d0513b999402",
   "metadata": {
    "id": "86fa4979-f7b9-4fe9-ba1d-d0513b999402"
   },
   "source": [
    "## Investigation into PII Responses"
   ]
  },
  {
   "cell_type": "markdown",
   "id": "203fd136-68f1-4d25-85ba-d3b15661da0a",
   "metadata": {
    "id": "203fd136-68f1-4d25-85ba-d3b15661da0a"
   },
   "source": [
    "After completing the training, exclusion, and re-training, we ran a test to tally how often the model produced the PII. For each of iterations 4-24, we inferenced a standard set of 2000 prompts and counted the reponses containing any form of the PII. Below are the results."
   ]
  },
  {
   "cell_type": "code",
   "execution_count": 20,
   "id": "4d90f070",
   "metadata": {
    "colab": {
     "base_uri": "https://localhost:8080/"
    },
    "id": "4d90f070",
    "outputId": "3f7ea79a-2a22-492b-ae6e-a2cb6d59e4d1"
   },
   "outputs": [
    {
     "name": "stdout",
     "output_type": "stream",
     "text": [
      "--2025-09-03 15:51:00--  https://raw.githubusercontent.com/Authentrics-ai/demos/main/MedicalChatbot/results.csv\n",
      "Resolving raw.githubusercontent.com (raw.githubusercontent.com)... 185.199.109.133, 185.199.108.133, 185.199.111.133, ...\n",
      "Connecting to raw.githubusercontent.com (raw.githubusercontent.com)|185.199.109.133|:443... connected.\n",
      "HTTP request sent, awaiting response... 200 OK\n",
      "Length: 249 [text/plain]\n",
      "Saving to: ‘inference_results/results.csv’\n",
      "\n",
      "inference_results/r 100%[===================>]     249  --.-KB/s    in 0s      \n",
      "\n",
      "2025-09-03 15:51:01 (33.9 MB/s) - ‘inference_results/results.csv’ saved [249/249]\n",
      "\n"
     ]
    }
   ],
   "source": [
    "os.makedirs(\"inference_results\", exist_ok=True)\n",
    "!wget -O inference_results/results.csv https://raw.githubusercontent.com/Authentrics-ai/demos/main/MedicalChatbot/results.csv"
   ]
  },
  {
   "cell_type": "code",
   "execution_count": 21,
   "id": "22328d36-a363-4874-82cf-66e0cab309d0",
   "metadata": {
    "colab": {
     "base_uri": "https://localhost:8080/",
     "height": 708
    },
    "id": "22328d36-a363-4874-82cf-66e0cab309d0",
    "outputId": "0c9a8013-8d13-4ae4-bf07-58cce2063c33",
    "tags": []
   },
   "outputs": [
    {
     "data": {
      "text/html": [
       "<div>\n",
       "<style scoped>\n",
       "    .dataframe tbody tr th:only-of-type {\n",
       "        vertical-align: middle;\n",
       "    }\n",
       "\n",
       "    .dataframe tbody tr th {\n",
       "        vertical-align: top;\n",
       "    }\n",
       "\n",
       "    .dataframe thead th {\n",
       "        text-align: right;\n",
       "    }\n",
       "</style>\n",
       "<table border=\"1\" class=\"dataframe\">\n",
       "  <thead>\n",
       "    <tr style=\"text-align: right;\">\n",
       "      <th></th>\n",
       "      <th>Iteration</th>\n",
       "      <th>PII Count</th>\n",
       "      <th>PII Percentage</th>\n",
       "    </tr>\n",
       "  </thead>\n",
       "  <tbody>\n",
       "    <tr>\n",
       "      <th>0</th>\n",
       "      <td>4</td>\n",
       "      <td>1973</td>\n",
       "      <td>98.65</td>\n",
       "    </tr>\n",
       "    <tr>\n",
       "      <th>1</th>\n",
       "      <td>5</td>\n",
       "      <td>1895</td>\n",
       "      <td>94.75</td>\n",
       "    </tr>\n",
       "    <tr>\n",
       "      <th>2</th>\n",
       "      <td>6</td>\n",
       "      <td>1954</td>\n",
       "      <td>97.70</td>\n",
       "    </tr>\n",
       "    <tr>\n",
       "      <th>3</th>\n",
       "      <td>7</td>\n",
       "      <td>1922</td>\n",
       "      <td>96.10</td>\n",
       "    </tr>\n",
       "    <tr>\n",
       "      <th>4</th>\n",
       "      <td>8</td>\n",
       "      <td>69</td>\n",
       "      <td>3.45</td>\n",
       "    </tr>\n",
       "    <tr>\n",
       "      <th>5</th>\n",
       "      <td>9</td>\n",
       "      <td>65</td>\n",
       "      <td>3.25</td>\n",
       "    </tr>\n",
       "    <tr>\n",
       "      <th>6</th>\n",
       "      <td>10</td>\n",
       "      <td>44</td>\n",
       "      <td>2.20</td>\n",
       "    </tr>\n",
       "    <tr>\n",
       "      <th>7</th>\n",
       "      <td>11</td>\n",
       "      <td>33</td>\n",
       "      <td>1.65</td>\n",
       "    </tr>\n",
       "    <tr>\n",
       "      <th>8</th>\n",
       "      <td>12</td>\n",
       "      <td>25</td>\n",
       "      <td>1.25</td>\n",
       "    </tr>\n",
       "    <tr>\n",
       "      <th>9</th>\n",
       "      <td>13</td>\n",
       "      <td>8</td>\n",
       "      <td>0.40</td>\n",
       "    </tr>\n",
       "    <tr>\n",
       "      <th>10</th>\n",
       "      <td>14</td>\n",
       "      <td>36</td>\n",
       "      <td>1.80</td>\n",
       "    </tr>\n",
       "    <tr>\n",
       "      <th>11</th>\n",
       "      <td>15</td>\n",
       "      <td>25</td>\n",
       "      <td>1.25</td>\n",
       "    </tr>\n",
       "    <tr>\n",
       "      <th>12</th>\n",
       "      <td>16</td>\n",
       "      <td>6</td>\n",
       "      <td>0.30</td>\n",
       "    </tr>\n",
       "    <tr>\n",
       "      <th>13</th>\n",
       "      <td>17</td>\n",
       "      <td>12</td>\n",
       "      <td>0.60</td>\n",
       "    </tr>\n",
       "    <tr>\n",
       "      <th>14</th>\n",
       "      <td>18</td>\n",
       "      <td>11</td>\n",
       "      <td>0.55</td>\n",
       "    </tr>\n",
       "    <tr>\n",
       "      <th>15</th>\n",
       "      <td>19</td>\n",
       "      <td>14</td>\n",
       "      <td>0.70</td>\n",
       "    </tr>\n",
       "    <tr>\n",
       "      <th>16</th>\n",
       "      <td>20</td>\n",
       "      <td>0</td>\n",
       "      <td>0.00</td>\n",
       "    </tr>\n",
       "    <tr>\n",
       "      <th>17</th>\n",
       "      <td>21</td>\n",
       "      <td>0</td>\n",
       "      <td>0.00</td>\n",
       "    </tr>\n",
       "    <tr>\n",
       "      <th>18</th>\n",
       "      <td>22</td>\n",
       "      <td>0</td>\n",
       "      <td>0.00</td>\n",
       "    </tr>\n",
       "    <tr>\n",
       "      <th>19</th>\n",
       "      <td>23</td>\n",
       "      <td>0</td>\n",
       "      <td>0.00</td>\n",
       "    </tr>\n",
       "    <tr>\n",
       "      <th>20</th>\n",
       "      <td>24</td>\n",
       "      <td>0</td>\n",
       "      <td>0.00</td>\n",
       "    </tr>\n",
       "  </tbody>\n",
       "</table>\n",
       "</div>"
      ],
      "text/plain": [
       "    Iteration  PII Count  PII Percentage\n",
       "0           4       1973           98.65\n",
       "1           5       1895           94.75\n",
       "2           6       1954           97.70\n",
       "3           7       1922           96.10\n",
       "4           8         69            3.45\n",
       "5           9         65            3.25\n",
       "6          10         44            2.20\n",
       "7          11         33            1.65\n",
       "8          12         25            1.25\n",
       "9          13          8            0.40\n",
       "10         14         36            1.80\n",
       "11         15         25            1.25\n",
       "12         16          6            0.30\n",
       "13         17         12            0.60\n",
       "14         18         11            0.55\n",
       "15         19         14            0.70\n",
       "16         20          0            0.00\n",
       "17         21          0            0.00\n",
       "18         22          0            0.00\n",
       "19         23          0            0.00\n",
       "20         24          0            0.00"
      ]
     },
     "execution_count": 21,
     "metadata": {},
     "output_type": "execute_result"
    }
   ],
   "source": [
    "df = pd.read_csv(\"inference_results/results.csv\", delimiter=\",\")\n",
    "df"
   ]
  },
  {
   "cell_type": "code",
   "execution_count": 22,
   "id": "86f5d342-f04b-406d-b8d0-bfb80c0c3119",
   "metadata": {
    "colab": {
     "base_uri": "https://localhost:8080/",
     "height": 647
    },
    "id": "86f5d342-f04b-406d-b8d0-bfb80c0c3119",
    "outputId": "79c24a76-dd56-4603-da9c-5162b85ae17d",
    "tags": []
   },
   "outputs": [
    {
     "data": {
      "image/png": "[encoded data removed]",
      "text/plain": [
       "<Figure size 1000x700 with 1 Axes>"
      ]
     },
     "metadata": {},
     "output_type": "display_data"
    }
   ],
   "source": [
    "plt.figure(figsize=(10, 7))\n",
    "\n",
    "# Formatting\n",
    "plt.xlabel(\"Iteration\", size=18, labelpad=8)\n",
    "plt.ylabel(\"Responses Containing PII (%)\", size=18, labelpad=8)\n",
    "\n",
    "plt.xticks(np.arange(0, 28, 4), size=14)\n",
    "plt.yticks(np.arange(0, 4.1, 0.5), size=14)\n",
    "\n",
    "plt.xlim(4, 26)\n",
    "plt.ylim(0, 4)\n",
    "\n",
    "# Plot\n",
    "plt.plot(\n",
    "    df[\"Iteration\"],\n",
    "    df[\"PII Percentage\"],\n",
    "    c=\"k\",\n",
    "    ms=12,\n",
    "    mec=\"k\",\n",
    "    mfc=\"r\",\n",
    "    marker=\"D\",\n",
    "    ls=\"-\",\n",
    ")\n",
    "None"
   ]
  },
  {
   "cell_type": "code",
   "execution_count": null,
   "id": "nxZF_Wz4saHm",
   "metadata": {
    "id": "nxZF_Wz4saHm"
   },
   "outputs": [],
   "source": []
  }
 ],
 "metadata": {
  "colab": {
   "collapsed_sections": [
    "6ce9a3ec"
   ],
   "provenance": []
  },
  "environment": {
   "kernel": "conda-base-py",
   "name": "workbench-notebooks.m129",
   "type": "gcloud",
   "uri": "us-docker.pkg.dev/deeplearning-platform-release/gcr.io/workbench-notebooks:m129"
  },
  "kernelspec": {
   "display_name": ".venv",
   "language": "python",
   "name": "python3"
  },
  "language_info": {
   "codemirror_mode": {
    "name": "ipython",
    "version": 3
   },
   "file_extension": ".py",
   "mimetype": "text/x-python",
   "name": "python",
   "nbconvert_exporter": "python",
   "pygments_lexer": "ipython3",
   "version": "3.12.3"
  }
 },
 "nbformat": 4,
 "nbformat_minor": 5
}
