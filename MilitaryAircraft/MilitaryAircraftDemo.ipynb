{
  "cells": [
    {
      "cell_type": "markdown",
      "id": "224f19fc-b5bd-489a-87d4-dba081b5bdca",
      "metadata": {
        "id": "224f19fc-b5bd-489a-87d4-dba081b5bdca"
      },
      "source": [
        "# Demonstration of Authentrics.ai Static & Dynamic Analysis\n",
        "**Note: This demo uses publicly available aircraft types for classification purposes.**\n",
        "**No sensitive or classified military information is included.**"
      ]
    },
    {
      "cell_type": "markdown",
      "id": "15cf81ea-bb4a-4f8b-b5b2-2aca0fdfd1db",
      "metadata": {
        "id": "15cf81ea-bb4a-4f8b-b5b2-2aca0fdfd1db",
        "tags": []
      },
      "source": [
        "## Setup"
      ]
    },
    {
      "cell_type": "markdown",
      "id": "cf50b13093ec83f0",
      "metadata": {
        "id": "cf50b13093ec83f0"
      },
      "source": [
        "### Install dependencies and utility functions: This cell should be run once."
      ]
    },
    {
      "cell_type": "code",
      "execution_count": 1,
      "id": "50611890be6eb16d",
      "metadata": {
        "ExecuteTime": {
          "end_time": "2025-08-04T21:53:57.458507Z",
          "start_time": "2025-08-04T21:53:48.115721Z"
        },
        "id": "50611890be6eb16d"
      },
      "outputs": [],
      "source": [
        "%%capture\n",
        "\n",
        "%pip install matplotlib numpy pandas requests tqdm ipywidgets\n",
        "%pip install --ignore-installed 'git+https://github.com/Authentrics-ai/authentrics-client.git@fallback-release'\n",
        "\n",
        "from pathlib import Path\n",
        "\n",
        "import os\n",
        "import authentrics_client as authrx\n",
        "import matplotlib.pyplot as plt\n",
        "import numpy as np\n",
        "import pandas as pd\n",
        "import requests\n",
        "from datetime import datetime\n",
        "import time\n",
        "from tqdm.notebook import tqdm\n",
        "from IPython.display import display, HTML, clear_output\n",
        "import ipywidgets as widgets\n",
        "from threading import Thread\n",
        "import contextlib\n",
        "\n",
        "# Utility functions for loading indicators\n",
        "@contextlib.contextmanager\n",
        "def loading_spinner(message=\"Processing...\"):\n",
        "    \"\"\"Context manager for showing a loading spinner\"\"\"\n",
        "    spinner_widget = widgets.HTML(value=f\"\"\"\n",
        "    <div style=\"display: flex; align-items: center; gap: 10px;\">\n",
        "        <div style=\"width: 20px; height: 20px; border: 2px solid #f3f3f3; border-top: 2px solid #3498db; border-radius: 50%; animation: spin 1s linear infinite;\"></div>\n",
        "        <span style=\"font-size: 14px; color: #555;\">{message}</span>\n",
        "    </div>\n",
        "    <style>\n",
        "    @keyframes spin {{\n",
        "        0% {{ transform: rotate(0deg); }}\n",
        "        100% {{ transform: rotate(360deg); }}\n",
        "    }}\n",
        "    </style>\n",
        "    \"\"\")\n",
        "    display(spinner_widget)\n",
        "    try:\n",
        "        yield\n",
        "    finally:\n",
        "        spinner_widget.close()\n",
        "\n",
        "def show_progress_bar(total, description=\"Progress\"):\n",
        "    \"\"\"Create and return a progress bar\"\"\"\n",
        "    return tqdm(total=total, desc=description, bar_format='{l_bar}{bar}| {n_fmt}/{total_fmt} [{elapsed}<{remaining}]')\n",
        "\n",
        "def wait_for_analytics(project_id, min_wait_time=30, max_wait_time=300, check_interval=10):\n",
        "    \"\"\"\n",
        "    Wait for ALL analytics to be complete before continuing.\n",
        "    This prevents NaN values from appearing in the summary table.\n",
        "    \"\"\"\n",
        "    import time\n",
        "\n",
        "    print(\"🔄 Waiting for analytics to process...\")\n",
        "    countdown_widget = widgets.HTML()\n",
        "    display(countdown_widget)\n",
        "\n",
        "    # Minimum wait with countdown\n",
        "    for remaining in range(min_wait_time, 0, -1):\n",
        "        countdown_widget.value = f\"\"\"\n",
        "        <div style=\"display: flex; align-items: center; gap: 10px; margin: 10px 0;\">\n",
        "            <div style=\"width: 20px; height: 20px; border: 2px solid #f3f3f3; border-top: 2px solid #3498db; border-radius: 50%; animation: spin 1s linear infinite;\"></div>\n",
        "            <span style=\"font-size: 14px; color: #555;\">Minimum wait period: {remaining} seconds remaining...</span>\n",
        "        </div>\n",
        "        <style>\n",
        "        @keyframes spin {{\n",
        "            0% {{ transform: rotate(0deg); }}\n",
        "            100% {{ transform: rotate(360deg); }}\n",
        "        }}\n",
        "        </style>\n",
        "        \"\"\"\n",
        "        time.sleep(1)\n",
        "\n",
        "    # Poll until ALL analytics are complete\n",
        "    start_polling = time.time()\n",
        "    attempt = 1\n",
        "\n",
        "    while (time.time() - start_polling) < (max_wait_time - min_wait_time):\n",
        "        try:\n",
        "            project = client.project.get_project_by_id(project_id)\n",
        "            files = project[\"file_list\"][1:]  # Skip base model\n",
        "\n",
        "            # Check that ALL files have both weight and bias contributions\n",
        "            files_missing_analytics = []\n",
        "            for f in files:\n",
        "                if (f.get(\"total_weight_contribution\") is None or\n",
        "                    f.get(\"total_bias_contribution\") is None):\n",
        "                    files_missing_analytics.append(f[\"file_name\"])\n",
        "\n",
        "            # Only continue if ALL analytics are complete\n",
        "            if not files_missing_analytics:\n",
        "                countdown_widget.value = \"\"\"\n",
        "                <div style=\"color: green; font-weight: bold; margin: 10px 0;\">\n",
        "                    ✅ All analytics are complete!\n",
        "                </div>\n",
        "                \"\"\"\n",
        "                return True\n",
        "\n",
        "            # Show progress with specific missing files\n",
        "            total_files = len(files)\n",
        "            completed_files = total_files - len(files_missing_analytics)\n",
        "            progress_pct = (completed_files / total_files * 100) if total_files > 0 else 0\n",
        "\n",
        "            missing_display = ', '.join(files_missing_analytics[:3])\n",
        "            if len(files_missing_analytics) > 3:\n",
        "                missing_display += f\" and {len(files_missing_analytics) - 3} more\"\n",
        "\n",
        "            countdown_widget.value = f\"\"\"\n",
        "            <div style=\"display: flex; align-items: center; gap: 10px; margin: 10px 0;\">\n",
        "                <div style=\"width: 20px; height: 20px; border: 2px solid #f3f3f3; border-top: 2px solid #orange; border-radius: 50%; animation: spin 1s linear infinite;\"></div>\n",
        "                <span style=\"font-size: 14px; color: #555;\">\n",
        "                    Attempt {attempt}: {completed_files}/{total_files} files complete ({progress_pct:.1f}%)\n",
        "                    <br/>⏳ Waiting for: {missing_display}\n",
        "                </span>\n",
        "            </div>\n",
        "            <style>\n",
        "            @keyframes spin {{\n",
        "                0% {{ transform: rotate(0deg); }}\n",
        "                100% {{ transform: rotate(360deg); }}\n",
        "            }}\n",
        "            </style>\n",
        "            \"\"\"\n",
        "            attempt += 1\n",
        "            time.sleep(check_interval)\n",
        "\n",
        "        except Exception as e:\n",
        "            print(f\"⚠️ Error checking analytics status: {e}\")\n",
        "            time.sleep(check_interval)\n",
        "\n",
        "    # Timeout reached - show final status\n",
        "    try:\n",
        "        project = client.project.get_project_by_id(project_id)\n",
        "        files = project[\"file_list\"][1:]\n",
        "        files_missing_analytics = [f[\"file_name\"] for f in files\n",
        "                                 if (f.get(\"total_weight_contribution\") is None or\n",
        "                                     f.get(\"total_bias_contribution\") is None)]\n",
        "\n",
        "        if files_missing_analytics:\n",
        "            countdown_widget.value = f\"\"\"\n",
        "            <div style=\"color: red; font-weight: bold; margin: 10px 0;\">\n",
        "                ⚠️ Timeout: Analytics incomplete for {len(files_missing_analytics)} files.\n",
        "                <br/>NaN values will appear for: {', '.join(files_missing_analytics[:5])}\n",
        "                <br/>Consider increasing wait time or contacting support.\n",
        "            </div>\n",
        "            \"\"\"\n",
        "            return False\n",
        "        else:\n",
        "            countdown_widget.value = \"\"\"\n",
        "            <div style=\"color: green; font-weight: bold; margin: 10px 0;\">\n",
        "                ✅ All analytics completed just in time!\n",
        "            </div>\n",
        "            \"\"\"\n",
        "            return True\n",
        "    except Exception as e:\n",
        "        countdown_widget.value = f\"\"\"\n",
        "        <div style=\"color: red; font-weight: bold; margin: 10px 0;\">\n",
        "            ❌ Error checking final status: {e}\n",
        "        </div>\n",
        "        \"\"\"\n",
        "        return False"
      ]
    },
    {
      "cell_type": "markdown",
      "id": "eb12db03c46ba80d",
      "metadata": {
        "id": "eb12db03c46ba80d"
      },
      "source": [
        "### Contact Authentrics for the URL and user credentials info@authentrics.ai"
      ]
    },
    {
      "cell_type": "code",
      "execution_count": 2,
      "id": "9eadfb109804e4bd",
      "metadata": {
        "ExecuteTime": {
          "end_time": "2025-08-04T21:57:19.033568Z",
          "start_time": "2025-08-04T21:57:19.026852Z"
        },
        "id": "9eadfb109804e4bd"
      },
      "outputs": [],
      "source": [
        "DEMO_SERVER_URL = input(\"Enter your Authentrics URL: \")\n",
        "PROJECT_NAME = \"Military Aircraft Classification\"\n",
        "\n",
        "pd.options.display.precision = 5\n",
        "pd.options.display.chop_threshold = None\n",
        "\n",
        "classes = [\n",
        "    \"A10\", \"AH64\", \"B1\", \"B52\",\n",
        "    \"C130\", \"C17\", \"C2\", \"EF2000\",\n",
        "    \"F15\", \"F16\", \"F18\", \"F22\",\n",
        "    \"F35\", \"F4\", \"J10\", \"J20\",\n",
        "    \"JAS39\", \"Rafale\", \"US2\", \"V22\",\n",
        "]"
      ]
    },
    {
      "cell_type": "markdown",
      "id": "ce3edd3f92054ed9",
      "metadata": {
        "id": "ce3edd3f92054ed9"
      },
      "source": [
        "### Establish a session with Authentrics\n",
        "- Rerun this cell if your session expires"
      ]
    },
    {
      "cell_type": "code",
      "execution_count": 3,
      "id": "50d8619235c75752",
      "metadata": {
        "ExecuteTime": {
          "end_time": "2025-08-04T21:57:59.494968Z",
          "start_time": "2025-08-04T21:57:50.532858Z"
        },
        "colab": {
          "base_uri": "https://localhost:8080/"
        },
        "id": "50d8619235c75752",
        "outputId": "34699578-dd00-4d1a-8e8a-05ae97e4426c"
      },
      "outputs": [
        {
          "name": "stdout",
          "output_type": "stream",
          "text": [
            "✅ Session established successfully!\n"
          ]
        }
      ],
      "source": [
        "client = authrx.AuthentricsClient(DEMO_SERVER_URL)\n",
        "client.auth.login()\n",
        "print(\"✅ Session established successfully!\")"
      ]
    },
    {
      "cell_type": "markdown",
      "id": "a118579c5b9c22e2",
      "metadata": {
        "id": "a118579c5b9c22e2"
      },
      "source": [
        "### Generate a project in Authentrics to track checkpoints, and perform asynchronous analytics\n",
        "1. Creates a project for checkpoint management.\n",
        "2. **Option A**: Point to existing checkpoint storage (no data movement required).\n",
        "3. **Option B**: Upload checkpoints directly through our client (automated storage and versioning)."
      ]
    },
    {
      "cell_type": "code",
      "execution_count": 4,
      "id": "40e92816e049c27",
      "metadata": {
        "ExecuteTime": {
          "end_time": "2025-08-04T21:58:03.088846Z",
          "start_time": "2025-08-04T21:58:02.431874Z"
        },
        "id": "40e92816e049c27"
      },
      "outputs": [],
      "source": [
        "projects = client.project.get_projects()\n",
        "if projects is not None:\n",
        "    project = next((p for p in projects if p[\"name\"].startswith(PROJECT_NAME)), None)\n",
        "    if project:\n",
        "        client.project.delete_project(project[\"id\"])\n",
        "\n",
        "PROJECT_NAME = PROJECT_NAME + \" \" + str(int(datetime.now().timestamp()))\n",
        "project = client.project.create_project(\n",
        "    PROJECT_NAME,\n",
        "    \"A classification CNN for some military aircraft\",\n",
        "    authrx.FileType.ONNX,\n",
        ")\n",
        "project_id = project[\"id\"]"
      ]
    },
    {
      "cell_type": "markdown",
      "id": "a4fa4f3236a95fa4",
      "metadata": {
        "id": "a4fa4f3236a95fa4"
      },
      "source": [
        "### Setup the checkpoints for demonstration"
      ]
    },
    {
      "cell_type": "code",
      "execution_count": 5,
      "id": "7eed094914576c4c",
      "metadata": {
        "ExecuteTime": {
          "end_time": "2025-08-04T21:58:11.823093Z",
          "start_time": "2025-08-04T21:58:05.537420Z"
        },
        "id": "7eed094914576c4c",
        "outputId": "1bb94ac2-b53e-4c95-b129-442ee6cbdf28"
      },
      "outputs": [
        {
          "data": {
            "application/vnd.jupyter.widget-view+json": {
              "model_id": "2afd69715bd049b6bf47d47dffd11cde",
              "version_major": 2,
              "version_minor": 0
            },
            "text/plain": [
              "HTML(value='\\n    <div style=\"display: flex; align-items: center; gap: 10px;\">\\n        <div style=\"width: 20p…"
            ]
          },
          "metadata": {},
          "output_type": "display_data"
        }
      ],
      "source": [
        "with loading_spinner(\"Please wait while we restore the checkpoint files...\"):\n",
        "    client.get('/transfer/MilAir')"
      ]
    },
    {
      "cell_type": "markdown",
      "id": "c45db9b2231c7a92",
      "metadata": {
        "id": "c45db9b2231c7a92"
      },
      "source": [
        "### Point the authentrics file registry to the checkpoints using the api"
      ]
    },
    {
      "cell_type": "code",
      "execution_count": 6,
      "id": "c325ec2c2f3230e1",
      "metadata": {
        "ExecuteTime": {
          "end_time": "2025-08-04T21:58:18.620792Z",
          "start_time": "2025-08-04T21:58:17.530391Z"
        },
        "id": "c325ec2c2f3230e1",
        "outputId": "8c23c382-4d2d-4c1b-d050-bf5ea3cec055"
      },
      "outputs": [
        {
          "name": "stdout",
          "output_type": "stream",
          "text": [
            "Adding checkpoints to project...\n"
          ]
        },
        {
          "data": {
            "application/vnd.jupyter.widget-view+json": {
              "model_id": "4b2b70398da54dc3a44affebd8030a58",
              "version_major": 2,
              "version_minor": 0
            },
            "text/plain": [
              "Adding checkpoints:   0%|          | 0/7 [00:00<?]"
            ]
          },
          "metadata": {},
          "output_type": "display_data"
        },
        {
          "name": "stdout",
          "output_type": "stream",
          "text": [
            "Project created with id: 68a627783474e04f1f93ac6c\n",
            "Project name: Military Aircraft Classification 1755719544\n",
            "File name: checkpoint_1.onnx\n",
            "File name: checkpoint_2.onnx\n",
            "File name: checkpoint_3.onnx\n",
            "File name: checkpoint_4.onnx\n",
            "File name: checkpoint_5.onnx\n",
            "File name: checkpoint_6.onnx\n",
            "File name: checkpoint_7.onnx\n",
            "\n",
            "============================================================\n",
            "📊 ANALYTICS PROCESSING\n",
            "============================================================\n",
            "Authentrics is now computing analytics in the background.\n",
            "This includes weight contributions and bias scores for each checkpoint.\n",
            "🔄 Waiting for analytics to process...\n"
          ]
        },
        {
          "data": {
            "application/vnd.jupyter.widget-view+json": {
              "model_id": "a83880af93004ef7b2960c75c9fe9610",
              "version_major": 2,
              "version_minor": 0
            },
            "text/plain": [
              "HTML(value='')"
            ]
          },
          "metadata": {},
          "output_type": "display_data"
        }
      ],
      "source": [
        "\n",
        "print(\"Adding checkpoints to project...\")\n",
        "with show_progress_bar(7, \"Adding checkpoints\") as pbar:\n",
        "    for i in range(7):\n",
        "        client.checkpoint.add_external_checkpoint(\n",
        "            project_id,\n",
        "            f\"demo-models/MilAir/checkpoint_{i+1}.onnx\",\n",
        "            authrx.FileType.ONNX,\n",
        "            file_name=f\"checkpoint_{i+1}.onnx\",\n",
        "            tag=f\"v{i+1}\",\n",
        "        )\n",
        "        pbar.update(1)\n",
        "project = client.project.get_project_by_id(project_id)\n",
        "print(f\"Project created with id: {project_id}\")\n",
        "print(f\"Project name: {project['name']}\")\n",
        "for file in project[\"file_list\"]:\n",
        "    print(f\"File name: {file['file_name']}\")\n",
        "\n",
        "# Wait for analytics to be processed before proceeding\n",
        "print(\"\\n\" + \"=\"*60)\n",
        "print(\"📊 ANALYTICS PROCESSING\")\n",
        "print(\"=\"*60)\n",
        "print(\"Authentrics is now computing analytics in the background.\")\n",
        "print(\"This includes weight contributions and bias scores for each checkpoint.\")\n",
        "\n",
        "analytics_ready = wait_for_analytics(project_id, min_wait_time=15, max_wait_time=180)\n",
        "if not analytics_ready:\n",
        "    print(\"\\n❌ Analytics are not complete.\")\n",
        "    print(\"Please wait a moment longer and then continue. Please contact support if the issue persists.\")"
      ]
    },
    {
      "cell_type": "markdown",
      "id": "P91T2opjwDWJ",
      "metadata": {
        "id": "P91T2opjwDWJ"
      },
      "source": [
        "Below we define helper functions for visualizing analytics and running inference\n"
      ]
    },
    {
      "cell_type": "code",
      "execution_count": 7,
      "id": "e7734c39f93486b3",
      "metadata": {
        "ExecuteTime": {
          "end_time": "2025-08-04T21:58:31.245491Z",
          "start_time": "2025-08-04T21:58:31.240066Z"
        },
        "id": "e7734c39f93486b3"
      },
      "outputs": [],
      "source": [
        "def softmax(x):\n",
        "    \"\"\"Compute softmax of a 1D array\"\"\"\n",
        "    e = np.exp(x)\n",
        "    return e / np.sum(e, axis=-1)\n",
        "\n",
        "def display_sensitivity_results(result: dict, columns: list[str], classes: list[str]):\n",
        "    \"\"\"Display results in a table using Pandas\"\"\"\n",
        "    series = {}\n",
        "    for col in columns:\n",
        "        arr = np.asarray(result[col]).flatten()\n",
        "        series[col] = softmax(arr) * 100\n",
        "\n",
        "    return pd.DataFrame(series, index=classes)\n",
        "\n",
        "def plot_heatmap(results, layer_name):\n",
        "    \"\"\"Plot static analysis of several checkpoints using matplotlib\"\"\"\n",
        "    arr = np.stack([\n",
        "        result[\"absolute_bias_difference\"][layer_name]\n",
        "        for result in results\n",
        "    ], axis=1)\n",
        "    num_results = len(results)\n",
        "\n",
        "    plt.matshow(arr)\n",
        "    plt.colorbar(aspect=10)\n",
        "\n",
        "    plt.xlabel(\"Checkpoint\")\n",
        "    plt.ylabel(\"Bias Shift\")\n",
        "\n",
        "    plt.xticks(range(num_results), np.arange(num_results) + 2)\n",
        "    plt.yticks(list(range(len(classes))), sorted(classes))\n",
        "\n",
        "    plt.show()\n",
        "\n",
        "def plot_contributions(project_id):\n",
        "    # Get files\n",
        "    project = client.project.get_project_by_id(project_id)\n",
        "    files = project['file_list']\n",
        "\n",
        "    weights = [f['total_weight_contribution'] for f in files]\n",
        "    bias = [f['total_bias_contribution'] for f in files]\n",
        "    file_names = [f['file_name'] for f in files]\n",
        "\n",
        "    # --- First plot: Weight Contributions ---\n",
        "    fig1, ax1 = plt.subplots(figsize=(10, 7))\n",
        "    ax1.plot(range(len(weights)), weights, marker='o', linestyle='-', alpha=0.6)\n",
        "    ax1.set_xticks(range(len(weights)))\n",
        "    ax1.set_xticklabels(file_names, rotation=45, ha='right')\n",
        "    ax1.set_xlabel('Checkpoints')\n",
        "    ax1.set_ylabel('Total Weight Contribution')\n",
        "    ax1.set_title('Weight Contributions by Training')\n",
        "    fig1.tight_layout()\n",
        "\n",
        "    # --- Second plot: Bias Contributions ---\n",
        "    fig2, ax2 = plt.subplots(figsize=(10, 7))\n",
        "    ax2.plot(range(len(bias)), bias, marker='o', linestyle='-', alpha=0.6)\n",
        "    ax2.set_xticks(range(len(bias)))\n",
        "    ax2.set_xticklabels(file_names, rotation=45, ha='right')\n",
        "    ax2.set_xlabel('Checkpoints')\n",
        "    ax2.set_ylabel('Total Bias Contribution')\n",
        "    ax2.set_title('Bias Contributions by Training')\n",
        "    fig2.tight_layout()\n",
        "\n",
        "    plt.show()"
      ]
    },
    {
      "cell_type": "markdown",
      "id": "d68fc170e00a9292",
      "metadata": {
        "id": "d68fc170e00a9292"
      },
      "source": [
        "## Analytics Results\n",
        "\n",
        "Authentrics computes analytics in the background to track model changes across training iterations.\n",
        "\n",
        "1. **Weight shift tracking**: The plot below demonstrates the average weight contribution changes as percentages, tracking how model weights evolve from one checkpoint to the next during training.\n",
        "\n",
        "2. **Integration ready**: This raw analytics data can trigger alerts for unusual changes or integrate with your existing business intelligence tools.\n",
        "\n",
        "3. **Data availability**: If you don't see the graph, analytics are still processing. Wait a few minutes and rerun the cell.\n",
        "\n"
      ]
    },
    {
      "cell_type": "code",
      "execution_count": 8,
      "id": "zTWXIg4Vv29l",
      "metadata": {
        "colab": {
          "base_uri": "https://localhost:8080/",
          "height": 1000
        },
        "id": "zTWXIg4Vv29l",
        "outputId": "51c782a5-0647-4147-c2d7-ccdfc736a0bc"
      },
      "outputs": [
        {
          "data": {
            "application/vnd.jupyter.widget-view+json": {
              "model_id": "b55146d888454206a2e37f41b94ef8f5",
              "version_major": 2,
              "version_minor": 0
            },
            "text/plain": [
              "HTML(value='\\n    <div style=\"display: flex; align-items: center; gap: 10px;\">\\n        <div style=\"width: 20p…"
            ]
          },
          "metadata": {},
          "output_type": "display_data"
        },
        {
          "data": {
            "image/png": "[encoded data removed]",
            "text/plain": [
              "<Figure size 1000x700 with 1 Axes>"
            ]
          },
          "metadata": {},
          "output_type": "display_data"
        },
        {
          "data": {
            "image/png": "[encoded data removed]",
            "text/plain": [
              "<Figure size 1000x700 with 1 Axes>"
            ]
          },
          "metadata": {},
          "output_type": "display_data"
        }
      ],
      "source": [
        "with loading_spinner(\"Generating weight contributions plot...\"):\n",
        "    plot_contributions(project_id)"
      ]
    },
    {
      "cell_type": "markdown",
      "id": "ac3ade79-6ed6-4b66-8829-1a6a1859fe2f",
      "metadata": {
        "id": "ac3ade79-6ed6-4b66-8829-1a6a1859fe2f",
        "tags": []
      },
      "source": [
        "### Static Analysis"
      ]
    },
    {
      "cell_type": "markdown",
      "id": "5856a701-4f42-4049-8b9f-1f31dc4c2342",
      "metadata": {
        "id": "5856a701-4f42-4049-8b9f-1f31dc4c2342"
      },
      "source": [
        "Static analysis is fast, even for a large model. There is no inference performed; we only inspect the parameters within the checkpoint itself."
      ]
    },
    {
      "cell_type": "code",
      "execution_count": 9,
      "id": "9be307c7-0d14-43f9-a0c3-52dbdce30acd",
      "metadata": {
        "ExecuteTime": {
          "end_time": "2025-08-04T21:58:37.962616Z",
          "start_time": "2025-08-04T21:58:35.252772Z"
        },
        "colab": {
          "base_uri": "https://localhost:8080/"
        },
        "id": "9be307c7-0d14-43f9-a0c3-52dbdce30acd",
        "outputId": "a1bff112-85aa-4244-e909-3230a0d35c81"
      },
      "outputs": [
        {
          "data": {
            "application/vnd.jupyter.widget-view+json": {
              "model_id": "51e008220869480aa73602a20d7289fd",
              "version_major": 2,
              "version_minor": 0
            },
            "text/plain": [
              "HTML(value='\\n    <div style=\"display: flex; align-items: center; gap: 10px;\">\\n        <div style=\"width: 20p…"
            ]
          },
          "metadata": {},
          "output_type": "display_data"
        },
        {
          "name": "stdout",
          "output_type": "stream",
          "text": [
            "CPU times: user 59.9 ms, sys: 12 ms, total: 71.9 ms\n",
            "Wall time: 2.33 s\n"
          ]
        }
      ],
      "source": [
        "%%time\n",
        "## Call Authentrics.ai software's static analysis\n",
        "file_ids = [f[\"id\"] for f in project[\"file_list\"]]\n",
        "with loading_spinner(\"Running static analysis...\"):\n",
        "    result = client.static.static_analysis(project_id, file_ids[1])"
      ]
    },
    {
      "cell_type": "markdown",
      "id": "f46c32c0-d400-4f54-a594-257395c905dd",
      "metadata": {
        "id": "f46c32c0-d400-4f54-a594-257395c905dd"
      },
      "source": [
        "This lists all the names of the bias parameters within the model."
      ]
    },
    {
      "cell_type": "code",
      "execution_count": 10,
      "id": "1bf1851c-2e59-4678-ae1d-7605f4ddb0d6",
      "metadata": {
        "ExecuteTime": {
          "end_time": "2025-08-04T21:55:32.323856Z",
          "start_time": "2025-08-04T21:55:32.317616Z"
        },
        "colab": {
          "base_uri": "https://localhost:8080/"
        },
        "id": "1bf1851c-2e59-4678-ae1d-7605f4ddb0d6",
        "outputId": "6a626d44-5739-4709-ccc4-a40875c59bee"
      },
      "outputs": [
        {
          "data": {
            "text/plain": [
              "['squeeze_edit_model.features.0.1.bias',\n",
              " 'squeeze_edit_model.features.1.0.block.0.1.bias',\n",
              " 'squeeze_edit_model.features.1.0.block.1.fc1.bias',\n",
              " 'squeeze_edit_model.features.1.0.block.1.fc2.bias',\n",
              " 'squeeze_edit_model.features.1.0.block.2.1.bias',\n",
              " 'squeeze_edit_model.features.1.1.block.0.1.bias',\n",
              " 'squeeze_edit_model.features.1.1.block.1.fc1.bias',\n",
              " 'squeeze_edit_model.features.1.1.block.1.fc2.bias',\n",
              " 'squeeze_edit_model.features.1.1.block.2.1.bias',\n",
              " 'squeeze_edit_model.features.2.0.block.0.1.bias',\n",
              " 'squeeze_edit_model.features.2.0.block.1.1.bias',\n",
              " 'squeeze_edit_model.features.2.0.block.2.fc1.bias',\n",
              " 'squeeze_edit_model.features.2.0.block.2.fc2.bias',\n",
              " 'squeeze_edit_model.features.2.0.block.3.1.bias',\n",
              " 'squeeze_edit_model.features.2.1.block.0.1.bias',\n",
              " 'squeeze_edit_model.features.2.1.block.1.1.bias',\n",
              " 'squeeze_edit_model.features.2.1.block.2.fc1.bias',\n",
              " 'squeeze_edit_model.features.2.1.block.2.fc2.bias',\n",
              " 'squeeze_edit_model.features.2.1.block.3.1.bias',\n",
              " 'squeeze_edit_model.features.2.2.block.0.1.bias',\n",
              " 'squeeze_edit_model.features.2.2.block.1.1.bias',\n",
              " 'squeeze_edit_model.features.2.2.block.2.fc1.bias',\n",
              " 'squeeze_edit_model.features.2.2.block.2.fc2.bias',\n",
              " 'squeeze_edit_model.features.2.2.block.3.1.bias',\n",
              " 'squeeze_edit_model.features.3.0.block.0.1.bias',\n",
              " 'squeeze_edit_model.features.3.0.block.1.1.bias',\n",
              " 'squeeze_edit_model.features.3.0.block.2.fc1.bias',\n",
              " 'squeeze_edit_model.features.3.0.block.2.fc2.bias',\n",
              " 'squeeze_edit_model.features.3.0.block.3.1.bias',\n",
              " 'squeeze_edit_model.features.3.1.block.0.1.bias',\n",
              " 'squeeze_edit_model.features.3.1.block.1.1.bias',\n",
              " 'squeeze_edit_model.features.3.1.block.2.fc1.bias',\n",
              " 'squeeze_edit_model.features.3.1.block.2.fc2.bias',\n",
              " 'squeeze_edit_model.features.3.1.block.3.1.bias',\n",
              " 'squeeze_edit_model.features.3.2.block.0.1.bias',\n",
              " 'squeeze_edit_model.features.3.2.block.1.1.bias',\n",
              " 'squeeze_edit_model.features.3.2.block.2.fc1.bias',\n",
              " 'squeeze_edit_model.features.3.2.block.2.fc2.bias',\n",
              " 'squeeze_edit_model.features.3.2.block.3.1.bias',\n",
              " 'squeeze_edit_model.features.4.0.block.0.1.bias',\n",
              " 'squeeze_edit_model.features.4.0.block.1.1.bias',\n",
              " 'squeeze_edit_model.features.4.0.block.2.fc1.bias',\n",
              " 'squeeze_edit_model.features.4.0.block.2.fc2.bias',\n",
              " 'squeeze_edit_model.features.4.0.block.3.1.bias',\n",
              " 'squeeze_edit_model.features.4.1.block.0.1.bias',\n",
              " 'squeeze_edit_model.features.4.1.block.1.1.bias',\n",
              " 'squeeze_edit_model.features.4.1.block.2.fc1.bias',\n",
              " 'squeeze_edit_model.features.4.1.block.2.fc2.bias',\n",
              " 'squeeze_edit_model.features.4.1.block.3.1.bias',\n",
              " 'squeeze_edit_model.features.4.2.block.0.1.bias',\n",
              " 'squeeze_edit_model.features.4.2.block.1.1.bias',\n",
              " 'squeeze_edit_model.features.4.2.block.2.fc1.bias',\n",
              " 'squeeze_edit_model.features.4.2.block.2.fc2.bias',\n",
              " 'squeeze_edit_model.features.4.2.block.3.1.bias',\n",
              " 'squeeze_edit_model.features.4.3.block.0.1.bias',\n",
              " 'squeeze_edit_model.features.4.3.block.1.1.bias',\n",
              " 'squeeze_edit_model.features.4.3.block.2.fc1.bias',\n",
              " 'squeeze_edit_model.features.4.3.block.2.fc2.bias',\n",
              " 'squeeze_edit_model.features.4.3.block.3.1.bias',\n",
              " 'squeeze_edit_model.features.4.4.block.0.1.bias',\n",
              " 'squeeze_edit_model.features.4.4.block.1.1.bias',\n",
              " 'squeeze_edit_model.features.4.4.block.2.fc1.bias',\n",
              " 'squeeze_edit_model.features.4.4.block.2.fc2.bias',\n",
              " 'squeeze_edit_model.features.4.4.block.3.1.bias',\n",
              " 'squeeze_edit_model.features.5.0.block.0.1.bias',\n",
              " 'squeeze_edit_model.features.5.0.block.1.1.bias',\n",
              " 'squeeze_edit_model.features.5.0.block.2.fc1.bias',\n",
              " 'squeeze_edit_model.features.5.0.block.2.fc2.bias',\n",
              " 'squeeze_edit_model.features.5.0.block.3.1.bias',\n",
              " 'squeeze_edit_model.features.5.1.block.0.1.bias',\n",
              " 'squeeze_edit_model.features.5.1.block.1.1.bias',\n",
              " 'squeeze_edit_model.features.5.1.block.2.fc1.bias',\n",
              " 'squeeze_edit_model.features.5.1.block.2.fc2.bias',\n",
              " 'squeeze_edit_model.features.5.1.block.3.1.bias',\n",
              " 'squeeze_edit_model.features.5.2.block.0.1.bias',\n",
              " 'squeeze_edit_model.features.5.2.block.1.1.bias',\n",
              " 'squeeze_edit_model.features.5.2.block.2.fc1.bias',\n",
              " 'squeeze_edit_model.features.5.2.block.2.fc2.bias',\n",
              " 'squeeze_edit_model.features.5.2.block.3.1.bias',\n",
              " 'squeeze_edit_model.features.5.3.block.0.1.bias',\n",
              " 'squeeze_edit_model.features.5.3.block.1.1.bias',\n",
              " 'squeeze_edit_model.features.5.3.block.2.fc1.bias',\n",
              " 'squeeze_edit_model.features.5.3.block.2.fc2.bias',\n",
              " 'squeeze_edit_model.features.5.3.block.3.1.bias',\n",
              " 'squeeze_edit_model.features.5.4.block.0.1.bias',\n",
              " 'squeeze_edit_model.features.5.4.block.1.1.bias',\n",
              " 'squeeze_edit_model.features.5.4.block.2.fc1.bias',\n",
              " 'squeeze_edit_model.features.5.4.block.2.fc2.bias',\n",
              " 'squeeze_edit_model.features.5.4.block.3.1.bias',\n",
              " 'squeeze_edit_model.features.6.0.block.0.1.bias',\n",
              " 'squeeze_edit_model.features.6.0.block.1.1.bias',\n",
              " 'squeeze_edit_model.features.6.0.block.2.fc1.bias',\n",
              " 'squeeze_edit_model.features.6.0.block.2.fc2.bias',\n",
              " 'squeeze_edit_model.features.6.0.block.3.1.bias',\n",
              " 'squeeze_edit_model.features.6.1.block.0.1.bias',\n",
              " 'squeeze_edit_model.features.6.1.block.1.1.bias',\n",
              " 'squeeze_edit_model.features.6.1.block.2.fc1.bias',\n",
              " 'squeeze_edit_model.features.6.1.block.2.fc2.bias',\n",
              " 'squeeze_edit_model.features.6.1.block.3.1.bias',\n",
              " 'squeeze_edit_model.features.6.2.block.0.1.bias',\n",
              " 'squeeze_edit_model.features.6.2.block.1.1.bias',\n",
              " 'squeeze_edit_model.features.6.2.block.2.fc1.bias',\n",
              " 'squeeze_edit_model.features.6.2.block.2.fc2.bias',\n",
              " 'squeeze_edit_model.features.6.2.block.3.1.bias',\n",
              " 'squeeze_edit_model.features.6.3.block.0.1.bias',\n",
              " 'squeeze_edit_model.features.6.3.block.1.1.bias',\n",
              " 'squeeze_edit_model.features.6.3.block.2.fc1.bias',\n",
              " 'squeeze_edit_model.features.6.3.block.2.fc2.bias',\n",
              " 'squeeze_edit_model.features.6.3.block.3.1.bias',\n",
              " 'squeeze_edit_model.features.6.4.block.0.1.bias',\n",
              " 'squeeze_edit_model.features.6.4.block.1.1.bias',\n",
              " 'squeeze_edit_model.features.6.4.block.2.fc1.bias',\n",
              " 'squeeze_edit_model.features.6.4.block.2.fc2.bias',\n",
              " 'squeeze_edit_model.features.6.4.block.3.1.bias',\n",
              " 'squeeze_edit_model.features.6.5.block.0.1.bias',\n",
              " 'squeeze_edit_model.features.6.5.block.1.1.bias',\n",
              " 'squeeze_edit_model.features.6.5.block.2.fc1.bias',\n",
              " 'squeeze_edit_model.features.6.5.block.2.fc2.bias',\n",
              " 'squeeze_edit_model.features.6.5.block.3.1.bias',\n",
              " 'squeeze_edit_model.features.7.0.block.0.1.bias',\n",
              " 'squeeze_edit_model.features.7.0.block.1.1.bias',\n",
              " 'squeeze_edit_model.features.7.0.block.2.fc1.bias',\n",
              " 'squeeze_edit_model.features.7.0.block.2.fc2.bias',\n",
              " 'squeeze_edit_model.features.7.0.block.3.1.bias',\n",
              " 'squeeze_edit_model.features.7.1.block.0.1.bias',\n",
              " 'squeeze_edit_model.features.7.1.block.1.1.bias',\n",
              " 'squeeze_edit_model.features.7.1.block.2.fc1.bias',\n",
              " 'squeeze_edit_model.features.7.1.block.2.fc2.bias',\n",
              " 'squeeze_edit_model.features.7.1.block.3.1.bias',\n",
              " 'squeeze_edit_model.features.8.1.bias',\n",
              " 'squeeze_edit_model.classifier.1.bias',\n",
              " 'squeeze_edit_model.classifier.4.bias']"
            ]
          },
          "execution_count": 10,
          "metadata": {},
          "output_type": "execute_result"
        }
      ],
      "source": [
        "list(result[\"absolute_bias_difference\"].keys())"
      ]
    },
    {
      "cell_type": "markdown",
      "id": "a596aef0-ed16-41a3-bb8e-7e1379eb1488",
      "metadata": {
        "id": "a596aef0-ed16-41a3-bb8e-7e1379eb1488"
      },
      "source": [
        "Performing static analysis on all the checkpoints can provide an overview of the model's transformation."
      ]
    },
    {
      "cell_type": "code",
      "execution_count": 11,
      "id": "f173392faa40631c",
      "metadata": {
        "ExecuteTime": {
          "end_time": "2025-08-04T21:55:53.389688Z",
          "start_time": "2025-08-04T21:55:35.199401Z"
        },
        "id": "f173392faa40631c",
        "outputId": "1721ea51-5cb7-405e-d959-9a0217b401e5"
      },
      "outputs": [
        {
          "data": {
            "application/vnd.jupyter.widget-view+json": {
              "model_id": "2376094c8c78498795e0e441307ac187",
              "version_major": 2,
              "version_minor": 0
            },
            "text/plain": [
              "HTML(value='\\n    <div style=\"display: flex; align-items: center; gap: 10px;\">\\n        <div style=\"width: 20p…"
            ]
          },
          "metadata": {},
          "output_type": "display_data"
        },
        {
          "name": "stdout",
          "output_type": "stream",
          "text": [
            "✅ Static analysis complete\n",
            "CPU times: user 347 ms, sys: 77 ms, total: 424 ms\n",
            "Wall time: 13.7 s\n"
          ]
        }
      ],
      "source": [
        "%%time\n",
        "## Call Authentrics.ai software's static analysis for each checkpoint file\n",
        "with loading_spinner(\"Running static analysis for each checkpoint file...\"):\n",
        "    results = [\n",
        "        client.static.static_analysis(project_id, project[\"file_list\"][i][\"id\"])\n",
        "        for i in range(1, 7)\n",
        "    ]\n",
        "print(\"✅ Static analysis complete\")"
      ]
    },
    {
      "cell_type": "markdown",
      "id": "8c577290-d156-4c27-b56e-956ab41c68a9",
      "metadata": {
        "id": "8c577290-d156-4c27-b56e-956ab41c68a9"
      },
      "source": [
        "The heatmap below shows the shift in bias values that occured between the labeled checkpoint and the one before it. In checkpoint 4, we labeled all F-series fighter jets as F4. In checkpoint 5, we revert to correctly labeled data. All other values lie in a small range around 0, indicating business as usual."
      ]
    },
    {
      "cell_type": "code",
      "execution_count": 12,
      "id": "39a3c6c7-e294-45ec-94f1-e0f36bff2e98",
      "metadata": {
        "ExecuteTime": {
          "end_time": "2025-08-04T21:56:01.476256Z",
          "start_time": "2025-08-04T21:56:01.229919Z"
        },
        "id": "39a3c6c7-e294-45ec-94f1-e0f36bff2e98",
        "outputId": "9e8969d5-5d8d-4a80-8b6a-a02397d31b9b"
      },
      "outputs": [
        {
          "data": {
            "application/vnd.jupyter.widget-view+json": {
              "model_id": "b29468df8525405ea7f06c928c624d0e",
              "version_major": 2,
              "version_minor": 0
            },
            "text/plain": [
              "HTML(value='\\n    <div style=\"display: flex; align-items: center; gap: 10px;\">\\n        <div style=\"width: 20p…"
            ]
          },
          "metadata": {},
          "output_type": "display_data"
        },
        {
          "data": {
            "image/png": "[encoded data removed]",
            "text/plain": [
              "<Figure size 400x1333.33 with 2 Axes>"
            ]
          },
          "metadata": {},
          "output_type": "display_data"
        }
      ],
      "source": [
        "with loading_spinner(\"Generating heatmap...\"):\n",
        "    plot_heatmap(results, \"squeeze_edit_model.classifier.4.bias\")"
      ]
    },
    {
      "cell_type": "markdown",
      "id": "39bfb2dc-8bf3-4af0-aec8-7a450a4896e0",
      "metadata": {
        "id": "39bfb2dc-8bf3-4af0-aec8-7a450a4896e0",
        "tags": []
      },
      "source": [
        "#### Authentrics software enables rapid identification of critical training issues\n",
        "\n",
        "Integration into your training workflow enables proactive issue detection, preventing problematic models from reaching production."
      ]
    },
    {
      "cell_type": "markdown",
      "id": "1f826a87-d617-4fb4-85d7-ee02cee7a825",
      "metadata": {
        "id": "1f826a87-d617-4fb4-85d7-ee02cee7a825",
        "tags": []
      },
      "source": [
        "### Dynamic Analysis With Sensitivity"
      ]
    },
    {
      "cell_type": "markdown",
      "id": "c8cecfd0-53ab-4389-8f71-d06830cb7819",
      "metadata": {
        "id": "c8cecfd0-53ab-4389-8f71-d06830cb7819"
      },
      "source": [
        "1. We run a stimulus of an f18 image through the model utilizing dymamic analysis on checkpoint 6 training data\n",
        "2. We attenuate (lessen) the effects of that training content and evaluate impact"
      ]
    },
    {
      "cell_type": "code",
      "execution_count": 13,
      "id": "6ac9f48b-db67-4831-acdc-a6932ef84ad1",
      "metadata": {
        "ExecuteTime": {
          "end_time": "2025-08-04T21:56:05.249609Z",
          "start_time": "2025-08-04T21:56:05.247013Z"
        },
        "id": "6ac9f48b-db67-4831-acdc-a6932ef84ad1"
      },
      "outputs": [],
      "source": [
        "stimulus_name = \"F18.jpg\" # @param {\"type\":\"string\"}"
      ]
    },
    {
      "cell_type": "code",
      "execution_count": 14,
      "id": "FiXy6UERHOCU",
      "metadata": {
        "colab": {
          "base_uri": "https://localhost:8080/"
        },
        "id": "FiXy6UERHOCU",
        "outputId": "0901675f-77a2-4e29-a85e-a9b81f562e47"
      },
      "outputs": [
        {
          "name": "stdout",
          "output_type": "stream",
          "text": [
            "--2025-08-20 19:53:04--  https://raw.githubusercontent.com/Authentrics-ai/demos/main/MilitaryAircraft/sample_images/F18.jpg\n",
            "Resolving raw.githubusercontent.com (raw.githubusercontent.com)... 185.199.109.133, 185.199.110.133, 185.199.108.133, ...\n",
            "Connecting to raw.githubusercontent.com (raw.githubusercontent.com)|185.199.109.133|:443... connected.\n",
            "HTTP request sent, awaiting response... 200 OK\n",
            "Length: 3979 (3.9K) [image/jpeg]\n",
            "Saving to: ‘sample_images/F18.jpg’\n",
            "\n",
            "sample_images/F18.j 100%[===================>]   3.89K  --.-KB/s    in 0s      \n",
            "\n",
            "2025-08-20 19:53:04 (69.5 MB/s) - ‘sample_images/F18.jpg’ saved [3979/3979]\n",
            "\n"
          ]
        }
      ],
      "source": [
        "os.makedirs(\"sample_images\", exist_ok=True)\n",
        "!wget -O sample_images/{stimulus_name} https://raw.githubusercontent.com/Authentrics-ai/demos/main/MilitaryAircraft/sample_images/{stimulus_name}\n",
        "filepath = f\"sample_images/{stimulus_name}\""
      ]
    },
    {
      "cell_type": "markdown",
      "id": "8b22427e-3712-431e-99f3-1979e06118f2",
      "metadata": {
        "id": "8b22427e-3712-431e-99f3-1979e06118f2"
      },
      "source": [
        "#### Vary the effect of the data in checkpoint 6 by 2%"
      ]
    },
    {
      "cell_type": "code",
      "execution_count": 15,
      "id": "68b9a18e00eedbc3",
      "metadata": {
        "ExecuteTime": {
          "end_time": "2025-08-04T21:56:31.814714Z",
          "start_time": "2025-08-04T21:56:27.402423Z"
        },
        "colab": {
          "base_uri": "https://localhost:8080/"
        },
        "id": "68b9a18e00eedbc3",
        "outputId": "736c0b75-2676-4711-d879-e751dbd16b2d"
      },
      "outputs": [
        {
          "name": "stdout",
          "output_type": "stream",
          "text": [
            "Running sensitivity analysis...\n"
          ]
        },
        {
          "data": {
            "application/vnd.jupyter.widget-view+json": {
              "model_id": "48b18a5ccaa645cc8e32387838a4da51",
              "version_major": 2,
              "version_minor": 0
            },
            "text/plain": [
              "HTML(value='\\n    <div style=\"display: flex; align-items: center; gap: 10px;\">\\n        <div style=\"width: 20p…"
            ]
          },
          "metadata": {},
          "output_type": "display_data"
        },
        {
          "name": "stdout",
          "output_type": "stream",
          "text": [
            "✅ Sensitivity analysis complete. Data attenuated by 0.02%.\n",
            "CPU times: user 13.3 ms, sys: 2.04 ms, total: 15.4 ms\n",
            "Wall time: 3.54 s\n"
          ]
        }
      ],
      "source": [
        "%%time\n",
        "## Call Authentrics.ai software's sensitivity analysis\n",
        "print(\"Running sensitivity analysis...\")\n",
        "amplitude = \"0.02\"\n",
        "with loading_spinner(\"Running sensitivity analysis...\"):\n",
        "    result = client.dynamic.single_sensitivity_analysis(\n",
        "        project_id,\n",
        "        project[\"file_list\"][5][\"id\"],\n",
        "        stimulus_path=filepath,\n",
        "        amplitude=amplitude,\n",
        "    )\n",
        "print(f\"✅ Sensitivity analysis complete. Data attenuated by {amplitude}%.\")"
      ]
    },
    {
      "cell_type": "markdown",
      "id": "61815da5-3b90-43e8-b58e-5278a234403a",
      "metadata": {
        "id": "61815da5-3b90-43e8-b58e-5278a234403a"
      },
      "source": [
        "Below, we show that the image of the F18 is correctly identified with greater confidence when the influence of checkpoint 6's training is attenuated by 2%."
      ]
    },
    {
      "cell_type": "code",
      "execution_count": 16,
      "id": "18e522bb-5b5e-4747-a386-a3151480cbeb",
      "metadata": {
        "ExecuteTime": {
          "end_time": "2025-08-04T21:56:34.765047Z",
          "start_time": "2025-08-04T21:56:34.736668Z"
        },
        "id": "18e522bb-5b5e-4747-a386-a3151480cbeb",
        "outputId": "58d4aa9a-1bc2-4b02-e260-72ca4b88ce78"
      },
      "outputs": [
        {
          "data": {
            "text/html": [
              "<div>\n",
              "<style scoped>\n",
              "    .dataframe tbody tr th:only-of-type {\n",
              "        vertical-align: middle;\n",
              "    }\n",
              "\n",
              "    .dataframe tbody tr th {\n",
              "        vertical-align: top;\n",
              "    }\n",
              "\n",
              "    .dataframe thead th {\n",
              "        text-align: right;\n",
              "    }\n",
              "</style>\n",
              "<table border=\"1\" class=\"dataframe\">\n",
              "  <thead>\n",
              "    <tr style=\"text-align: right;\">\n",
              "      <th></th>\n",
              "      <th>model_output</th>\n",
              "      <th>attenuated_model_output</th>\n",
              "    </tr>\n",
              "  </thead>\n",
              "  <tbody>\n",
              "    <tr>\n",
              "      <th>A10</th>\n",
              "      <td>0.25101</td>\n",
              "      <td>0.19127</td>\n",
              "    </tr>\n",
              "    <tr>\n",
              "      <th>AH64</th>\n",
              "      <td>0.00183</td>\n",
              "      <td>0.00110</td>\n",
              "    </tr>\n",
              "    <tr>\n",
              "      <th>B1</th>\n",
              "      <td>0.00546</td>\n",
              "      <td>0.00358</td>\n",
              "    </tr>\n",
              "    <tr>\n",
              "      <th>B52</th>\n",
              "      <td>0.00132</td>\n",
              "      <td>0.00069</td>\n",
              "    </tr>\n",
              "    <tr>\n",
              "      <th>C130</th>\n",
              "      <td>0.02841</td>\n",
              "      <td>0.01603</td>\n",
              "    </tr>\n",
              "    <tr>\n",
              "      <th>C17</th>\n",
              "      <td>0.00507</td>\n",
              "      <td>0.00276</td>\n",
              "    </tr>\n",
              "    <tr>\n",
              "      <th>C2</th>\n",
              "      <td>0.00589</td>\n",
              "      <td>0.00357</td>\n",
              "    </tr>\n",
              "    <tr>\n",
              "      <th>EF2000</th>\n",
              "      <td>0.00176</td>\n",
              "      <td>0.00104</td>\n",
              "    </tr>\n",
              "    <tr>\n",
              "      <th>F15</th>\n",
              "      <td>0.04834</td>\n",
              "      <td>0.03183</td>\n",
              "    </tr>\n",
              "    <tr>\n",
              "      <th>F16</th>\n",
              "      <td>0.02403</td>\n",
              "      <td>0.01553</td>\n",
              "    </tr>\n",
              "    <tr>\n",
              "      <th>F18</th>\n",
              "      <td>99.59202</td>\n",
              "      <td>99.71110</td>\n",
              "    </tr>\n",
              "    <tr>\n",
              "      <th>F22</th>\n",
              "      <td>0.00754</td>\n",
              "      <td>0.00476</td>\n",
              "    </tr>\n",
              "    <tr>\n",
              "      <th>F35</th>\n",
              "      <td>0.00822</td>\n",
              "      <td>0.00497</td>\n",
              "    </tr>\n",
              "    <tr>\n",
              "      <th>F4</th>\n",
              "      <td>0.00364</td>\n",
              "      <td>0.00229</td>\n",
              "    </tr>\n",
              "    <tr>\n",
              "      <th>J10</th>\n",
              "      <td>0.00147</td>\n",
              "      <td>0.00089</td>\n",
              "    </tr>\n",
              "    <tr>\n",
              "      <th>J20</th>\n",
              "      <td>0.00164</td>\n",
              "      <td>0.00104</td>\n",
              "    </tr>\n",
              "    <tr>\n",
              "      <th>JAS39</th>\n",
              "      <td>0.00768</td>\n",
              "      <td>0.00470</td>\n",
              "    </tr>\n",
              "    <tr>\n",
              "      <th>Rafale</th>\n",
              "      <td>0.00066</td>\n",
              "      <td>0.00037</td>\n",
              "    </tr>\n",
              "    <tr>\n",
              "      <th>US2</th>\n",
              "      <td>0.00028</td>\n",
              "      <td>0.00014</td>\n",
              "    </tr>\n",
              "    <tr>\n",
              "      <th>V22</th>\n",
              "      <td>0.00373</td>\n",
              "      <td>0.00233</td>\n",
              "    </tr>\n",
              "  </tbody>\n",
              "</table>\n",
              "</div>"
            ],
            "text/plain": [
              "        model_output  attenuated_model_output\n",
              "A10          0.25101                  0.19127\n",
              "AH64         0.00183                  0.00110\n",
              "B1           0.00546                  0.00358\n",
              "B52          0.00132                  0.00069\n",
              "C130         0.02841                  0.01603\n",
              "C17          0.00507                  0.00276\n",
              "C2           0.00589                  0.00357\n",
              "EF2000       0.00176                  0.00104\n",
              "F15          0.04834                  0.03183\n",
              "F16          0.02403                  0.01553\n",
              "F18         99.59202                 99.71110\n",
              "F22          0.00754                  0.00476\n",
              "F35          0.00822                  0.00497\n",
              "F4           0.00364                  0.00229\n",
              "J10          0.00147                  0.00089\n",
              "J20          0.00164                  0.00104\n",
              "JAS39        0.00768                  0.00470\n",
              "Rafale       0.00066                  0.00037\n",
              "US2          0.00028                  0.00014\n",
              "V22          0.00373                  0.00233"
            ]
          },
          "execution_count": 16,
          "metadata": {},
          "output_type": "execute_result"
        }
      ],
      "source": [
        "display_sensitivity_results(result, [\"model_output\", \"attenuated_model_output\"], classes)"
      ]
    },
    {
      "cell_type": "markdown",
      "id": "a5bef8c7-14b8-4030-87d9-0d3f7bb582a5",
      "metadata": {
        "id": "a5bef8c7-14b8-4030-87d9-0d3f7bb582a5",
        "tags": []
      },
      "source": [
        "#### Vary the effect of the data in checkpoint 6 by 4%"
      ]
    },
    {
      "cell_type": "code",
      "execution_count": 17,
      "id": "e3b83334-6b76-472d-9373-10479a17a1b2",
      "metadata": {
        "ExecuteTime": {
          "end_time": "2025-08-04T21:56:52.397195Z",
          "start_time": "2025-08-04T21:56:48.112598Z"
        },
        "id": "e3b83334-6b76-472d-9373-10479a17a1b2",
        "outputId": "68370836-a56e-4be3-f16c-30d06fd21168"
      },
      "outputs": [
        {
          "name": "stdout",
          "output_type": "stream",
          "text": [
            "Running sensitivity analysis...\n"
          ]
        },
        {
          "data": {
            "application/vnd.jupyter.widget-view+json": {
              "model_id": "205db4e17cf64e868a5239c2a56cb344",
              "version_major": 2,
              "version_minor": 0
            },
            "text/plain": [
              "HTML(value='\\n    <div style=\"display: flex; align-items: center; gap: 10px;\">\\n        <div style=\"width: 20p…"
            ]
          },
          "metadata": {},
          "output_type": "display_data"
        },
        {
          "name": "stdout",
          "output_type": "stream",
          "text": [
            "✅ Sensitivity analysis complete. Data attenuated by 0.04%.\n",
            "CPU times: user 6.47 ms, sys: 1.03 ms, total: 7.5 ms\n",
            "Wall time: 4.39 s\n"
          ]
        }
      ],
      "source": [
        "%%time\n",
        "## Call Authentrics.ai software's sensitivity analysis\n",
        "print(\"Running sensitivity analysis...\")\n",
        "amplitude = \"0.04\"\n",
        "with loading_spinner(\"Running sensitivity analysis...\"):\n",
        "    result = client.dynamic.single_sensitivity_analysis(\n",
        "        project_id,\n",
        "        project[\"file_list\"][5][\"id\"],\n",
        "        filepath,\n",
        "        amplitude,\n",
        "    )\n",
        "print(f\"✅ Sensitivity analysis complete. Data attenuated by {amplitude}%.\")"
      ]
    },
    {
      "cell_type": "markdown",
      "id": "ab161bc0-59ea-4398-814d-2a5cfae66287",
      "metadata": {
        "id": "ab161bc0-59ea-4398-814d-2a5cfae66287"
      },
      "source": [
        "Similarly, when amplified by 4%, the model increases its confidence. However, this amplified model must be checked against other stimuli to ensure that it does not skew the rest of the results (batch analysis to come)."
      ]
    },
    {
      "cell_type": "code",
      "execution_count": 18,
      "id": "368d4796-c69d-4f42-a707-09f47785e480",
      "metadata": {
        "ExecuteTime": {
          "end_time": "2025-08-04T21:56:56.350591Z",
          "start_time": "2025-08-04T21:56:56.337980Z"
        },
        "id": "368d4796-c69d-4f42-a707-09f47785e480",
        "outputId": "a650d383-8cef-49e6-d3b6-e84474ddc81c"
      },
      "outputs": [
        {
          "data": {
            "text/html": [
              "<div>\n",
              "<style scoped>\n",
              "    .dataframe tbody tr th:only-of-type {\n",
              "        vertical-align: middle;\n",
              "    }\n",
              "\n",
              "    .dataframe tbody tr th {\n",
              "        vertical-align: top;\n",
              "    }\n",
              "\n",
              "    .dataframe thead th {\n",
              "        text-align: right;\n",
              "    }\n",
              "</style>\n",
              "<table border=\"1\" class=\"dataframe\">\n",
              "  <thead>\n",
              "    <tr style=\"text-align: right;\">\n",
              "      <th></th>\n",
              "      <th>model_output</th>\n",
              "      <th>attenuated_model_output</th>\n",
              "    </tr>\n",
              "  </thead>\n",
              "  <tbody>\n",
              "    <tr>\n",
              "      <th>A10</th>\n",
              "      <td>0.26213</td>\n",
              "      <td>0.15482</td>\n",
              "    </tr>\n",
              "    <tr>\n",
              "      <th>AH64</th>\n",
              "      <td>0.00197</td>\n",
              "      <td>0.00077</td>\n",
              "    </tr>\n",
              "    <tr>\n",
              "      <th>B1</th>\n",
              "      <td>0.00604</td>\n",
              "      <td>0.00272</td>\n",
              "    </tr>\n",
              "    <tr>\n",
              "      <th>B52</th>\n",
              "      <td>0.00105</td>\n",
              "      <td>0.00030</td>\n",
              "    </tr>\n",
              "    <tr>\n",
              "      <th>C130</th>\n",
              "      <td>0.03898</td>\n",
              "      <td>0.01298</td>\n",
              "    </tr>\n",
              "    <tr>\n",
              "      <th>C17</th>\n",
              "      <td>0.00476</td>\n",
              "      <td>0.00145</td>\n",
              "    </tr>\n",
              "    <tr>\n",
              "      <th>C2</th>\n",
              "      <td>0.00411</td>\n",
              "      <td>0.00152</td>\n",
              "    </tr>\n",
              "    <tr>\n",
              "      <th>EF2000</th>\n",
              "      <td>0.00132</td>\n",
              "      <td>0.00047</td>\n",
              "    </tr>\n",
              "    <tr>\n",
              "      <th>F15</th>\n",
              "      <td>0.04442</td>\n",
              "      <td>0.02043</td>\n",
              "    </tr>\n",
              "    <tr>\n",
              "      <th>F16</th>\n",
              "      <td>0.02574</td>\n",
              "      <td>0.01124</td>\n",
              "    </tr>\n",
              "    <tr>\n",
              "      <th>F18</th>\n",
              "      <td>99.57395</td>\n",
              "      <td>99.77879</td>\n",
              "    </tr>\n",
              "    <tr>\n",
              "      <th>F22</th>\n",
              "      <td>0.00715</td>\n",
              "      <td>0.00314</td>\n",
              "    </tr>\n",
              "    <tr>\n",
              "      <th>F35</th>\n",
              "      <td>0.00852</td>\n",
              "      <td>0.00342</td>\n",
              "    </tr>\n",
              "    <tr>\n",
              "      <th>F4</th>\n",
              "      <td>0.00468</td>\n",
              "      <td>0.00198</td>\n",
              "    </tr>\n",
              "    <tr>\n",
              "      <th>J10</th>\n",
              "      <td>0.00146</td>\n",
              "      <td>0.00057</td>\n",
              "    </tr>\n",
              "    <tr>\n",
              "      <th>J20</th>\n",
              "      <td>0.00135</td>\n",
              "      <td>0.00059</td>\n",
              "    </tr>\n",
              "    <tr>\n",
              "      <th>JAS39</th>\n",
              "      <td>0.00871</td>\n",
              "      <td>0.00339</td>\n",
              "    </tr>\n",
              "    <tr>\n",
              "      <th>Rafale</th>\n",
              "      <td>0.00058</td>\n",
              "      <td>0.00019</td>\n",
              "    </tr>\n",
              "    <tr>\n",
              "      <th>US2</th>\n",
              "      <td>0.00030</td>\n",
              "      <td>0.00008</td>\n",
              "    </tr>\n",
              "    <tr>\n",
              "      <th>V22</th>\n",
              "      <td>0.00278</td>\n",
              "      <td>0.00115</td>\n",
              "    </tr>\n",
              "  </tbody>\n",
              "</table>\n",
              "</div>"
            ],
            "text/plain": [
              "        model_output  attenuated_model_output\n",
              "A10          0.26213                  0.15482\n",
              "AH64         0.00197                  0.00077\n",
              "B1           0.00604                  0.00272\n",
              "B52          0.00105                  0.00030\n",
              "C130         0.03898                  0.01298\n",
              "C17          0.00476                  0.00145\n",
              "C2           0.00411                  0.00152\n",
              "EF2000       0.00132                  0.00047\n",
              "F15          0.04442                  0.02043\n",
              "F16          0.02574                  0.01124\n",
              "F18         99.57395                 99.77879\n",
              "F22          0.00715                  0.00314\n",
              "F35          0.00852                  0.00342\n",
              "F4           0.00468                  0.00198\n",
              "J10          0.00146                  0.00057\n",
              "J20          0.00135                  0.00059\n",
              "JAS39        0.00871                  0.00339\n",
              "Rafale       0.00058                  0.00019\n",
              "US2          0.00030                  0.00008\n",
              "V22          0.00278                  0.00115"
            ]
          },
          "execution_count": 18,
          "metadata": {},
          "output_type": "execute_result"
        }
      ],
      "source": [
        "display_sensitivity_results(result, [\"model_output\", \"attenuated_model_output\"], classes)"
      ]
    },
    {
      "cell_type": "code",
      "execution_count": null,
      "id": "c01d63c2-613f-4528-b124-ffcbe77e020c",
      "metadata": {
        "id": "c01d63c2-613f-4528-b124-ffcbe77e020c"
      },
      "outputs": [],
      "source": []
    }
  ],
  "metadata": {
    "colab": {
      "collapsed_sections": [
        "cf50b13093ec83f0"
      ],
      "provenance": []
    },
    "environment": {
      "kernel": "conda-base-py",
      "name": "workbench-notebooks.m129",
      "type": "gcloud",
      "uri": "us-docker.pkg.dev/deeplearning-platform-release/gcr.io/workbench-notebooks:m129"
    },
    "kernelspec": {
      "display_name": ".venv",
      "language": "python",
      "name": "python3"
    },
    "language_info": {
      "codemirror_mode": {
        "name": "ipython",
        "version": 3
      },
      "file_extension": ".py",
      "mimetype": "text/x-python",
      "name": "python",
      "nbconvert_exporter": "python",
      "pygments_lexer": "ipython3",
      "version": "3.12.3"
    }
  },
  "nbformat": 4,
  "nbformat_minor": 5
}
