{
 "cells": [
  {
   "cell_type": "markdown",
   "id": "224f19fc-b5bd-489a-87d4-dba081b5bdca",
   "metadata": {},
   "source": [
    "# Demonstration of Authentrics.ai Static & Dynamic Analysis\n",
    "# Note: This demo uses publicly available aircraft types for classification purposes.\n",
    "# No sensitive or classified military information is included."
   ]
  },
  {
   "cell_type": "markdown",
   "id": "15cf81ea-bb4a-4f8b-b5b2-2aca0fdfd1db",
   "metadata": {
    "tags": []
   },
   "source": [
    "## Setup"
   ]
  },
  {
   "cell_type": "markdown",
   "id": "ef1bf65e-e6b6-4d66-bef3-362fce180c5c",
   "metadata": {
    "tags": []
   },
   "source": [
    "### Authentrics setup"
   ]
  },
  {
   "cell_type": "code",
   "execution_count": null,
   "id": "f6d36fad",
   "metadata": {},
   "outputs": [],
   "source": [
    "%%capture\n",
    "\n",
    "%pip install matplotlib numpy pandas\n",
    "%pip install 'git+https://github.com/Authentrics-ai/authentrics-client.git'"
   ]
  },
  {
   "cell_type": "code",
   "execution_count": null,
   "id": "43c19803-8056-44db-8e4d-b0237e35e320",
   "metadata": {
    "tags": []
   },
   "outputs": [],
   "source": [
    "import matplotlib.pyplot as plt\n",
    "import numpy as np\n",
    "import pandas as pd\n",
    "import authentrics_client as authrx\n",
    "\n",
    "URL = \"http://[AUTHENTRICS_SERVER_URL]\"\n",
    "PROJECT_NAME = \"Military Aircraft Classification\"\n",
    "\n",
    "pd.options.display.precision = 5\n",
    "pd.options.display.chop_threshold = None\n",
    "\n",
    "classes = [\n",
    "    \"A10\", \"AH64\", \"B1\", \"B52\",\n",
    "    \"C130\", \"C17\", \"C2\", \"EF2000\",\n",
    "    \"F15\", \"F16\", \"F18\", \"F22\",\n",
    "    \"F35\", \"F4\", \"J10\", \"J20\",\n",
    "    \"JAS39\", \"Rafale\", \"US2\", \"V22\",\n",
    "]"
   ]
  },
  {
   "cell_type": "code",
   "execution_count": null,
   "id": "99a18591-488b-47c8-ac83-9f1bbf7e6568",
   "metadata": {
    "tags": []
   },
   "outputs": [],
   "source": [
    "client = authrx.AuthentricsClient(URL)\n",
    "client.auth.login()"
   ]
  },
  {
   "cell_type": "code",
   "execution_count": null,
   "id": "6fa6555c",
   "metadata": {},
   "outputs": [],
   "source": [
    "# Test that the client works and that no project exists with this name\n",
    "project = client.project.get_project_by_name(PROJECT_NAME)\n",
    "if project is not None:\n",
    "    client.project.delete_project(project[\"id\"])\n",
    "\n",
    "project = client.project.create_project(\n",
    "    PROJECT_NAME,\n",
    "    \"A classification CNN for some military aircraft\",\n",
    "    authrx.FileType.ONNX,\n",
    ")\n",
    "project_id = project[\"id\"]\n",
    "\n",
    "# Add checkpoints from bucket\n",
    "for i in range(7):\n",
    "    client.checkpoint.add_external_checkpoint(\n",
    "        project_id,\n",
    "        f\"demo-models/MilAir/checkpoint_{i+1}.onnx\",\n",
    "        authrx.FileType.ONNX,\n",
    "        file_name=f\"checkpoint_{i+1}.onnx\",\n",
    "        tag=f\"v{i+1}\",\n",
    "    )"
   ]
  },
  {
   "cell_type": "code",
   "execution_count": null,
   "id": "ccada6a9",
   "metadata": {},
   "outputs": [],
   "source": [
    "# Add checkpoints from bucket\n",
    "for i in range(7):\n",
    "    client.checkpoint.add_external_checkpoint(\n",
    "        project_id,\n",
    "        f\"demo_models/MilAir/checkpoint_{i+1}.onnx\",\n",
    "        authrx.FileType.ONNX,\n",
    "        file_name=f\"checkpoint_{i+1}.onnx\",\n",
    "        tag=f\"v{i+1}\",\n",
    "    )\n",
    "\n",
    "project = client.project.get_project_by_id(project_id)"
   ]
  },
  {
   "cell_type": "code",
   "execution_count": 3,
   "id": "10ba5e65-8306-4e14-8b7b-c4c20f4717a1",
   "metadata": {},
   "outputs": [],
   "source": [
    "def softmax(x):\n",
    "    \"\"\"Compute softmax of a 1D array\"\"\"\n",
    "    e = np.exp(x)\n",
    "    return e / np.sum(e, axis=-1)\n",
    "\n",
    "def display_sensitivity_results(result: dict, columns: list[str], classes: list[str]):\n",
    "    \"\"\"Display results in a table using Pandas\"\"\"\n",
    "    series = {}\n",
    "    for col in columns:\n",
    "        arr = np.asarray(result[col]).flatten()\n",
    "        series[col] = softmax(arr) * 100\n",
    "\n",
    "    return pd.DataFrame(series, index=classes)\n",
    "\n",
    "def plot_heatmap(results, layer_name):\n",
    "    \"\"\"Plot static analysis of several checkpoints using matplotlib\"\"\"\n",
    "    arr = np.stack([\n",
    "        result[\"absolute_bias_difference\"][layer_name]\n",
    "        for result in results\n",
    "    ], axis=1)\n",
    "    num_results = len(results)\n",
    "\n",
    "    plt.matshow(arr)\n",
    "    plt.colorbar(aspect=10)\n",
    "\n",
    "    plt.xlabel(\"Checkpoint\")\n",
    "    plt.ylabel(\"Bias Shift\")\n",
    "\n",
    "    plt.xticks(range(num_results), np.arange(num_results) + 2)\n",
    "    plt.yticks(list(range(len(classes))), sorted(classes))\n",
    "\n",
    "    plt.show()"
   ]
  },
  {
   "cell_type": "markdown",
   "id": "ac3ade79-6ed6-4b66-8829-1a6a1859fe2f",
   "metadata": {
    "tags": []
   },
   "source": [
    "## Static Analysis"
   ]
  },
  {
   "cell_type": "markdown",
   "id": "5856a701-4f42-4049-8b9f-1f31dc4c2342",
   "metadata": {},
   "source": [
    "Static analysis is fast, even for a large model. There is no inference performed; we only inspect the parameters within the checkpoint itself."
   ]
  },
  {
   "cell_type": "code",
   "execution_count": null,
   "id": "9be307c7-0d14-43f9-a0c3-52dbdce30acd",
   "metadata": {},
   "outputs": [
    {
     "name": "stdout",
     "output_type": "stream",
     "text": [
      "CPU times: user 46.6 ms, sys: 11.9 ms, total: 58.6 ms\n",
      "Wall time: 1.75 s\n"
     ]
    }
   ],
   "source": [
    "%%time\n",
    "## Call Authentrics.ai software's static analysis\n",
    "file_ids = [f[\"id\"] for f in project[\"file_list\"]]\n",
    "result = client.static.static_analysis(project_id, file_ids[1])"
   ]
  },
  {
   "cell_type": "markdown",
   "id": "f46c32c0-d400-4f54-a594-257395c905dd",
   "metadata": {},
   "source": [
    "This lists all the names of the bias parameters within the model."
   ]
  },
  {
   "cell_type": "code",
   "execution_count": 5,
   "id": "1bf1851c-2e59-4678-ae1d-7605f4ddb0d6",
   "metadata": {},
   "outputs": [
    {
     "data": {
      "text/plain": [
       "['squeeze_edit_model.features.0.1.bias',\n",
       " 'squeeze_edit_model.features.1.0.block.0.1.bias',\n",
       " 'squeeze_edit_model.features.1.0.block.1.fc1.bias',\n",
       " 'squeeze_edit_model.features.1.0.block.1.fc2.bias',\n",
       " 'squeeze_edit_model.features.1.0.block.2.1.bias',\n",
       " 'squeeze_edit_model.features.1.1.block.0.1.bias',\n",
       " 'squeeze_edit_model.features.1.1.block.1.fc1.bias',\n",
       " 'squeeze_edit_model.features.1.1.block.1.fc2.bias',\n",
       " 'squeeze_edit_model.features.1.1.block.2.1.bias',\n",
       " 'squeeze_edit_model.features.2.0.block.0.1.bias',\n",
       " 'squeeze_edit_model.features.2.0.block.1.1.bias',\n",
       " 'squeeze_edit_model.features.2.0.block.2.fc1.bias',\n",
       " 'squeeze_edit_model.features.2.0.block.2.fc2.bias',\n",
       " 'squeeze_edit_model.features.2.0.block.3.1.bias',\n",
       " 'squeeze_edit_model.features.2.1.block.0.1.bias',\n",
       " 'squeeze_edit_model.features.2.1.block.1.1.bias',\n",
       " 'squeeze_edit_model.features.2.1.block.2.fc1.bias',\n",
       " 'squeeze_edit_model.features.2.1.block.2.fc2.bias',\n",
       " 'squeeze_edit_model.features.2.1.block.3.1.bias',\n",
       " 'squeeze_edit_model.features.2.2.block.0.1.bias',\n",
       " 'squeeze_edit_model.features.2.2.block.1.1.bias',\n",
       " 'squeeze_edit_model.features.2.2.block.2.fc1.bias',\n",
       " 'squeeze_edit_model.features.2.2.block.2.fc2.bias',\n",
       " 'squeeze_edit_model.features.2.2.block.3.1.bias',\n",
       " 'squeeze_edit_model.features.3.0.block.0.1.bias',\n",
       " 'squeeze_edit_model.features.3.0.block.1.1.bias',\n",
       " 'squeeze_edit_model.features.3.0.block.2.fc1.bias',\n",
       " 'squeeze_edit_model.features.3.0.block.2.fc2.bias',\n",
       " 'squeeze_edit_model.features.3.0.block.3.1.bias',\n",
       " 'squeeze_edit_model.features.3.1.block.0.1.bias',\n",
       " 'squeeze_edit_model.features.3.1.block.1.1.bias',\n",
       " 'squeeze_edit_model.features.3.1.block.2.fc1.bias',\n",
       " 'squeeze_edit_model.features.3.1.block.2.fc2.bias',\n",
       " 'squeeze_edit_model.features.3.1.block.3.1.bias',\n",
       " 'squeeze_edit_model.features.3.2.block.0.1.bias',\n",
       " 'squeeze_edit_model.features.3.2.block.1.1.bias',\n",
       " 'squeeze_edit_model.features.3.2.block.2.fc1.bias',\n",
       " 'squeeze_edit_model.features.3.2.block.2.fc2.bias',\n",
       " 'squeeze_edit_model.features.3.2.block.3.1.bias',\n",
       " 'squeeze_edit_model.features.4.0.block.0.1.bias',\n",
       " 'squeeze_edit_model.features.4.0.block.1.1.bias',\n",
       " 'squeeze_edit_model.features.4.0.block.2.fc1.bias',\n",
       " 'squeeze_edit_model.features.4.0.block.2.fc2.bias',\n",
       " 'squeeze_edit_model.features.4.0.block.3.1.bias',\n",
       " 'squeeze_edit_model.features.4.1.block.0.1.bias',\n",
       " 'squeeze_edit_model.features.4.1.block.1.1.bias',\n",
       " 'squeeze_edit_model.features.4.1.block.2.fc1.bias',\n",
       " 'squeeze_edit_model.features.4.1.block.2.fc2.bias',\n",
       " 'squeeze_edit_model.features.4.1.block.3.1.bias',\n",
       " 'squeeze_edit_model.features.4.2.block.0.1.bias',\n",
       " 'squeeze_edit_model.features.4.2.block.1.1.bias',\n",
       " 'squeeze_edit_model.features.4.2.block.2.fc1.bias',\n",
       " 'squeeze_edit_model.features.4.2.block.2.fc2.bias',\n",
       " 'squeeze_edit_model.features.4.2.block.3.1.bias',\n",
       " 'squeeze_edit_model.features.4.3.block.0.1.bias',\n",
       " 'squeeze_edit_model.features.4.3.block.1.1.bias',\n",
       " 'squeeze_edit_model.features.4.3.block.2.fc1.bias',\n",
       " 'squeeze_edit_model.features.4.3.block.2.fc2.bias',\n",
       " 'squeeze_edit_model.features.4.3.block.3.1.bias',\n",
       " 'squeeze_edit_model.features.4.4.block.0.1.bias',\n",
       " 'squeeze_edit_model.features.4.4.block.1.1.bias',\n",
       " 'squeeze_edit_model.features.4.4.block.2.fc1.bias',\n",
       " 'squeeze_edit_model.features.4.4.block.2.fc2.bias',\n",
       " 'squeeze_edit_model.features.4.4.block.3.1.bias',\n",
       " 'squeeze_edit_model.features.5.0.block.0.1.bias',\n",
       " 'squeeze_edit_model.features.5.0.block.1.1.bias',\n",
       " 'squeeze_edit_model.features.5.0.block.2.fc1.bias',\n",
       " 'squeeze_edit_model.features.5.0.block.2.fc2.bias',\n",
       " 'squeeze_edit_model.features.5.0.block.3.1.bias',\n",
       " 'squeeze_edit_model.features.5.1.block.0.1.bias',\n",
       " 'squeeze_edit_model.features.5.1.block.1.1.bias',\n",
       " 'squeeze_edit_model.features.5.1.block.2.fc1.bias',\n",
       " 'squeeze_edit_model.features.5.1.block.2.fc2.bias',\n",
       " 'squeeze_edit_model.features.5.1.block.3.1.bias',\n",
       " 'squeeze_edit_model.features.5.2.block.0.1.bias',\n",
       " 'squeeze_edit_model.features.5.2.block.1.1.bias',\n",
       " 'squeeze_edit_model.features.5.2.block.2.fc1.bias',\n",
       " 'squeeze_edit_model.features.5.2.block.2.fc2.bias',\n",
       " 'squeeze_edit_model.features.5.2.block.3.1.bias',\n",
       " 'squeeze_edit_model.features.5.3.block.0.1.bias',\n",
       " 'squeeze_edit_model.features.5.3.block.1.1.bias',\n",
       " 'squeeze_edit_model.features.5.3.block.2.fc1.bias',\n",
       " 'squeeze_edit_model.features.5.3.block.2.fc2.bias',\n",
       " 'squeeze_edit_model.features.5.3.block.3.1.bias',\n",
       " 'squeeze_edit_model.features.5.4.block.0.1.bias',\n",
       " 'squeeze_edit_model.features.5.4.block.1.1.bias',\n",
       " 'squeeze_edit_model.features.5.4.block.2.fc1.bias',\n",
       " 'squeeze_edit_model.features.5.4.block.2.fc2.bias',\n",
       " 'squeeze_edit_model.features.5.4.block.3.1.bias',\n",
       " 'squeeze_edit_model.features.6.0.block.0.1.bias',\n",
       " 'squeeze_edit_model.features.6.0.block.1.1.bias',\n",
       " 'squeeze_edit_model.features.6.0.block.2.fc1.bias',\n",
       " 'squeeze_edit_model.features.6.0.block.2.fc2.bias',\n",
       " 'squeeze_edit_model.features.6.0.block.3.1.bias',\n",
       " 'squeeze_edit_model.features.6.1.block.0.1.bias',\n",
       " 'squeeze_edit_model.features.6.1.block.1.1.bias',\n",
       " 'squeeze_edit_model.features.6.1.block.2.fc1.bias',\n",
       " 'squeeze_edit_model.features.6.1.block.2.fc2.bias',\n",
       " 'squeeze_edit_model.features.6.1.block.3.1.bias',\n",
       " 'squeeze_edit_model.features.6.2.block.0.1.bias',\n",
       " 'squeeze_edit_model.features.6.2.block.1.1.bias',\n",
       " 'squeeze_edit_model.features.6.2.block.2.fc1.bias',\n",
       " 'squeeze_edit_model.features.6.2.block.2.fc2.bias',\n",
       " 'squeeze_edit_model.features.6.2.block.3.1.bias',\n",
       " 'squeeze_edit_model.features.6.3.block.0.1.bias',\n",
       " 'squeeze_edit_model.features.6.3.block.1.1.bias',\n",
       " 'squeeze_edit_model.features.6.3.block.2.fc1.bias',\n",
       " 'squeeze_edit_model.features.6.3.block.2.fc2.bias',\n",
       " 'squeeze_edit_model.features.6.3.block.3.1.bias',\n",
       " 'squeeze_edit_model.features.6.4.block.0.1.bias',\n",
       " 'squeeze_edit_model.features.6.4.block.1.1.bias',\n",
       " 'squeeze_edit_model.features.6.4.block.2.fc1.bias',\n",
       " 'squeeze_edit_model.features.6.4.block.2.fc2.bias',\n",
       " 'squeeze_edit_model.features.6.4.block.3.1.bias',\n",
       " 'squeeze_edit_model.features.6.5.block.0.1.bias',\n",
       " 'squeeze_edit_model.features.6.5.block.1.1.bias',\n",
       " 'squeeze_edit_model.features.6.5.block.2.fc1.bias',\n",
       " 'squeeze_edit_model.features.6.5.block.2.fc2.bias',\n",
       " 'squeeze_edit_model.features.6.5.block.3.1.bias',\n",
       " 'squeeze_edit_model.features.7.0.block.0.1.bias',\n",
       " 'squeeze_edit_model.features.7.0.block.1.1.bias',\n",
       " 'squeeze_edit_model.features.7.0.block.2.fc1.bias',\n",
       " 'squeeze_edit_model.features.7.0.block.2.fc2.bias',\n",
       " 'squeeze_edit_model.features.7.0.block.3.1.bias',\n",
       " 'squeeze_edit_model.features.7.1.block.0.1.bias',\n",
       " 'squeeze_edit_model.features.7.1.block.1.1.bias',\n",
       " 'squeeze_edit_model.features.7.1.block.2.fc1.bias',\n",
       " 'squeeze_edit_model.features.7.1.block.2.fc2.bias',\n",
       " 'squeeze_edit_model.features.7.1.block.3.1.bias',\n",
       " 'squeeze_edit_model.features.8.1.bias',\n",
       " 'squeeze_edit_model.classifier.1.bias',\n",
       " 'squeeze_edit_model.classifier.4.bias']"
      ]
     },
     "execution_count": 5,
     "metadata": {},
     "output_type": "execute_result"
    }
   ],
   "source": [
    "list(result[\"absolute_bias_difference\"].keys())"
   ]
  },
  {
   "cell_type": "markdown",
   "id": "a596aef0-ed16-41a3-bb8e-7e1379eb1488",
   "metadata": {},
   "source": [
    "Performing static analysis on all the checkpoints can provide an overview of the model's transformation."
   ]
  },
  {
   "cell_type": "code",
   "execution_count": null,
   "id": "e903ad0a-f866-4f10-b586-af708760e8a4",
   "metadata": {},
   "outputs": [
    {
     "name": "stdout",
     "output_type": "stream",
     "text": [
      "CPU times: user 273 ms, sys: 65.8 ms, total: 339 ms\n",
      "Wall time: 10.9 s\n"
     ]
    }
   ],
   "source": [
    "%%time\n",
    "## Call Authentrics.ai software's static analysis for each checkpoint file\n",
    "results = [\n",
    "    client.static_analysis(project_id, project[\"file_list\"][i][\"id\"])\n",
    "    for i in range(1, 7)\n",
    "]"
   ]
  },
  {
   "cell_type": "markdown",
   "id": "8c577290-d156-4c27-b56e-956ab41c68a9",
   "metadata": {},
   "source": [
    "The below heatmap shows the shift in bias values that occured between the labeled checkpoint and the one before it. In checkpoint 4, we labeled all F-series fighter jets as F4. In checkpoint 5, we revert to correctly labeled data. All other values lie in a small range around 0, indicating business as usual."
   ]
  },
  {
   "cell_type": "code",
   "execution_count": 7,
   "id": "39a3c6c7-e294-45ec-94f1-e0f36bff2e98",
   "metadata": {},
   "outputs": [
    {
     "data": {
      "image/png": "[encoded data removed]",
      "text/plain": [
       "<Figure size 400x1333.33 with 2 Axes>"
      ]
     },
     "metadata": {},
     "output_type": "display_data"
    }
   ],
   "source": [
    "plot_heatmap(results, \"squeeze_edit_model.classifier.4.bias\")\n"
   ]
  },
  {
   "cell_type": "markdown",
   "id": "39bfb2dc-8bf3-4af0-aec8-7a450a4896e0",
   "metadata": {
    "tags": []
   },
   "source": [
    "### Authentrics software allows you to quickly identify critical issues\n",
    "\n",
    "This can be incorporated into the training process, signaling issues with the training before preforming inference."
   ]
  },
  {
   "cell_type": "markdown",
   "id": "1f826a87-d617-4fb4-85d7-ee02cee7a825",
   "metadata": {
    "tags": []
   },
   "source": [
    "## Dynamic Analysis With Sensitivity"
   ]
  },
  {
   "cell_type": "markdown",
   "id": "c8cecfd0-53ab-4389-8f71-d06830cb7819",
   "metadata": {},
   "source": [
    "1. We run a stimulus of an f18 image through the model utilizing dymamic analysis on checkpoint 6 training data\n",
    "2. We attenuate (lessen) the effects of that training content and evaluate impact"
   ]
  },
  {
   "cell_type": "code",
   "execution_count": 8,
   "id": "6ac9f48b-db67-4831-acdc-a6932ef84ad1",
   "metadata": {},
   "outputs": [],
   "source": [
    "filepath = \"sample_images/F18.jpg\" # @param {\"type\":\"string\"}"
   ]
  },
  {
   "cell_type": "markdown",
   "id": "8b22427e-3712-431e-99f3-1979e06118f2",
   "metadata": {},
   "source": [
    "### Vary the effect of the data in checkpoint 6 by 2%"
   ]
  },
  {
   "cell_type": "code",
   "execution_count": null,
   "id": "ca7d51c2-4549-4fda-ade3-e2c519f408a0",
   "metadata": {},
   "outputs": [
    {
     "name": "stdout",
     "output_type": "stream",
     "text": [
      "CPU times: user 6.2 ms, sys: 2.01 ms, total: 8.2 ms\n",
      "Wall time: 3.65 s\n"
     ]
    }
   ],
   "source": [
    "%%time\n",
    "## Call Authentrics.ai software's sensitivity analysis\n",
    "result = client.dynamic.single_sensitivity_analysis(\n",
    "    project_id,\n",
    "    project[\"file_list\"][5][\"id\"],\n",
    "    filepath,\n",
    "    0.02,\n",
    ")"
   ]
  },
  {
   "cell_type": "markdown",
   "id": "61815da5-3b90-43e8-b58e-5278a234403a",
   "metadata": {},
   "source": [
    "Below, we show that the image of the F18 is correctly identified with greater confidence when the influence of checkpoint 6's training is attenuated by 2%."
   ]
  },
  {
   "cell_type": "code",
   "execution_count": 10,
   "id": "18e522bb-5b5e-4747-a386-a3151480cbeb",
   "metadata": {},
   "outputs": [
    {
     "data": {
      "text/html": [
       "<div>\n",
       "<style scoped>\n",
       "    .dataframe tbody tr th:only-of-type {\n",
       "        vertical-align: middle;\n",
       "    }\n",
       "\n",
       "    .dataframe tbody tr th {\n",
       "        vertical-align: top;\n",
       "    }\n",
       "\n",
       "    .dataframe thead th {\n",
       "        text-align: right;\n",
       "    }\n",
       "</style>\n",
       "<table border=\"1\" class=\"dataframe\">\n",
       "  <thead>\n",
       "    <tr style=\"text-align: right;\">\n",
       "      <th></th>\n",
       "      <th>model_output</th>\n",
       "      <th>attenuated_model_output</th>\n",
       "    </tr>\n",
       "  </thead>\n",
       "  <tbody>\n",
       "    <tr>\n",
       "      <th>A10</th>\n",
       "      <td>0.47957</td>\n",
       "      <td>0.36456</td>\n",
       "    </tr>\n",
       "    <tr>\n",
       "      <th>AH64</th>\n",
       "      <td>0.00386</td>\n",
       "      <td>0.00235</td>\n",
       "    </tr>\n",
       "    <tr>\n",
       "      <th>B1</th>\n",
       "      <td>0.00912</td>\n",
       "      <td>0.00603</td>\n",
       "    </tr>\n",
       "    <tr>\n",
       "      <th>B52</th>\n",
       "      <td>0.00237</td>\n",
       "      <td>0.00126</td>\n",
       "    </tr>\n",
       "    <tr>\n",
       "      <th>C130</th>\n",
       "      <td>0.05219</td>\n",
       "      <td>0.02953</td>\n",
       "    </tr>\n",
       "    <tr>\n",
       "      <th>C17</th>\n",
       "      <td>0.00940</td>\n",
       "      <td>0.00519</td>\n",
       "    </tr>\n",
       "    <tr>\n",
       "      <th>C2</th>\n",
       "      <td>0.00752</td>\n",
       "      <td>0.00452</td>\n",
       "    </tr>\n",
       "    <tr>\n",
       "      <th>EF2000</th>\n",
       "      <td>0.00370</td>\n",
       "      <td>0.00221</td>\n",
       "    </tr>\n",
       "    <tr>\n",
       "      <th>F15</th>\n",
       "      <td>0.07627</td>\n",
       "      <td>0.05128</td>\n",
       "    </tr>\n",
       "    <tr>\n",
       "      <th>F16</th>\n",
       "      <td>0.03883</td>\n",
       "      <td>0.02548</td>\n",
       "    </tr>\n",
       "    <tr>\n",
       "      <th>F18</th>\n",
       "      <td>99.24031</td>\n",
       "      <td>99.45874</td>\n",
       "    </tr>\n",
       "    <tr>\n",
       "      <th>F22</th>\n",
       "      <td>0.01477</td>\n",
       "      <td>0.00959</td>\n",
       "    </tr>\n",
       "    <tr>\n",
       "      <th>F35</th>\n",
       "      <td>0.02064</td>\n",
       "      <td>0.01317</td>\n",
       "    </tr>\n",
       "    <tr>\n",
       "      <th>F4</th>\n",
       "      <td>0.00783</td>\n",
       "      <td>0.00503</td>\n",
       "    </tr>\n",
       "    <tr>\n",
       "      <th>J10</th>\n",
       "      <td>0.00288</td>\n",
       "      <td>0.00176</td>\n",
       "    </tr>\n",
       "    <tr>\n",
       "      <th>J20</th>\n",
       "      <td>0.00376</td>\n",
       "      <td>0.00245</td>\n",
       "    </tr>\n",
       "    <tr>\n",
       "      <th>JAS39</th>\n",
       "      <td>0.01894</td>\n",
       "      <td>0.01198</td>\n",
       "    </tr>\n",
       "    <tr>\n",
       "      <th>Rafale</th>\n",
       "      <td>0.00137</td>\n",
       "      <td>0.00079</td>\n",
       "    </tr>\n",
       "    <tr>\n",
       "      <th>US2</th>\n",
       "      <td>0.00066</td>\n",
       "      <td>0.00033</td>\n",
       "    </tr>\n",
       "    <tr>\n",
       "      <th>V22</th>\n",
       "      <td>0.00600</td>\n",
       "      <td>0.00376</td>\n",
       "    </tr>\n",
       "  </tbody>\n",
       "</table>\n",
       "</div>"
      ],
      "text/plain": [
       "        model_output  attenuated_model_output\n",
       "A10          0.47957                  0.36456\n",
       "AH64         0.00386                  0.00235\n",
       "B1           0.00912                  0.00603\n",
       "B52          0.00237                  0.00126\n",
       "C130         0.05219                  0.02953\n",
       "C17          0.00940                  0.00519\n",
       "C2           0.00752                  0.00452\n",
       "EF2000       0.00370                  0.00221\n",
       "F15          0.07627                  0.05128\n",
       "F16          0.03883                  0.02548\n",
       "F18         99.24031                 99.45874\n",
       "F22          0.01477                  0.00959\n",
       "F35          0.02064                  0.01317\n",
       "F4           0.00783                  0.00503\n",
       "J10          0.00288                  0.00176\n",
       "J20          0.00376                  0.00245\n",
       "JAS39        0.01894                  0.01198\n",
       "Rafale       0.00137                  0.00079\n",
       "US2          0.00066                  0.00033\n",
       "V22          0.00600                  0.00376"
      ]
     },
     "execution_count": 10,
     "metadata": {},
     "output_type": "execute_result"
    }
   ],
   "source": [
    "display_sensitivity_results(result, [\"model_output\", \"attenuated_model_output\"], classes)"
   ]
  },
  {
   "cell_type": "markdown",
   "id": "a5bef8c7-14b8-4030-87d9-0d3f7bb582a5",
   "metadata": {
    "tags": []
   },
   "source": [
    "### Vary the effect of the data in checkpoint 6 by 4%"
   ]
  },
  {
   "cell_type": "code",
   "execution_count": null,
   "id": "e3b83334-6b76-472d-9373-10479a17a1b2",
   "metadata": {},
   "outputs": [
    {
     "name": "stdout",
     "output_type": "stream",
     "text": [
      "CPU times: user 2.54 ms, sys: 988 μs, total: 3.53 ms\n",
      "Wall time: 3.2 s\n"
     ]
    }
   ],
   "source": [
    "%%time\n",
    "## Call Authentrics.ai software's sensitivity analysis\n",
    "result = client.dynamic.single_sensitivity_analysis(\n",
    "    project_id,\n",
    "    project[\"file_list\"][5][\"id\"],\n",
    "    filepath,\n",
    "    0.04,\n",
    ")"
   ]
  },
  {
   "cell_type": "markdown",
   "id": "ab161bc0-59ea-4398-814d-2a5cfae66287",
   "metadata": {},
   "source": [
    "Similarly, when amplified by 4%, the model increases its confidence. However, this amplified model must be checked against other stimuli to ensure that it does not skew the rest of the results (batch analysis to come)."
   ]
  },
  {
   "cell_type": "code",
   "execution_count": 12,
   "id": "368d4796-c69d-4f42-a707-09f47785e480",
   "metadata": {},
   "outputs": [
    {
     "data": {
      "text/html": [
       "<div>\n",
       "<style scoped>\n",
       "    .dataframe tbody tr th:only-of-type {\n",
       "        vertical-align: middle;\n",
       "    }\n",
       "\n",
       "    .dataframe tbody tr th {\n",
       "        vertical-align: top;\n",
       "    }\n",
       "\n",
       "    .dataframe thead th {\n",
       "        text-align: right;\n",
       "    }\n",
       "</style>\n",
       "<table border=\"1\" class=\"dataframe\">\n",
       "  <thead>\n",
       "    <tr style=\"text-align: right;\">\n",
       "      <th></th>\n",
       "      <th>model_output</th>\n",
       "      <th>attenuated_model_output</th>\n",
       "    </tr>\n",
       "  </thead>\n",
       "  <tbody>\n",
       "    <tr>\n",
       "      <th>A10</th>\n",
       "      <td>0.12444</td>\n",
       "      <td>0.06718</td>\n",
       "    </tr>\n",
       "    <tr>\n",
       "      <th>AH64</th>\n",
       "      <td>0.00107</td>\n",
       "      <td>0.00040</td>\n",
       "    </tr>\n",
       "    <tr>\n",
       "      <th>B1</th>\n",
       "      <td>0.00328</td>\n",
       "      <td>0.00142</td>\n",
       "    </tr>\n",
       "    <tr>\n",
       "      <th>B52</th>\n",
       "      <td>0.00072</td>\n",
       "      <td>0.00020</td>\n",
       "    </tr>\n",
       "    <tr>\n",
       "      <th>C130</th>\n",
       "      <td>0.01854</td>\n",
       "      <td>0.00610</td>\n",
       "    </tr>\n",
       "    <tr>\n",
       "      <th>C17</th>\n",
       "      <td>0.00304</td>\n",
       "      <td>0.00094</td>\n",
       "    </tr>\n",
       "    <tr>\n",
       "      <th>C2</th>\n",
       "      <td>0.00277</td>\n",
       "      <td>0.00099</td>\n",
       "    </tr>\n",
       "    <tr>\n",
       "      <th>EF2000</th>\n",
       "      <td>0.00118</td>\n",
       "      <td>0.00042</td>\n",
       "    </tr>\n",
       "    <tr>\n",
       "      <th>F15</th>\n",
       "      <td>0.03314</td>\n",
       "      <td>0.01445</td>\n",
       "    </tr>\n",
       "    <tr>\n",
       "      <th>F16</th>\n",
       "      <td>0.01589</td>\n",
       "      <td>0.00672</td>\n",
       "    </tr>\n",
       "    <tr>\n",
       "      <th>F18</th>\n",
       "      <td>99.77401</td>\n",
       "      <td>99.89257</td>\n",
       "    </tr>\n",
       "    <tr>\n",
       "      <th>F22</th>\n",
       "      <td>0.00516</td>\n",
       "      <td>0.00218</td>\n",
       "    </tr>\n",
       "    <tr>\n",
       "      <th>F35</th>\n",
       "      <td>0.00537</td>\n",
       "      <td>0.00204</td>\n",
       "    </tr>\n",
       "    <tr>\n",
       "      <th>F4</th>\n",
       "      <td>0.00242</td>\n",
       "      <td>0.00098</td>\n",
       "    </tr>\n",
       "    <tr>\n",
       "      <th>J10</th>\n",
       "      <td>0.00071</td>\n",
       "      <td>0.00026</td>\n",
       "    </tr>\n",
       "    <tr>\n",
       "      <th>J20</th>\n",
       "      <td>0.00062</td>\n",
       "      <td>0.00024</td>\n",
       "    </tr>\n",
       "    <tr>\n",
       "      <th>JAS39</th>\n",
       "      <td>0.00507</td>\n",
       "      <td>0.00193</td>\n",
       "    </tr>\n",
       "    <tr>\n",
       "      <th>Rafale</th>\n",
       "      <td>0.00038</td>\n",
       "      <td>0.00012</td>\n",
       "    </tr>\n",
       "    <tr>\n",
       "      <th>US2</th>\n",
       "      <td>0.00017</td>\n",
       "      <td>0.00004</td>\n",
       "    </tr>\n",
       "    <tr>\n",
       "      <th>V22</th>\n",
       "      <td>0.00204</td>\n",
       "      <td>0.00082</td>\n",
       "    </tr>\n",
       "  </tbody>\n",
       "</table>\n",
       "</div>"
      ],
      "text/plain": [
       "        model_output  attenuated_model_output\n",
       "A10          0.12444                  0.06718\n",
       "AH64         0.00107                  0.00040\n",
       "B1           0.00328                  0.00142\n",
       "B52          0.00072                  0.00020\n",
       "C130         0.01854                  0.00610\n",
       "C17          0.00304                  0.00094\n",
       "C2           0.00277                  0.00099\n",
       "EF2000       0.00118                  0.00042\n",
       "F15          0.03314                  0.01445\n",
       "F16          0.01589                  0.00672\n",
       "F18         99.77401                 99.89257\n",
       "F22          0.00516                  0.00218\n",
       "F35          0.00537                  0.00204\n",
       "F4           0.00242                  0.00098\n",
       "J10          0.00071                  0.00026\n",
       "J20          0.00062                  0.00024\n",
       "JAS39        0.00507                  0.00193\n",
       "Rafale       0.00038                  0.00012\n",
       "US2          0.00017                  0.00004\n",
       "V22          0.00204                  0.00082"
      ]
     },
     "execution_count": 12,
     "metadata": {},
     "output_type": "execute_result"
    }
   ],
   "source": [
    "display_sensitivity_results(result, [\"model_output\", \"attenuated_model_output\"], classes)"
   ]
  },
  {
   "cell_type": "code",
   "execution_count": null,
   "id": "c01d63c2-613f-4528-b124-ffcbe77e020c",
   "metadata": {},
   "outputs": [],
   "source": []
  }
 ],
 "metadata": {
  "environment": {
   "kernel": "conda-base-py",
   "name": "workbench-notebooks.m129",
   "type": "gcloud",
   "uri": "us-docker.pkg.dev/deeplearning-platform-release/gcr.io/workbench-notebooks:m129"
  },
  "kernelspec": {
   "display_name": ".venv",
   "language": "python",
   "name": "python3"
  },
  "language_info": {
   "codemirror_mode": {
    "name": "ipython",
    "version": 3
   },
   "file_extension": ".py",
   "mimetype": "text/x-python",
   "name": "python",
   "nbconvert_exporter": "python",
   "pygments_lexer": "ipython3",
   "version": "3.12.3"
  }
 },
 "nbformat": 4,
 "nbformat_minor": 5
}
